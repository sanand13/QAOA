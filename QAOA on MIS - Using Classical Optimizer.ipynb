{
 "cells": [
  {
   "cell_type": "markdown",
   "metadata": {},
   "source": [
    "# CS 269Q: Final Project - QAOA on MIS\n",
    "***\n",
    "## Part 1: Using Classical Optimizer"
   ]
  },
  {
   "cell_type": "markdown",
   "metadata": {},
   "source": [
    "__Note:__ Part 2: Using Grid Search is documented on another notebook."
   ]
  },
  {
   "cell_type": "markdown",
   "metadata": {},
   "source": [
    "__GOAL:__ Generate random MIS instances for simulation on the QVM and benchmark against various noise models."
   ]
  },
  {
   "cell_type": "code",
   "execution_count": 1,
   "metadata": {},
   "outputs": [],
   "source": [
    "from pyquil import Program\n",
    "from pyquil.api import WavefunctionSimulator\n",
    "from pyquil.gates import H, I, RX, CNOT, RESET\n",
    "from pyquil.paulis import sZ, sX, sI, exponentiate_commuting_pauli_sum\n",
    "from scipy.optimize import minimize\n",
    "\n",
    "import operator\n",
    "import numpy as np\n",
    "from typing import List, Tuple\n",
    "import matplotlib.pyplot as plt"
   ]
  },
  {
   "cell_type": "markdown",
   "metadata": {},
   "source": [
    "From arXiv:1808.10816v1 [quant-ph], the variational wavefunctionn is prepared using the following hamiltonians:\n",
    "\n",
    "$$H_p = \\sum_{v \\in V} -\\Delta n_v + \\sum_{(v,w) \\in E} U n_v n_w$$\n",
    "\n",
    "$$H_Q = \\sum_{v \\in V} \\Omega \\sigma_v^x + \\sum_{(v,w) \\in E} U n_v n_w$$\n",
    "\n",
    "where $n_v = |1>_v<1| = \\frac{I - \\sigma_z}{2}$"
   ]
  },
  {
   "cell_type": "markdown",
   "metadata": {},
   "source": [
    "__Generating Graphs:__ For the purposes of this project, I will be generating the random graphs in Wolfram Mathematica using the command `g = RandomGraph[{nodes, edges}]` and then retrieving the edge representation using `EdgeList[g]` where g is the graph I generated. I chose Mathematica, as it can be used to calculate the Maximum Independent Set of the graph using the command `Sort[FindIndependentVertexSet[g, Length /@ FindIndependentVertexSet[g], All]]` and thus verify the solution found via QAOA."
   ]
  },
  {
   "cell_type": "markdown",
   "metadata": {},
   "source": [
    "## Section 1: Running on the QVM"
   ]
  },
  {
   "cell_type": "code",
   "execution_count": 2,
   "metadata": {},
   "outputs": [],
   "source": [
    "def elist_from_math(string: str) -> str:\n",
    "    '''\n",
    "    Formats the edge list provided by Mathematica.\n",
    "    '''\n",
    "    string = string.replace(',','), (')\n",
    "    string = string.replace(' <->',',')\n",
    "    return eval('(' + string + ')')"
   ]
  },
  {
   "cell_type": "code",
   "execution_count": 3,
   "metadata": {},
   "outputs": [],
   "source": [
    "def get_hamil(num_nodes: int, edge_list: List[Tuple[int, int]], delta: float, \n",
    "              U: float, omega: float) -> 'PauliSum, PauliSum':\n",
    "    '''\n",
    "    For a given graph, and values of hyperparameters, returns the cost and driver Hamiltonians.\n",
    "    '''\n",
    "    # Mathematica labels nodes starting at 1 but we label qubits starting at 0\n",
    "    nodes = list(range(0,num_nodes))\n",
    "    edges = [(i-1,j-1) for i,j in edge_list]\n",
    "    \n",
    "    h_cost = -0.5* delta * sum((sI(i) - sZ(i)) for i in nodes) + 0.25 * U * sum((sI(i) - sZ(i))*(sI(j) - sZ(j)) for i, j in edges)\n",
    "    h_driver = omega*sum(sX(i) for i in nodes) + 0.25*U * sum((sI(i) - sZ(i))*(sI(j) - sZ(j)) for i, j in edges)\n",
    "    return h_cost, h_driver"
   ]
  },
  {
   "cell_type": "markdown",
   "metadata": {},
   "source": [
    "### Noisless Implementation"
   ]
  },
  {
   "cell_type": "code",
   "execution_count": 4,
   "metadata": {},
   "outputs": [],
   "source": [
    "def mis_ansatz(betas: List[float], gammas: List[float]) -> Program:\n",
    "    '''\n",
    "    Returns the program to create the MIS ansatz.\n",
    "    '''\n",
    "    pq = Program(RESET())\n",
    "    pq += [exponentiate_commuting_pauli_sum(h_cost)(g) + exponentiate_commuting_pauli_sum(h_driver)(b) \n",
    "                for g, b in zip(gammas, betas)]\n",
    "    return pq"
   ]
  },
  {
   "cell_type": "code",
   "execution_count": 5,
   "metadata": {},
   "outputs": [],
   "source": [
    "def mis_cost(params: List[float]) -> float:\n",
    "    '''\n",
    "    Returns the value of the cost function given params.\n",
    "    '''\n",
    "    half = int(len(params)/2)\n",
    "    betas, gammas = params[:half], params[half:]\n",
    "    pq = mis_ansatz(betas, gammas)\n",
    "    return WavefunctionSimulator().expectation(prep_prog = pq, pauli_terms = h_cost)"
   ]
  },
  {
   "cell_type": "code",
   "execution_count": 14,
   "metadata": {},
   "outputs": [],
   "source": [
    "def run_qaoa_mis(p: int, params: List[float], correct_state: str) -> 'dict key-value pair, float':\n",
    "    '''\n",
    "    Returns the mpost probable state and its probability, and the probability of the correct state.\n",
    "    '''\n",
    "    # Scaling max iterating for a given p to make a the comparison more standard\n",
    "    # iters = 50*p\n",
    "    # print(\"p value:\", p, \"and number of iters:\", iters)\n",
    "    # result = minimize(mis_cost, x0 = params, method='Nelder-Mead', options={'disp': True, 'maxiter': iters})\n",
    "    \n",
    "    # unlimited iterations\n",
    "    result = minimize(mis_cost, x0 = params, method='Nelder-Mead', options={'disp': True})\n",
    "    \n",
    "    half = int(len(result['x'])/2)\n",
    "    pq = mis_ansatz(result['x'][:half],result['x'][half:])\n",
    "    \n",
    "    wf_sim = WavefunctionSimulator()\n",
    "    wavefunction = wf_sim.wavefunction(pq)\n",
    "    prob_dict = wavefunction.get_outcome_probs() \n",
    "    sorted_dict = sorted(prob_dict.items(), key = operator.itemgetter(1))\n",
    "    return sorted_dict[len(prob_dict)-1], prob_dict.get(correct_state)"
   ]
  },
  {
   "cell_type": "code",
   "execution_count": 7,
   "metadata": {},
   "outputs": [],
   "source": [
    "def run_p_range(max_p: int, correct_state: str) -> 'List[int], List[float], List[str]':\n",
    "    '''\n",
    "    Runs QAOA on MIS for multiple p values from 1 to max_p.\n",
    "    '''\n",
    "    p_vals = []\n",
    "    prob_vals = []\n",
    "    colors = []\n",
    "    for p in range(1, max_p + 1):\n",
    "        p_vals.append(p)\n",
    "        params = [0.5] * 2 * p\n",
    "        result, prob_correct = run_qaoa_mis(p, params, correct)\n",
    "        if (result[0] == correct):\n",
    "            print(\"GOOD p value:\", p, \"with State:\", result[0])        \n",
    "            prob_vals.append(result[1])\n",
    "            colors.append('g')\n",
    "        else:\n",
    "            print(\"BAD p value:\", p, \"with State:\", result[0])\n",
    "            prob_vals.append(prob_correct)\n",
    "            colors.append('r')\n",
    "    return p_vals, prob_vals, colors"
   ]
  },
  {
   "cell_type": "markdown",
   "metadata": {},
   "source": [
    "#### Running QAOA on MIS"
   ]
  },
  {
   "cell_type": "markdown",
   "metadata": {},
   "source": [
    "1. First we must get the edge list from Mathematica, and set the hyperparameters $\\Delta, U$ and $\\omega$. Also get the cost and the driver hamiltonians. "
   ]
  },
  {
   "cell_type": "code",
   "execution_count": 8,
   "metadata": {},
   "outputs": [],
   "source": [
    "# elist = [(1, 4), (1, 7), (1, 8), (1, 9), (1, 10), (2, 5), (2, 6), (2, 8), (3, 4), (3, 5),\n",
    "#         (3, 7), (4, 7), (4, 10), (5, 6), (5, 9), (6, 7), (6, 9), (6, 10), (7, 9), (9, 10)]\n",
    "# string = '1 <-> 2, 1 <-> 3, 1 <-> 4, 1 <-> 5, 2 <-> 7, 3 <-> 4, 3 <-> 7, 4 <-> 6, 4 <-> 7, 7 <-> 8' # graph2 \n",
    "string = '1 <-> 2, 1 <-> 3, 1 <-> 4, 1 <-> 5, 2 <-> 3, 2 <-> 4, 2 <-> 5, 3 <-> 4, 4 <-> 5' # graph3\n",
    "\n",
    "elist = elist_from_math(string)\n",
    "\n",
    "# SET THESE PARAMS\n",
    "num_nodes = 5 # update\n",
    "delta = 1\n",
    "U = 1.5\n",
    "omega = 0.5\n",
    "\n",
    "h_cost, h_driver = get_hamil(num_nodes, elist, delta, U, omega)"
   ]
  },
  {
   "cell_type": "markdown",
   "metadata": {},
   "source": [
    "2. Ensure that you set your parameters correctly by running QAOA for p = 2. Currently p = 1 does not result in the correct answer.\n",
    "\n",
    "__Note:__ The qubits are labelled from the right."
   ]
  },
  {
   "cell_type": "code",
   "execution_count": 9,
   "metadata": {},
   "outputs": [
    {
     "name": "stdout",
     "output_type": "stream",
     "text": [
      "p value: 2 and number of iters: 100\n",
      "Warning: Maximum number of iterations has been exceeded.\n",
      "('10100', 0.10241357111186623)\n",
      "0.10241357111186623\n",
      "CPU times: user 2.35 s, sys: 56.2 ms, total: 2.41 s\n",
      "Wall time: 3.97 s\n"
     ]
    }
   ],
   "source": [
    "%%time\n",
    "\n",
    "# check that we get the expected result\n",
    "# correct = '1011010000'\n",
    "# correct = '10110110'\n",
    "correct = '10100'\n",
    "\n",
    "result, prob_correct = run_qaoa_mis(2, [0.5, 0.5, 0.5, 0.5], correct)\n",
    "print(result)\n",
    "print(prob_correct)"
   ]
  },
  {
   "cell_type": "markdown",
   "metadata": {},
   "source": [
    "3. Set the maximum p value you want to run for, and run the algorithm!"
   ]
  },
  {
   "cell_type": "code",
   "execution_count": 27,
   "metadata": {},
   "outputs": [
    {
     "name": "stdout",
     "output_type": "stream",
     "text": [
      "p value: 1 and number of iters: 50\n",
      "Warning: Maximum number of iterations has been exceeded.\n",
      "BAD p value: 1 with State: 00000\n",
      "p value: 2 and number of iters: 100\n",
      "Warning: Maximum number of iterations has been exceeded.\n",
      "GOOD p value: 2 with State: 10100\n",
      "p value: 3 and number of iters: 150\n",
      "Warning: Maximum number of iterations has been exceeded.\n",
      "GOOD p value: 3 with State: 10100\n",
      "p value: 4 and number of iters: 200\n",
      "Warning: Maximum number of iterations has been exceeded.\n",
      "GOOD p value: 4 with State: 10100\n",
      "p value: 5 and number of iters: 250\n",
      "Warning: Maximum number of iterations has been exceeded.\n",
      "GOOD p value: 5 with State: 10100\n",
      "p value: 6 and number of iters: 300\n",
      "Warning: Maximum number of iterations has been exceeded.\n",
      "GOOD p value: 6 with State: 10100\n",
      "p value: 7 and number of iters: 350\n",
      "Warning: Maximum number of iterations has been exceeded.\n",
      "GOOD p value: 7 with State: 10100\n",
      "p value: 8 and number of iters: 400\n",
      "Warning: Maximum number of iterations has been exceeded.\n",
      "GOOD p value: 8 with State: 10100\n",
      "p value: 9 and number of iters: 450\n",
      "Warning: Maximum number of iterations has been exceeded.\n",
      "GOOD p value: 9 with State: 10100\n",
      "p value: 10 and number of iters: 500\n",
      "Warning: Maximum number of iterations has been exceeded.\n",
      "GOOD p value: 10 with State: 10100\n",
      "CPU times: user 2min 7s, sys: 1.25 s, total: 2min 9s\n",
      "Wall time: 3min 24s\n"
     ]
    }
   ],
   "source": [
    "%%time\n",
    "\n",
    "# SET THIS VALUE\n",
    "p_max = 10\n",
    "\n",
    "p_vals, prob_vals, colors = run_p_range(p_max, correct)"
   ]
  },
  {
   "cell_type": "markdown",
   "metadata": {},
   "source": [
    "4. To see how QAOA performed on your graph, plot the results. Red color means that the most probable state was not the correct state, while green means that it was."
   ]
  },
  {
   "cell_type": "code",
   "execution_count": 28,
   "metadata": {},
   "outputs": [
    {
     "data": {
      "image/png": "[encoded data removed]",
      "text/plain": [
       "<Figure size 432x288 with 1 Axes>"
      ]
     },
     "metadata": {
      "needs_background": "light"
     },
     "output_type": "display_data"
    }
   ],
   "source": [
    "plt.scatter(p_vals, prob_vals, color = colors) \n",
    "plt.title(\"Dependence on p\")\n",
    "plt.xlabel(\"value of p\")\n",
    "plt.ylabel(\"probability of required state\")\n",
    "# plt.savefig(\"pgraph3.png\")\n",
    "plt.show()"
   ]
  },
  {
   "cell_type": "code",
   "execution_count": 29,
   "metadata": {},
   "outputs": [
    {
     "data": {
      "text/plain": [
       "[0.018551935726479268,\n",
       " 0.10241357111186623,\n",
       " 0.18766430160452127,\n",
       " 0.20634872203745952,\n",
       " 0.23254463830689542,\n",
       " 0.265105699991763,\n",
       " 0.44133566005393843,\n",
       " 0.4959777926613009,\n",
       " 0.5329919262665037,\n",
       " 0.6631958811106692]"
      ]
     },
     "execution_count": 29,
     "metadata": {},
     "output_type": "execute_result"
    }
   ],
   "source": [
    "prob_vals"
   ]
  },
  {
   "cell_type": "markdown",
   "metadata": {},
   "source": [
    "#### Plotting all values"
   ]
  },
  {
   "cell_type": "code",
   "execution_count": 36,
   "metadata": {},
   "outputs": [
    {
     "data": {
      "image/png": "[encoded data removed]",
      "text/plain": [
       "<Figure size 432x288 with 1 Axes>"
      ]
     },
     "metadata": {
      "needs_background": "light"
     },
     "output_type": "display_data"
    }
   ],
   "source": [
    "paxis = list(range(1,11))\n",
    "plt.plot(paxis, [0.0002584088825309589, 0.016013513616306287, 0.04617072571470806, 0.07077191741821537, 0.07560195740556094,\n",
    " 0.08751310563042256, 0.08883531569983363, 0.06653509811964456, 0.09057367498538071, 0.11702668124351008], label = 'g1') \n",
    "plt.plot(paxis, [0.0005317994423599302, 0.04844621167737637, 0.16448419711373685, 0.24162292345998884, 0.3955198436659364,\n",
    "  0.409267066296394, 0.5279943164193701, 0.6313983067454861, 0.623606445096216, 0.6009971137120277], label = 'g2')\n",
    "plt.plot(paxis, [0.018551935708694726, 0.10241589381176734, 0.1852167182088925, 0.20558281325232938, 0.2212128411269047,\n",
    " 0.4559834830957632, 0.7053359374171075, 0.6933577935722443, 0.7340931703510583, 0.8858375563026535], label = 'g3')\n",
    "plt.plot(paxis, [0.00025840888373638513, 0.016007294155534146, 0.046026503812618504, 0.07110633993353646, 0.08592458108855694,\n",
    " 0.08822873035040116, 0.08756065585648515, 0.019802383927298148, 0.06475600039004104, 0.11134665527605557], '--', label = 'g1 lim')\n",
    "plt.plot(paxis, [0.0005317994423599302, 0.04846068694867068, 0.16833435898860002, 0.22010295717138745, 0.22399681825545284,\n",
    " 0.338817328756781, 0.2601803984751079, 0.39111098722327375, 0.2717148731462373, 0.3596595186476516], '--', label = 'g2 lim')\n",
    "plt.plot(paxis, [0.018551935726479268, 0.10241357111186623, 0.18766430160452127, 0.20634872203745952, 0.23254463830689542,\n",
    " 0.265105699991763, 0.44133566005393843, 0.4959777926613009, 0.5329919262665037, 0.6631958811106692], '--', label = 'g3 lim')\n",
    "plt.title(\"Dependence on p\")\n",
    "plt.xlabel(\"value of p\")\n",
    "plt.ylabel(\"probability of correct state\")\n",
    "plt.legend()\n",
    "# plt.savefig(\"p_depth_lim.png\")\n",
    "plt.show()"
   ]
  },
  {
   "cell_type": "markdown",
   "metadata": {},
   "source": [
    "__I can do 5 types of analyses:__\n",
    "1. Let Nealder-Mead run forever and forever\n",
    "2. Stop at 100 or certain number of iters that scales with p\n",
    "3. Grid search for params\n",
    "4. Grid search with width decreasing - takes too long\n",
    "5. Adding noise"
   ]
  },
  {
   "cell_type": "markdown",
   "metadata": {},
   "source": [
    "### Implementation with Noise"
   ]
  },
  {
   "cell_type": "markdown",
   "metadata": {},
   "source": [
    "To add noise to our program using the PyQuil noise module, we first need to convert our program to the form where it uses the module's specific gate set. To do this, we will be using quilc."
   ]
  },
  {
   "cell_type": "code",
   "execution_count": 55,
   "metadata": {},
   "outputs": [],
   "source": [
    "from pyquil.api import get_qc\n",
    "\n",
    "def make_native(program):\n",
    "    print(program)\n",
    "    qc_name = str(num_nodes) + \"q-qvm\"\n",
    "    qc = get_qc(qc_name)\n",
    "    ep = qc.compile(program)\n",
    "    return ep"
   ]
  },
  {
   "cell_type": "code",
   "execution_count": 59,
   "metadata": {},
   "outputs": [
    {
     "name": "stdout",
     "output_type": "stream",
     "text": [
      "I 0\n",
      "\n"
     ]
    },
    {
     "ename": "KeyError",
     "evalue": "0",
     "output_type": "error",
     "traceback": [
      "\u001b[0;31m---------------------------------------------------------------------------\u001b[0m",
      "\u001b[0;31mKeyError\u001b[0m                                  Traceback (most recent call last)",
      "\u001b[0;32m<ipython-input-59-8846272b2ade>\u001b[0m in \u001b[0;36m<module>\u001b[0;34m\u001b[0m\n\u001b[1;32m      1\u001b[0m \u001b[0mpq1\u001b[0m \u001b[0;34m=\u001b[0m \u001b[0mmake_native\u001b[0m\u001b[0;34m(\u001b[0m\u001b[0mProgram\u001b[0m\u001b[0;34m(\u001b[0m\u001b[0mI\u001b[0m\u001b[0;34m(\u001b[0m\u001b[0;36m0\u001b[0m\u001b[0;34m)\u001b[0m\u001b[0;34m)\u001b[0m\u001b[0;34m)\u001b[0m\u001b[0;34m\u001b[0m\u001b[0;34m\u001b[0m\u001b[0m\n\u001b[0;32m----> 2\u001b[0;31m \u001b[0mpq1\u001b[0m \u001b[0;34m=\u001b[0m \u001b[0mnoise\u001b[0m\u001b[0;34m.\u001b[0m\u001b[0madd_decoherence_noise\u001b[0m\u001b[0;34m(\u001b[0m\u001b[0mpq1\u001b[0m\u001b[0;34m)\u001b[0m\u001b[0;34m\u001b[0m\u001b[0;34m\u001b[0m\u001b[0m\n\u001b[0m",
      "\u001b[0;32m~/.virtualenvs/venv/lib/python3.6/site-packages/pyquil/noise.py\u001b[0m in \u001b[0;36madd_decoherence_noise\u001b[0;34m(prog, T1, T2, gate_time_1q, gate_time_2q, ro_fidelity)\u001b[0m\n\u001b[1;32m    608\u001b[0m     \u001b[0;34m:\u001b[0m\u001b[0;32mreturn\u001b[0m\u001b[0;34m:\u001b[0m \u001b[0mA\u001b[0m \u001b[0mnew\u001b[0m \u001b[0mprogram\u001b[0m \u001b[0;32mwith\u001b[0m \u001b[0mnoisy\u001b[0m \u001b[0moperators\u001b[0m\u001b[0;34m.\u001b[0m\u001b[0;34m\u001b[0m\u001b[0;34m\u001b[0m\u001b[0m\n\u001b[1;32m    609\u001b[0m     \"\"\"\n\u001b[0;32m--> 610\u001b[0;31m     \u001b[0mgates\u001b[0m \u001b[0;34m=\u001b[0m \u001b[0m_get_program_gates\u001b[0m\u001b[0;34m(\u001b[0m\u001b[0mprog\u001b[0m\u001b[0;34m)\u001b[0m\u001b[0;34m\u001b[0m\u001b[0;34m\u001b[0m\u001b[0m\n\u001b[0m\u001b[1;32m    611\u001b[0m     noise_model = _decoherence_noise_model(\n\u001b[1;32m    612\u001b[0m         \u001b[0mgates\u001b[0m\u001b[0;34m,\u001b[0m\u001b[0;34m\u001b[0m\u001b[0;34m\u001b[0m\u001b[0m\n",
      "\u001b[0;32m~/.virtualenvs/venv/lib/python3.6/site-packages/pyquil/noise.py\u001b[0m in \u001b[0;36m_get_program_gates\u001b[0;34m(prog)\u001b[0m\n\u001b[1;32m    404\u001b[0m     \u001b[0;34m:\u001b[0m\u001b[0mrtype\u001b[0m\u001b[0;34m:\u001b[0m \u001b[0mList\u001b[0m\u001b[0;34m[\u001b[0m\u001b[0mGate\u001b[0m\u001b[0;34m]\u001b[0m\u001b[0;34m\u001b[0m\u001b[0;34m\u001b[0m\u001b[0m\n\u001b[1;32m    405\u001b[0m     \"\"\"\n\u001b[0;32m--> 406\u001b[0;31m     \u001b[0;32mreturn\u001b[0m \u001b[0msorted\u001b[0m\u001b[0;34m(\u001b[0m\u001b[0;34m{\u001b[0m\u001b[0mi\u001b[0m \u001b[0;32mfor\u001b[0m \u001b[0mi\u001b[0m \u001b[0;32min\u001b[0m \u001b[0mprog\u001b[0m \u001b[0;32mif\u001b[0m \u001b[0misinstance\u001b[0m\u001b[0;34m(\u001b[0m\u001b[0mi\u001b[0m\u001b[0;34m,\u001b[0m \u001b[0mGate\u001b[0m\u001b[0;34m)\u001b[0m\u001b[0;34m}\u001b[0m\u001b[0;34m,\u001b[0m \u001b[0mkey\u001b[0m\u001b[0;34m=\u001b[0m\u001b[0;32mlambda\u001b[0m \u001b[0mg\u001b[0m\u001b[0;34m:\u001b[0m \u001b[0mg\u001b[0m\u001b[0;34m.\u001b[0m\u001b[0mout\u001b[0m\u001b[0;34m(\u001b[0m\u001b[0;34m)\u001b[0m\u001b[0;34m)\u001b[0m\u001b[0;34m\u001b[0m\u001b[0;34m\u001b[0m\u001b[0m\n\u001b[0m\u001b[1;32m    407\u001b[0m \u001b[0;34m\u001b[0m\u001b[0m\n\u001b[1;32m    408\u001b[0m \u001b[0;34m\u001b[0m\u001b[0m\n",
      "\u001b[0;32m~/.virtualenvs/venv/lib/python3.6/site-packages/pyquil/noise.py\u001b[0m in \u001b[0;36m<setcomp>\u001b[0;34m(.0)\u001b[0m\n\u001b[1;32m    404\u001b[0m     \u001b[0;34m:\u001b[0m\u001b[0mrtype\u001b[0m\u001b[0;34m:\u001b[0m \u001b[0mList\u001b[0m\u001b[0;34m[\u001b[0m\u001b[0mGate\u001b[0m\u001b[0;34m]\u001b[0m\u001b[0;34m\u001b[0m\u001b[0;34m\u001b[0m\u001b[0m\n\u001b[1;32m    405\u001b[0m     \"\"\"\n\u001b[0;32m--> 406\u001b[0;31m     \u001b[0;32mreturn\u001b[0m \u001b[0msorted\u001b[0m\u001b[0;34m(\u001b[0m\u001b[0;34m{\u001b[0m\u001b[0mi\u001b[0m \u001b[0;32mfor\u001b[0m \u001b[0mi\u001b[0m \u001b[0;32min\u001b[0m \u001b[0mprog\u001b[0m \u001b[0;32mif\u001b[0m \u001b[0misinstance\u001b[0m\u001b[0;34m(\u001b[0m\u001b[0mi\u001b[0m\u001b[0;34m,\u001b[0m \u001b[0mGate\u001b[0m\u001b[0;34m)\u001b[0m\u001b[0;34m}\u001b[0m\u001b[0;34m,\u001b[0m \u001b[0mkey\u001b[0m\u001b[0;34m=\u001b[0m\u001b[0;32mlambda\u001b[0m \u001b[0mg\u001b[0m\u001b[0;34m:\u001b[0m \u001b[0mg\u001b[0m\u001b[0;34m.\u001b[0m\u001b[0mout\u001b[0m\u001b[0;34m(\u001b[0m\u001b[0;34m)\u001b[0m\u001b[0;34m)\u001b[0m\u001b[0;34m\u001b[0m\u001b[0;34m\u001b[0m\u001b[0m\n\u001b[0m\u001b[1;32m    407\u001b[0m \u001b[0;34m\u001b[0m\u001b[0m\n\u001b[1;32m    408\u001b[0m \u001b[0;34m\u001b[0m\u001b[0m\n",
      "\u001b[0;32m~/.virtualenvs/venv/lib/python3.6/site-packages/rpcq/_base.py\u001b[0m in \u001b[0;36m__getitem__\u001b[0;34m(self, item)\u001b[0m\n\u001b[1;32m     96\u001b[0m \u001b[0;34m\u001b[0m\u001b[0m\n\u001b[1;32m     97\u001b[0m     \u001b[0;32mdef\u001b[0m \u001b[0m__getitem__\u001b[0m\u001b[0;34m(\u001b[0m\u001b[0mself\u001b[0m\u001b[0;34m,\u001b[0m \u001b[0mitem\u001b[0m\u001b[0;34m)\u001b[0m\u001b[0;34m:\u001b[0m\u001b[0;34m\u001b[0m\u001b[0;34m\u001b[0m\u001b[0m\n\u001b[0;32m---> 98\u001b[0;31m         \u001b[0;32mreturn\u001b[0m \u001b[0mself\u001b[0m\u001b[0;34m.\u001b[0m\u001b[0m__dict__\u001b[0m\u001b[0;34m[\u001b[0m\u001b[0mitem\u001b[0m\u001b[0;34m]\u001b[0m\u001b[0;34m\u001b[0m\u001b[0;34m\u001b[0m\u001b[0m\n\u001b[0m\u001b[1;32m     99\u001b[0m \u001b[0;34m\u001b[0m\u001b[0m\n\u001b[1;32m    100\u001b[0m     \u001b[0;32mdef\u001b[0m \u001b[0m__repr__\u001b[0m\u001b[0;34m(\u001b[0m\u001b[0mself\u001b[0m\u001b[0;34m)\u001b[0m\u001b[0;34m:\u001b[0m\u001b[0;34m\u001b[0m\u001b[0;34m\u001b[0m\u001b[0m\n",
      "\u001b[0;31mKeyError\u001b[0m: 0"
     ]
    }
   ],
   "source": [
    "pq1 = make_native(Program(I(0)))\n",
    "pq1 = noise.add_decoherence_noise(pq1)"
   ]
  },
  {
   "cell_type": "code",
   "execution_count": 47,
   "metadata": {},
   "outputs": [],
   "source": [
    "from pyquil import noise\n",
    "\n",
    "def mis_ansatz(betas: List[float], gammas: List[float]) -> Program:\n",
    "    '''\n",
    "    Returns the program to create the MIS ansatz.\n",
    "    '''\n",
    "    print(\"Adding noise\")\n",
    "    \n",
    "    pq = Program(RESET())\n",
    "    pq += [exponentiate_commuting_pauli_sum(h_cost)(g) + exponentiate_commuting_pauli_sum(h_driver)(b) \n",
    "                for g, b in zip(gammas, betas)]\n",
    "    pq = make_native(pq)\n",
    "    # pq = noise.add_decoherence_noise(pq, T1=3e-05, T2=3e-05, gate_time_1q=5e-08, gate_time_2q=1.5e-07, ro_fidelity=0.95)\n",
    "    return pq"
   ]
  },
  {
   "cell_type": "code",
   "execution_count": 49,
   "metadata": {},
   "outputs": [
    {
     "data": {
      "text/plain": [
       "'RESET\\nRZ(-2.5707963267948966) 1\\nRX(pi/2) 1\\nCZ 1 0\\nRX(-pi/2) 1\\nRZ(0.375) 1\\nRX(pi/2) 1\\nCZ 1 0\\nRZ(-2.5707963267948966) 3\\nRX(pi/2) 3\\nRZ(pi/2) 3\\nRX(-pi/2) 1\\nRZ(pi/2) 1\\nRZ(-2.1957963267948966) 2\\nRX(pi/2) 2\\nCZ 2 0\\nRX(-pi/2) 2\\nRZ(0.375) 2\\nRX(pi/2) 2\\nCZ 2 0\\nCZ 2 1\\nRX(-pi/2) 2\\nRZ(0.375) 2\\nRX(pi/2) 2\\nCZ 2 1\\nCZ 3 0\\nRZ(-pi/2) 3\\nRX(-pi/2) 3\\nRZ(0.375) 3\\nRX(pi/2) 3\\nCZ 3 0\\nCZ 3 1\\nRX(-pi/2) 3\\nRZ(0.375) 3\\nRX(pi/2) 3\\nCZ 3 1\\nRZ(-2.1957963267948966) 4\\nRX(pi/2) 4\\nCZ 4 0\\nRX(-pi/2) 4\\nRZ(0.375) 4\\nRX(pi/2) 4\\nCZ 4 0\\nRX(-pi/2) 2\\nCZ 3 2\\nRX(-pi/2) 3\\nRZ(0.375) 3\\nRX(pi/2) 3\\nCZ 3 2\\nCZ 4 1\\nRX(-pi/2) 4\\nRZ(0.375) 4\\nRX(pi/2) 4\\nCZ 4 1\\nRZ(-0.8497873829844081) 0\\nRX(pi/2) 0\\nRZ(1.6523681893351636) 0\\nRX(-pi/2) 0\\nRZ(-1.5707963267948968) 1\\nRX(pi/2) 1\\nRZ(2.6415926535897927) 1\\nRX(-pi/2) 1\\nCZ 0 1\\nRZ(-2.064654832850452) 0\\nRX(pi/2) 0\\nRZ(0.375) 0\\nRX(-pi/2) 0\\nCZ 0 1\\nRX(1.5707963267948963) 3\\nRX(pi/2) 4\\nRZ(0.5605543102888061) 4\\nRX(-pi/2) 4\\nCZ 4 3\\nRX(pi/2) 4\\nRZ(0.375) 4\\nRX(-pi/2) 4\\nCZ 4 3\\nRZ(3.0707963267948966) 1\\nRX(pi) 1\\nRX(pi/2) 0\\nRZ(-1.2647956896231882) 0\\nRX(pi/2) 0\\nRZ(pi) 2\\nRX(pi/2) 2\\nRZ(0.5) 2\\nRX(-pi/2) 2\\nCZ 0 2\\nRX(pi/2) 0\\nRZ(0.37499999999999956) 0\\nRX(-pi/2) 0\\nCZ 0 2\\nRZ(2.016592653589793) 2\\nRX(1.5707963267948963) 2\\nCZ 2 1\\nRX(-pi/2) 2\\nRZ(0.375) 2\\nRX(pi/2) 2\\nCZ 2 1\\nRZ(pi) 0\\nRX(1.5707963267948968) 0\\nRZ(-0.08063183636544391) 3\\nRX(pi/2) 3\\nRZ(2.069428342482922) 3\\nRX(-pi/2) 3\\nCZ 3 0\\nRZ(-1.6094210170917727) 3\\nRX(-pi/2) 3\\nRZ(0.375) 3\\nRX(pi/2) 3\\nCZ 3 0\\nCZ 3 1\\nRX(pi/2) 3\\nRZ(-2.766592653589793) 3\\nRX(pi/2) 3\\nCZ 3 1\\nRZ(-0.7752976046321151) 4\\nRX(pi/2) 4\\nRZ(0.6662220333849895) 4\\nRX(-pi/2) 4\\nCZ 4 0\\nRZ(-2.7164741315838654) 4\\nRX(-pi/2) 4\\nRZ(0.375) 4\\nRX(pi/2) 4\\nCZ 4 0\\nRX(-pi/2) 2\\nCZ 3 2\\nRX(-pi/2) 3\\nRZ(0.375) 3\\nRX(pi/2) 3\\nCZ 3 2\\nCZ 4 1\\nRX(pi/2) 4\\nRZ(-2.766592653589793) 4\\nRX(pi/2) 4\\nCZ 4 1\\nRX(-pi/2) 3\\nCZ 4 3\\nRX(-pi/2) 4\\nRZ(0.375) 4\\nRX(pi/2) 4\\nCZ 4 3\\nRZ(-1.7768078839923005) 0\\nRX(pi) 0\\nRZ(pi/2) 2\\nRZ(pi/2) 3\\nRX(-pi/2) 4\\nRZ(pi/2) 4\\n'"
      ]
     },
     "execution_count": 49,
     "metadata": {},
     "output_type": "execute_result"
    }
   ],
   "source": [
    "pq"
   ]
  },
  {
   "cell_type": "code",
   "execution_count": 22,
   "metadata": {},
   "outputs": [],
   "source": [
    "# elist = [(1, 4), (1, 7), (1, 8), (1, 9), (1, 10), (2, 5), (2, 6), (2, 8), (3, 4), (3, 5),\n",
    "#         (3, 7), (4, 7), (4, 10), (5, 6), (5, 9), (6, 7), (6, 9), (6, 10), (7, 9), (9, 10)]\n",
    "# string = '1 <-> 2, 1 <-> 3, 1 <-> 4, 1 <-> 5, 2 <-> 7, 3 <-> 4, 3 <-> 7, 4 <-> 6, 4 <-> 7, 7 <-> 8' # graph2 \n",
    "string = '1 <-> 2, 1 <-> 3, 1 <-> 4, 1 <-> 5, 2 <-> 3, 2 <-> 4, 2 <-> 5, 3 <-> 4, 4 <-> 5' # graph3\n",
    "\n",
    "elist = elist_from_math(string)\n",
    "\n",
    "# SET THESE PARAMS\n",
    "num_nodes = 5 # update\n",
    "delta = 1\n",
    "U = 1.5\n",
    "omega = 0.5\n",
    "\n",
    "h_cost, h_driver = get_hamil(num_nodes, elist, delta, U, omega)"
   ]
  },
  {
   "cell_type": "code",
   "execution_count": 25,
   "metadata": {},
   "outputs": [
    {
     "name": "stdout",
     "output_type": "stream",
     "text": [
      "Adding noise\n",
      "RESET\n",
      "X 0\n",
      "PHASE(-0.4375) 0\n",
      "X 0\n",
      "PHASE(-0.4375) 0\n",
      "RZ(-1.0) 0\n",
      "RZ(-1.0) 1\n",
      "RZ(-0.625) 2\n",
      "RZ(-1.0) 3\n",
      "RZ(-0.625) 4\n",
      "CNOT 0 1\n",
      "RZ(0.375) 1\n",
      "CNOT 0 1\n",
      "CNOT 0 2\n",
      "RZ(0.375) 2\n",
      "CNOT 0 2\n",
      "CNOT 0 3\n",
      "RZ(0.375) 3\n",
      "CNOT 0 3\n",
      "CNOT 0 4\n",
      "RZ(0.375) 4\n",
      "CNOT 0 4\n",
      "CNOT 1 2\n",
      "RZ(0.375) 2\n",
      "CNOT 1 2\n",
      "CNOT 1 3\n",
      "RZ(0.375) 3\n",
      "CNOT 1 3\n",
      "CNOT 1 4\n",
      "RZ(0.375) 4\n",
      "CNOT 1 4\n",
      "CNOT 2 3\n",
      "RZ(0.375) 3\n",
      "CNOT 2 3\n",
      "CNOT 3 4\n",
      "RZ(0.375) 4\n",
      "CNOT 3 4\n",
      "H 0\n",
      "RZ(0.5) 0\n",
      "H 0\n",
      "H 1\n",
      "RZ(0.5) 1\n",
      "H 1\n",
      "H 2\n",
      "RZ(0.5) 2\n",
      "H 2\n",
      "H 3\n",
      "RZ(0.5) 3\n",
      "H 3\n",
      "H 4\n",
      "RZ(0.5) 4\n",
      "H 4\n",
      "X 0\n",
      "PHASE(-1.6875) 0\n",
      "X 0\n",
      "PHASE(-1.6875) 0\n",
      "RZ(-1.5) 1\n",
      "RZ(-1.5) 0\n",
      "CNOT 0 1\n",
      "RZ(0.375) 1\n",
      "CNOT 0 1\n",
      "RZ(-1.125) 2\n",
      "CNOT 0 2\n",
      "RZ(0.375) 2\n",
      "CNOT 0 2\n",
      "RZ(-1.5) 3\n",
      "CNOT 0 3\n",
      "RZ(0.375) 3\n",
      "CNOT 0 3\n",
      "RZ(-1.125) 4\n",
      "CNOT 0 4\n",
      "RZ(0.375) 4\n",
      "CNOT 0 4\n",
      "CNOT 1 2\n",
      "RZ(0.375) 2\n",
      "CNOT 1 2\n",
      "CNOT 1 3\n",
      "RZ(0.375) 3\n",
      "CNOT 1 3\n",
      "CNOT 1 4\n",
      "RZ(0.375) 4\n",
      "CNOT 1 4\n",
      "CNOT 2 3\n",
      "RZ(0.375) 3\n",
      "CNOT 2 3\n",
      "CNOT 3 4\n",
      "RZ(0.375) 4\n",
      "CNOT 3 4\n",
      "X 0\n",
      "PHASE(-0.4375) 0\n",
      "X 0\n",
      "PHASE(-0.4375) 0\n",
      "RZ(-1.0) 0\n",
      "RZ(-1.0) 1\n",
      "RZ(-0.625) 2\n",
      "RZ(-1.0) 3\n",
      "RZ(-0.625) 4\n",
      "CNOT 0 1\n",
      "RZ(0.375) 1\n",
      "CNOT 0 1\n",
      "CNOT 0 2\n",
      "RZ(0.375) 2\n",
      "CNOT 0 2\n",
      "CNOT 0 3\n",
      "RZ(0.375) 3\n",
      "CNOT 0 3\n",
      "CNOT 0 4\n",
      "RZ(0.375) 4\n",
      "CNOT 0 4\n",
      "CNOT 1 2\n",
      "RZ(0.375) 2\n",
      "CNOT 1 2\n",
      "CNOT 1 3\n",
      "RZ(0.375) 3\n",
      "CNOT 1 3\n",
      "CNOT 1 4\n",
      "RZ(0.375) 4\n",
      "CNOT 1 4\n",
      "CNOT 2 3\n",
      "RZ(0.375) 3\n",
      "CNOT 2 3\n",
      "CNOT 3 4\n",
      "RZ(0.375) 4\n",
      "CNOT 3 4\n",
      "H 0\n",
      "RZ(0.5) 0\n",
      "H 0\n",
      "H 1\n",
      "RZ(0.5) 1\n",
      "H 1\n",
      "H 2\n",
      "RZ(0.5) 2\n",
      "H 2\n",
      "H 3\n",
      "RZ(0.5) 3\n",
      "H 3\n",
      "H 4\n",
      "RZ(0.5) 4\n",
      "H 4\n",
      "X 0\n",
      "PHASE(-1.6875) 0\n",
      "X 0\n",
      "PHASE(-1.6875) 0\n",
      "RZ(-1.5) 1\n",
      "RZ(-1.5) 0\n",
      "CNOT 0 1\n",
      "RZ(0.375) 1\n",
      "CNOT 0 1\n",
      "RZ(-1.125) 2\n",
      "CNOT 0 2\n",
      "RZ(0.375) 2\n",
      "CNOT 0 2\n",
      "RZ(-1.5) 3\n",
      "CNOT 0 3\n",
      "RZ(0.375) 3\n",
      "CNOT 0 3\n",
      "RZ(-1.125) 4\n",
      "CNOT 0 4\n",
      "RZ(0.375) 4\n",
      "CNOT 0 4\n",
      "CNOT 1 2\n",
      "RZ(0.375) 2\n",
      "CNOT 1 2\n",
      "CNOT 1 3\n",
      "RZ(0.375) 3\n",
      "CNOT 1 3\n",
      "CNOT 1 4\n",
      "RZ(0.375) 4\n",
      "CNOT 1 4\n",
      "CNOT 2 3\n",
      "RZ(0.375) 3\n",
      "CNOT 2 3\n",
      "CNOT 3 4\n",
      "RZ(0.375) 4\n",
      "CNOT 3 4\n",
      "\n",
      "RESET\n",
      "RZ(-2.5707963267948966) 1\n",
      "RX(pi/2) 1\n",
      "CZ 1 0\n",
      "RX(-pi/2) 1\n",
      "RZ(0.375) 1\n",
      "RX(pi/2) 1\n",
      "CZ 1 0\n",
      "RZ(-2.5707963267948966) 3\n",
      "RX(pi/2) 3\n",
      "RZ(pi/2) 3\n",
      "RX(-pi/2) 1\n",
      "RZ(pi/2) 1\n",
      "RZ(-2.1957963267948966) 2\n",
      "RX(pi/2) 2\n",
      "CZ 2 0\n",
      "RX(-pi/2) 2\n",
      "RZ(0.375) 2\n",
      "RX(pi/2) 2\n",
      "CZ 2 0\n",
      "CZ 2 1\n",
      "RX(-pi/2) 2\n",
      "RZ(0.375) 2\n",
      "RX(pi/2) 2\n",
      "CZ 2 1\n",
      "CZ 3 0\n",
      "RZ(-pi/2) 3\n",
      "RX(-pi/2) 3\n",
      "RZ(0.375) 3\n",
      "RX(pi/2) 3\n",
      "CZ 3 0\n",
      "CZ 3 1\n",
      "RX(-pi/2) 3\n",
      "RZ(0.375) 3\n",
      "RX(pi/2) 3\n",
      "CZ 3 1\n",
      "RZ(-2.1957963267948966) 4\n",
      "RX(pi/2) 4\n",
      "CZ 4 0\n",
      "RX(-pi/2) 4\n",
      "RZ(0.375) 4\n",
      "RX(pi/2) 4\n",
      "CZ 4 0\n",
      "RX(-pi/2) 2\n",
      "CZ 3 2\n",
      "RX(-pi/2) 3\n",
      "RZ(0.375) 3\n",
      "RX(pi/2) 3\n",
      "CZ 3 2\n",
      "CZ 4 1\n",
      "RX(-pi/2) 4\n",
      "RZ(0.375) 4\n",
      "RX(pi/2) 4\n",
      "CZ 4 1\n",
      "RZ(-0.8497873829844081) 0\n",
      "RX(pi/2) 0\n",
      "RZ(1.6523681893351636) 0\n",
      "RX(-pi/2) 0\n",
      "RZ(-1.5707963267948968) 1\n",
      "RX(pi/2) 1\n",
      "RZ(2.6415926535897927) 1\n",
      "RX(-pi/2) 1\n",
      "CZ 0 1\n",
      "RZ(-2.064654832850452) 0\n",
      "RX(pi/2) 0\n",
      "RZ(0.375) 0\n",
      "RX(-pi/2) 0\n",
      "CZ 0 1\n",
      "RX(1.5707963267948963) 3\n",
      "RX(pi/2) 4\n",
      "RZ(0.5605543102888061) 4\n",
      "RX(-pi/2) 4\n",
      "CZ 4 3\n",
      "RX(pi/2) 4\n",
      "RZ(0.375) 4\n",
      "RX(-pi/2) 4\n",
      "CZ 4 3\n",
      "RZ(3.0707963267948966) 1\n",
      "RX(pi) 1\n",
      "RX(pi/2) 0\n",
      "RZ(-1.2647956896231882) 0\n",
      "RX(pi/2) 0\n",
      "RZ(pi) 2\n",
      "RX(pi/2) 2\n",
      "RZ(0.5) 2\n",
      "RX(-pi/2) 2\n",
      "CZ 0 2\n",
      "RX(pi/2) 0\n",
      "RZ(0.37499999999999956) 0\n",
      "RX(-pi/2) 0\n",
      "CZ 0 2\n",
      "RZ(2.016592653589793) 2\n",
      "RX(1.5707963267948963) 2\n",
      "CZ 2 1\n",
      "RX(-pi/2) 2\n",
      "RZ(0.375) 2\n",
      "RX(pi/2) 2\n",
      "CZ 2 1\n",
      "RZ(pi) 0\n",
      "RX(1.5707963267948968) 0\n",
      "RZ(-0.08063183636544391) 3\n",
      "RX(pi/2) 3\n",
      "RZ(2.069428342482922) 3\n",
      "RX(-pi/2) 3\n",
      "CZ 3 0\n",
      "RZ(-1.6094210170917727) 3\n",
      "RX(-pi/2) 3\n",
      "RZ(0.375) 3\n",
      "RX(pi/2) 3\n",
      "CZ 3 0\n",
      "CZ 3 1\n",
      "RX(pi/2) 3\n",
      "RZ(-2.766592653589793) 3\n",
      "RX(pi/2) 3\n",
      "CZ 3 1\n",
      "RZ(-0.7752976046321151) 4\n",
      "RX(pi/2) 4\n",
      "RZ(0.6662220333849895) 4\n",
      "RX(-pi/2) 4\n",
      "CZ 4 0\n",
      "RZ(-2.7164741315838654) 4\n",
      "RX(-pi/2) 4\n",
      "RZ(0.375) 4\n",
      "RX(pi/2) 4\n",
      "CZ 4 0\n",
      "RX(-pi/2) 2\n",
      "CZ 3 2\n",
      "RX(-pi/2) 3\n",
      "RZ(0.375) 3\n",
      "RX(pi/2) 3\n",
      "CZ 3 2\n",
      "CZ 4 1\n",
      "RX(pi/2) 4\n",
      "RZ(-2.766592653589793) 4\n",
      "RX(pi/2) 4\n",
      "CZ 4 1\n",
      "RZ(2.5761697532033043) 0\n",
      "RX(1.5707963267948968) 0\n",
      "CZ 0 1\n",
      "RX(pi/2) 0\n",
      "RZ(0.375) 0\n",
      "RX(-pi/2) 0\n",
      "CZ 0 1\n",
      "RX(-pi/2) 3\n",
      "CZ 4 3\n",
      "RX(-pi/2) 4\n",
      "RZ(0.375) 4\n",
      "RX(pi/2) 4\n",
      "CZ 4 3\n",
      "RZ(-0.9999999999999993) 1\n",
      "RZ(pi) 0\n",
      "RX(1.5707963267948974) 0\n",
      "RZ(-0.625) 2\n",
      "RX(pi/2) 2\n",
      "CZ 2 0\n",
      "RX(pi/2) 2\n",
      "RZ(-2.766592653589793) 2\n",
      "RX(pi/2) 2\n",
      "CZ 2 0\n",
      "CZ 2 1\n",
      "RX(pi/2) 2\n",
      "RZ(-2.766592653589793) 2\n",
      "RX(pi/2) 2\n",
      "CZ 2 1\n",
      "RZ(-1.0) 3\n",
      "RX(pi/2) 3\n",
      "CZ 3 0\n",
      "RX(pi/2) 3\n",
      "RZ(-2.766592653589793) 3\n",
      "RX(pi/2) 3\n",
      "CZ 3 0\n",
      "CZ 3 1\n",
      "RX(pi/2) 3\n",
      "RZ(-2.766592653589793) 3\n",
      "RX(pi/2) 3\n",
      "CZ 3 1\n",
      "RX(-pi/2) 4\n",
      "RZ(-0.625) 4\n",
      "RX(pi/2) 4\n",
      "CZ 4 0\n",
      "RX(pi/2) 4\n",
      "RZ(-2.766592653589793) 4\n",
      "RX(pi/2) 4\n",
      "CZ 4 0\n",
      "RX(-pi/2) 2\n",
      "CZ 3 2\n",
      "RX(-pi/2) 3\n",
      "RZ(0.375) 3\n",
      "RX(pi/2) 3\n",
      "CZ 3 2\n",
      "CZ 4 1\n",
      "RX(pi/2) 4\n",
      "RZ(-2.766592653589793) 4\n",
      "RX(pi/2) 4\n",
      "CZ 4 1\n",
      "RZ(-0.8107637138528199) 0\n",
      "RX(pi/2) 0\n",
      "RZ(1.2718470023475419) 0\n",
      "RX(-pi/2) 0\n",
      "RZ(pi/2) 1\n",
      "RX(pi/2) 1\n",
      "RZ(0.5000000000000004) 1\n",
      "RX(-pi/2) 1\n",
      "CZ 0 1\n",
      "RZ(-1.97779512856705) 0\n",
      "RX(pi/2) 0\n",
      "RZ(0.37499999999999956) 0\n",
      "RX(-pi/2) 0\n",
      "CZ 0 1\n",
      "RX(1.5707963267948963) 3\n",
      "RX(pi/2) 4\n",
      "RZ(0.5605543102888061) 4\n",
      "RX(-pi/2) 4\n",
      "CZ 4 3\n",
      "RX(pi/2) 4\n",
      "RZ(0.375) 4\n",
      "RX(-pi/2) 4\n",
      "CZ 4 3\n",
      "RZ(-3.0707963267948966) 1\n",
      "RZ(pi) 0\n",
      "RX(pi/2) 0\n",
      "RZ(1.002882109327002) 0\n",
      "RX(-pi/2) 0\n",
      "RX(pi/2) 2\n",
      "RZ(2.6415926535897927) 2\n",
      "RX(-pi/2) 2\n",
      "CZ 0 2\n",
      "RX(pi/2) 0\n",
      "RZ(0.37499999999999956) 0\n",
      "RX(-pi/2) 0\n",
      "CZ 0 2\n",
      "RZ(1.1249999999999996) 2\n",
      "RX(1.5707963267948974) 2\n",
      "CZ 2 1\n",
      "RX(pi/2) 2\n",
      "RZ(-2.766592653589793) 2\n",
      "RX(pi/2) 2\n",
      "CZ 2 1\n",
      "RX(1.5707963267948961) 0\n",
      "RZ(-0.08063183636544391) 3\n",
      "RX(pi/2) 3\n",
      "RZ(2.069428342482922) 3\n",
      "RX(-pi/2) 3\n",
      "CZ 3 0\n",
      "RZ(-1.6094210170917727) 3\n",
      "RX(-pi/2) 3\n",
      "RZ(0.375) 3\n",
      "RX(pi/2) 3\n",
      "CZ 3 0\n",
      "CZ 3 1\n",
      "RX(pi/2) 3\n",
      "RZ(-2.766592653589793) 3\n",
      "RX(pi/2) 3\n",
      "CZ 3 1\n",
      "RZ(-0.7752976046321151) 4\n",
      "RX(pi/2) 4\n",
      "RZ(0.6662220333849895) 4\n",
      "RX(-pi/2) 4\n",
      "CZ 4 0\n",
      "RZ(-2.7164741315838654) 4\n",
      "RX(-pi/2) 4\n",
      "RZ(0.375) 4\n",
      "RX(pi/2) 4\n",
      "CZ 4 0\n",
      "RX(-pi/2) 2\n",
      "CZ 3 2\n",
      "RX(-pi/2) 3\n",
      "RZ(0.375) 3\n",
      "RX(pi/2) 3\n",
      "CZ 3 2\n",
      "CZ 4 1\n",
      "RX(pi/2) 4\n",
      "RZ(-2.766592653589793) 4\n",
      "RX(pi/2) 4\n",
      "CZ 4 1\n",
      "RX(-pi/2) 3\n",
      "CZ 4 3\n",
      "RX(-pi/2) 4\n",
      "RZ(0.375) 4\n",
      "RX(pi/2) 4\n",
      "CZ 4 3\n",
      "RZ(-0.4121661831897878) 0\n",
      "RX(pi) 0\n",
      "RZ(pi/2) 2\n",
      "RZ(pi/2) 3\n",
      "RX(-pi/2) 4\n",
      "RZ(pi/2) 4\n",
      "\n"
     ]
    },
    {
     "ename": "RuntimeError",
     "evalue": "Error encountered while parsing the quil program at line 1 and column 2\nReceived an '<EOF>' but was expecting one of [ INT, '(' ]",
     "output_type": "error",
     "traceback": [
      "\u001b[0;31m---------------------------------------------------------------------------\u001b[0m",
      "\u001b[0;31mInputMismatchException\u001b[0m                    Traceback (most recent call last)",
      "\u001b[0;32m~/.virtualenvs/venv/lib/python3.6/site-packages/pyquil/_parser/gen3/QuilParser.py\u001b[0m in \u001b[0;36mgate\u001b[0;34m(self)\u001b[0m\n\u001b[1;32m    869\u001b[0m             \u001b[0mself\u001b[0m\u001b[0;34m.\u001b[0m\u001b[0mstate\u001b[0m \u001b[0;34m=\u001b[0m \u001b[0;36m171\u001b[0m\u001b[0;34m\u001b[0m\u001b[0;34m\u001b[0m\u001b[0m\n\u001b[0;32m--> 870\u001b[0;31m             \u001b[0mself\u001b[0m\u001b[0;34m.\u001b[0m\u001b[0m_errHandler\u001b[0m\u001b[0;34m.\u001b[0m\u001b[0msync\u001b[0m\u001b[0;34m(\u001b[0m\u001b[0mself\u001b[0m\u001b[0;34m)\u001b[0m\u001b[0;34m\u001b[0m\u001b[0;34m\u001b[0m\u001b[0m\n\u001b[0m\u001b[1;32m    871\u001b[0m             \u001b[0m_la\u001b[0m \u001b[0;34m=\u001b[0m \u001b[0mself\u001b[0m\u001b[0;34m.\u001b[0m\u001b[0m_input\u001b[0m\u001b[0;34m.\u001b[0m\u001b[0mLA\u001b[0m\u001b[0;34m(\u001b[0m\u001b[0;36m1\u001b[0m\u001b[0;34m)\u001b[0m\u001b[0;34m\u001b[0m\u001b[0;34m\u001b[0m\u001b[0m\n",
      "\u001b[0;32m~/.virtualenvs/venv/lib/python3.6/site-packages/antlr4/error/ErrorStrategy.py\u001b[0m in \u001b[0;36msync\u001b[0;34m(self, recognizer)\u001b[0m\n\u001b[1;32m    219\u001b[0m             \u001b[0;32melse\u001b[0m\u001b[0;34m:\u001b[0m\u001b[0;34m\u001b[0m\u001b[0;34m\u001b[0m\u001b[0m\n\u001b[0;32m--> 220\u001b[0;31m                 \u001b[0;32mraise\u001b[0m \u001b[0mInputMismatchException\u001b[0m\u001b[0;34m(\u001b[0m\u001b[0mrecognizer\u001b[0m\u001b[0;34m)\u001b[0m\u001b[0;34m\u001b[0m\u001b[0;34m\u001b[0m\u001b[0m\n\u001b[0m\u001b[1;32m    221\u001b[0m \u001b[0;34m\u001b[0m\u001b[0m\n",
      "\u001b[0;31mInputMismatchException\u001b[0m: None",
      "\nDuring handling of the above exception, another exception occurred:\n",
      "\u001b[0;31mRuntimeError\u001b[0m                              Traceback (most recent call last)",
      "\u001b[0;32m<timed exec>\u001b[0m in \u001b[0;36m<module>\u001b[0;34m\u001b[0m\n",
      "\u001b[0;32m<ipython-input-14-8037c965e17c>\u001b[0m in \u001b[0;36mrun_qaoa_mis\u001b[0;34m(p, params, correct_state)\u001b[0m\n\u001b[1;32m      9\u001b[0m \u001b[0;34m\u001b[0m\u001b[0m\n\u001b[1;32m     10\u001b[0m     \u001b[0;31m# unlimited iterations\u001b[0m\u001b[0;34m\u001b[0m\u001b[0;34m\u001b[0m\u001b[0;34m\u001b[0m\u001b[0m\n\u001b[0;32m---> 11\u001b[0;31m     \u001b[0mresult\u001b[0m \u001b[0;34m=\u001b[0m \u001b[0mminimize\u001b[0m\u001b[0;34m(\u001b[0m\u001b[0mmis_cost\u001b[0m\u001b[0;34m,\u001b[0m \u001b[0mx0\u001b[0m \u001b[0;34m=\u001b[0m \u001b[0mparams\u001b[0m\u001b[0;34m,\u001b[0m \u001b[0mmethod\u001b[0m\u001b[0;34m=\u001b[0m\u001b[0;34m'Nelder-Mead'\u001b[0m\u001b[0;34m,\u001b[0m \u001b[0moptions\u001b[0m\u001b[0;34m=\u001b[0m\u001b[0;34m{\u001b[0m\u001b[0;34m'disp'\u001b[0m\u001b[0;34m:\u001b[0m \u001b[0;32mTrue\u001b[0m\u001b[0;34m}\u001b[0m\u001b[0;34m)\u001b[0m\u001b[0;34m\u001b[0m\u001b[0;34m\u001b[0m\u001b[0m\n\u001b[0m\u001b[1;32m     12\u001b[0m \u001b[0;34m\u001b[0m\u001b[0m\n\u001b[1;32m     13\u001b[0m     \u001b[0mhalf\u001b[0m \u001b[0;34m=\u001b[0m \u001b[0mint\u001b[0m\u001b[0;34m(\u001b[0m\u001b[0mlen\u001b[0m\u001b[0;34m(\u001b[0m\u001b[0mresult\u001b[0m\u001b[0;34m[\u001b[0m\u001b[0;34m'x'\u001b[0m\u001b[0;34m]\u001b[0m\u001b[0;34m)\u001b[0m\u001b[0;34m/\u001b[0m\u001b[0;36m2\u001b[0m\u001b[0;34m)\u001b[0m\u001b[0;34m\u001b[0m\u001b[0;34m\u001b[0m\u001b[0m\n",
      "\u001b[0;32m~/.virtualenvs/venv/lib/python3.6/site-packages/scipy/optimize/_minimize.py\u001b[0m in \u001b[0;36mminimize\u001b[0;34m(fun, x0, args, method, jac, hess, hessp, bounds, constraints, tol, callback, options)\u001b[0m\n\u001b[1;32m    586\u001b[0m                       callback=callback, **options)\n\u001b[1;32m    587\u001b[0m     \u001b[0;32melif\u001b[0m \u001b[0mmeth\u001b[0m \u001b[0;34m==\u001b[0m \u001b[0;34m'nelder-mead'\u001b[0m\u001b[0;34m:\u001b[0m\u001b[0;34m\u001b[0m\u001b[0;34m\u001b[0m\u001b[0m\n\u001b[0;32m--> 588\u001b[0;31m         \u001b[0;32mreturn\u001b[0m \u001b[0m_minimize_neldermead\u001b[0m\u001b[0;34m(\u001b[0m\u001b[0mfun\u001b[0m\u001b[0;34m,\u001b[0m \u001b[0mx0\u001b[0m\u001b[0;34m,\u001b[0m \u001b[0margs\u001b[0m\u001b[0;34m,\u001b[0m \u001b[0mcallback\u001b[0m\u001b[0;34m,\u001b[0m \u001b[0;34m**\u001b[0m\u001b[0moptions\u001b[0m\u001b[0;34m)\u001b[0m\u001b[0;34m\u001b[0m\u001b[0;34m\u001b[0m\u001b[0m\n\u001b[0m\u001b[1;32m    589\u001b[0m     \u001b[0;32melif\u001b[0m \u001b[0mmeth\u001b[0m \u001b[0;34m==\u001b[0m \u001b[0;34m'powell'\u001b[0m\u001b[0;34m:\u001b[0m\u001b[0;34m\u001b[0m\u001b[0;34m\u001b[0m\u001b[0m\n\u001b[1;32m    590\u001b[0m         \u001b[0;32mreturn\u001b[0m \u001b[0m_minimize_powell\u001b[0m\u001b[0;34m(\u001b[0m\u001b[0mfun\u001b[0m\u001b[0;34m,\u001b[0m \u001b[0mx0\u001b[0m\u001b[0;34m,\u001b[0m \u001b[0margs\u001b[0m\u001b[0;34m,\u001b[0m \u001b[0mcallback\u001b[0m\u001b[0;34m,\u001b[0m \u001b[0;34m**\u001b[0m\u001b[0moptions\u001b[0m\u001b[0;34m)\u001b[0m\u001b[0;34m\u001b[0m\u001b[0;34m\u001b[0m\u001b[0m\n",
      "\u001b[0;32m~/.virtualenvs/venv/lib/python3.6/site-packages/scipy/optimize/optimize.py\u001b[0m in \u001b[0;36m_minimize_neldermead\u001b[0;34m(func, x0, args, callback, maxiter, maxfev, disp, return_all, initial_simplex, xatol, fatol, adaptive, **unknown_options)\u001b[0m\n\u001b[1;32m    583\u001b[0m \u001b[0;34m\u001b[0m\u001b[0m\n\u001b[1;32m    584\u001b[0m     \u001b[0;32mfor\u001b[0m \u001b[0mk\u001b[0m \u001b[0;32min\u001b[0m \u001b[0mrange\u001b[0m\u001b[0;34m(\u001b[0m\u001b[0mN\u001b[0m \u001b[0;34m+\u001b[0m \u001b[0;36m1\u001b[0m\u001b[0;34m)\u001b[0m\u001b[0;34m:\u001b[0m\u001b[0;34m\u001b[0m\u001b[0;34m\u001b[0m\u001b[0m\n\u001b[0;32m--> 585\u001b[0;31m         \u001b[0mfsim\u001b[0m\u001b[0;34m[\u001b[0m\u001b[0mk\u001b[0m\u001b[0;34m]\u001b[0m \u001b[0;34m=\u001b[0m \u001b[0mfunc\u001b[0m\u001b[0;34m(\u001b[0m\u001b[0msim\u001b[0m\u001b[0;34m[\u001b[0m\u001b[0mk\u001b[0m\u001b[0;34m]\u001b[0m\u001b[0;34m)\u001b[0m\u001b[0;34m\u001b[0m\u001b[0;34m\u001b[0m\u001b[0m\n\u001b[0m\u001b[1;32m    586\u001b[0m \u001b[0;34m\u001b[0m\u001b[0m\n\u001b[1;32m    587\u001b[0m     \u001b[0mind\u001b[0m \u001b[0;34m=\u001b[0m \u001b[0mnumpy\u001b[0m\u001b[0;34m.\u001b[0m\u001b[0margsort\u001b[0m\u001b[0;34m(\u001b[0m\u001b[0mfsim\u001b[0m\u001b[0;34m)\u001b[0m\u001b[0;34m\u001b[0m\u001b[0;34m\u001b[0m\u001b[0m\n",
      "\u001b[0;32m~/.virtualenvs/venv/lib/python3.6/site-packages/scipy/optimize/optimize.py\u001b[0m in \u001b[0;36mfunction_wrapper\u001b[0;34m(*wrapper_args)\u001b[0m\n\u001b[1;32m    324\u001b[0m     \u001b[0;32mdef\u001b[0m \u001b[0mfunction_wrapper\u001b[0m\u001b[0;34m(\u001b[0m\u001b[0;34m*\u001b[0m\u001b[0mwrapper_args\u001b[0m\u001b[0;34m)\u001b[0m\u001b[0;34m:\u001b[0m\u001b[0;34m\u001b[0m\u001b[0;34m\u001b[0m\u001b[0m\n\u001b[1;32m    325\u001b[0m         \u001b[0mncalls\u001b[0m\u001b[0;34m[\u001b[0m\u001b[0;36m0\u001b[0m\u001b[0;34m]\u001b[0m \u001b[0;34m+=\u001b[0m \u001b[0;36m1\u001b[0m\u001b[0;34m\u001b[0m\u001b[0;34m\u001b[0m\u001b[0m\n\u001b[0;32m--> 326\u001b[0;31m         \u001b[0;32mreturn\u001b[0m \u001b[0mfunction\u001b[0m\u001b[0;34m(\u001b[0m\u001b[0;34m*\u001b[0m\u001b[0;34m(\u001b[0m\u001b[0mwrapper_args\u001b[0m \u001b[0;34m+\u001b[0m \u001b[0margs\u001b[0m\u001b[0;34m)\u001b[0m\u001b[0;34m)\u001b[0m\u001b[0;34m\u001b[0m\u001b[0;34m\u001b[0m\u001b[0m\n\u001b[0m\u001b[1;32m    327\u001b[0m \u001b[0;34m\u001b[0m\u001b[0m\n\u001b[1;32m    328\u001b[0m     \u001b[0;32mreturn\u001b[0m \u001b[0mncalls\u001b[0m\u001b[0;34m,\u001b[0m \u001b[0mfunction_wrapper\u001b[0m\u001b[0;34m\u001b[0m\u001b[0;34m\u001b[0m\u001b[0m\n",
      "\u001b[0;32m<ipython-input-5-b2ea8433179c>\u001b[0m in \u001b[0;36mmis_cost\u001b[0;34m(params)\u001b[0m\n\u001b[1;32m      5\u001b[0m     \u001b[0mhalf\u001b[0m \u001b[0;34m=\u001b[0m \u001b[0mint\u001b[0m\u001b[0;34m(\u001b[0m\u001b[0mlen\u001b[0m\u001b[0;34m(\u001b[0m\u001b[0mparams\u001b[0m\u001b[0;34m)\u001b[0m\u001b[0;34m/\u001b[0m\u001b[0;36m2\u001b[0m\u001b[0;34m)\u001b[0m\u001b[0;34m\u001b[0m\u001b[0;34m\u001b[0m\u001b[0m\n\u001b[1;32m      6\u001b[0m     \u001b[0mbetas\u001b[0m\u001b[0;34m,\u001b[0m \u001b[0mgammas\u001b[0m \u001b[0;34m=\u001b[0m \u001b[0mparams\u001b[0m\u001b[0;34m[\u001b[0m\u001b[0;34m:\u001b[0m\u001b[0mhalf\u001b[0m\u001b[0;34m]\u001b[0m\u001b[0;34m,\u001b[0m \u001b[0mparams\u001b[0m\u001b[0;34m[\u001b[0m\u001b[0mhalf\u001b[0m\u001b[0;34m:\u001b[0m\u001b[0;34m]\u001b[0m\u001b[0;34m\u001b[0m\u001b[0;34m\u001b[0m\u001b[0m\n\u001b[0;32m----> 7\u001b[0;31m     \u001b[0mpq\u001b[0m \u001b[0;34m=\u001b[0m \u001b[0mmis_ansatz\u001b[0m\u001b[0;34m(\u001b[0m\u001b[0mbetas\u001b[0m\u001b[0;34m,\u001b[0m \u001b[0mgammas\u001b[0m\u001b[0;34m)\u001b[0m\u001b[0;34m\u001b[0m\u001b[0;34m\u001b[0m\u001b[0m\n\u001b[0m\u001b[1;32m      8\u001b[0m     \u001b[0;32mreturn\u001b[0m \u001b[0mWavefunctionSimulator\u001b[0m\u001b[0;34m(\u001b[0m\u001b[0;34m)\u001b[0m\u001b[0;34m.\u001b[0m\u001b[0mexpectation\u001b[0m\u001b[0;34m(\u001b[0m\u001b[0mprep_prog\u001b[0m \u001b[0;34m=\u001b[0m \u001b[0mpq\u001b[0m\u001b[0;34m,\u001b[0m \u001b[0mpauli_terms\u001b[0m \u001b[0;34m=\u001b[0m \u001b[0mh_cost\u001b[0m\u001b[0;34m)\u001b[0m\u001b[0;34m\u001b[0m\u001b[0;34m\u001b[0m\u001b[0m\n",
      "\u001b[0;32m<ipython-input-21-59f81ce21cfd>\u001b[0m in \u001b[0;36mmis_ansatz\u001b[0;34m(betas, gammas)\u001b[0m\n\u001b[1;32m     11\u001b[0m                 for g, b in zip(gammas, betas)]\n\u001b[1;32m     12\u001b[0m     \u001b[0mpq\u001b[0m \u001b[0;34m=\u001b[0m \u001b[0mmake_native\u001b[0m\u001b[0;34m(\u001b[0m\u001b[0mpq\u001b[0m\u001b[0;34m)\u001b[0m\u001b[0;34m\u001b[0m\u001b[0;34m\u001b[0m\u001b[0m\n\u001b[0;32m---> 13\u001b[0;31m     \u001b[0mpq\u001b[0m \u001b[0;34m=\u001b[0m \u001b[0mnoise\u001b[0m\u001b[0;34m.\u001b[0m\u001b[0madd_decoherence_noise\u001b[0m\u001b[0;34m(\u001b[0m\u001b[0mpq\u001b[0m\u001b[0;34m,\u001b[0m \u001b[0mT1\u001b[0m\u001b[0;34m=\u001b[0m\u001b[0;36m3e-05\u001b[0m\u001b[0;34m,\u001b[0m \u001b[0mT2\u001b[0m\u001b[0;34m=\u001b[0m\u001b[0;36m3e-05\u001b[0m\u001b[0;34m,\u001b[0m \u001b[0mgate_time_1q\u001b[0m\u001b[0;34m=\u001b[0m\u001b[0;36m5e-08\u001b[0m\u001b[0;34m,\u001b[0m \u001b[0mgate_time_2q\u001b[0m\u001b[0;34m=\u001b[0m\u001b[0;36m1.5e-07\u001b[0m\u001b[0;34m,\u001b[0m \u001b[0mro_fidelity\u001b[0m\u001b[0;34m=\u001b[0m\u001b[0;36m0.95\u001b[0m\u001b[0;34m)\u001b[0m\u001b[0;34m\u001b[0m\u001b[0;34m\u001b[0m\u001b[0m\n\u001b[0m\u001b[1;32m     14\u001b[0m     \u001b[0;32mreturn\u001b[0m \u001b[0mpq\u001b[0m\u001b[0;34m\u001b[0m\u001b[0;34m\u001b[0m\u001b[0m\n",
      "\u001b[0;32m~/.virtualenvs/venv/lib/python3.6/site-packages/pyquil/noise.py\u001b[0m in \u001b[0;36madd_decoherence_noise\u001b[0;34m(prog, T1, T2, gate_time_1q, gate_time_2q, ro_fidelity)\u001b[0m\n\u001b[1;32m    617\u001b[0m         \u001b[0mro_fidelity\u001b[0m\u001b[0;34m=\u001b[0m\u001b[0mro_fidelity\u001b[0m\u001b[0;34m\u001b[0m\u001b[0;34m\u001b[0m\u001b[0m\n\u001b[1;32m    618\u001b[0m     )\n\u001b[0;32m--> 619\u001b[0;31m     \u001b[0;32mreturn\u001b[0m \u001b[0mapply_noise_model\u001b[0m\u001b[0;34m(\u001b[0m\u001b[0mprog\u001b[0m\u001b[0;34m,\u001b[0m \u001b[0mnoise_model\u001b[0m\u001b[0;34m)\u001b[0m\u001b[0;34m\u001b[0m\u001b[0;34m\u001b[0m\u001b[0m\n\u001b[0m\u001b[1;32m    620\u001b[0m \u001b[0;34m\u001b[0m\u001b[0m\n\u001b[1;32m    621\u001b[0m \u001b[0;34m\u001b[0m\u001b[0m\n",
      "\u001b[0;32m~/.virtualenvs/venv/lib/python3.6/site-packages/pyquil/noise.py\u001b[0m in \u001b[0;36mapply_noise_model\u001b[0;34m(prog, noise_model)\u001b[0m\n\u001b[1;32m    566\u001b[0m                 \u001b[0mnew_prog\u001b[0m \u001b[0;34m+=\u001b[0m \u001b[0mi\u001b[0m\u001b[0;34m\u001b[0m\u001b[0;34m\u001b[0m\u001b[0m\n\u001b[1;32m    567\u001b[0m         \u001b[0;32melse\u001b[0m\u001b[0;34m:\u001b[0m\u001b[0;34m\u001b[0m\u001b[0;34m\u001b[0m\u001b[0m\n\u001b[0;32m--> 568\u001b[0;31m             \u001b[0mnew_prog\u001b[0m \u001b[0;34m+=\u001b[0m \u001b[0mi\u001b[0m\u001b[0;34m\u001b[0m\u001b[0;34m\u001b[0m\u001b[0m\n\u001b[0m\u001b[1;32m    569\u001b[0m     \u001b[0;32mreturn\u001b[0m \u001b[0mnew_prog\u001b[0m\u001b[0;34m\u001b[0m\u001b[0;34m\u001b[0m\u001b[0m\n\u001b[1;32m    570\u001b[0m \u001b[0;34m\u001b[0m\u001b[0m\n",
      "\u001b[0;32m~/.virtualenvs/venv/lib/python3.6/site-packages/pyquil/quil.py\u001b[0m in \u001b[0;36m__iadd__\u001b[0;34m(self, other)\u001b[0m\n\u001b[1;32m    640\u001b[0m         \u001b[0;34m:\u001b[0m\u001b[0mrtype\u001b[0m\u001b[0;34m:\u001b[0m \u001b[0mProgram\u001b[0m\u001b[0;34m\u001b[0m\u001b[0;34m\u001b[0m\u001b[0m\n\u001b[1;32m    641\u001b[0m         \"\"\"\n\u001b[0;32m--> 642\u001b[0;31m         \u001b[0;32mreturn\u001b[0m \u001b[0mself\u001b[0m\u001b[0;34m.\u001b[0m\u001b[0minst\u001b[0m\u001b[0;34m(\u001b[0m\u001b[0mother\u001b[0m\u001b[0;34m)\u001b[0m\u001b[0;34m\u001b[0m\u001b[0;34m\u001b[0m\u001b[0m\n\u001b[0m\u001b[1;32m    643\u001b[0m \u001b[0;34m\u001b[0m\u001b[0m\n\u001b[1;32m    644\u001b[0m     \u001b[0;32mdef\u001b[0m \u001b[0m__getitem__\u001b[0m\u001b[0;34m(\u001b[0m\u001b[0mself\u001b[0m\u001b[0;34m,\u001b[0m \u001b[0mindex\u001b[0m\u001b[0;34m)\u001b[0m\u001b[0;34m:\u001b[0m\u001b[0;34m\u001b[0m\u001b[0;34m\u001b[0m\u001b[0m\n",
      "\u001b[0;32m~/.virtualenvs/venv/lib/python3.6/site-packages/pyquil/quil.py\u001b[0m in \u001b[0;36minst\u001b[0;34m(self, *instructions)\u001b[0m\n\u001b[1;32m    166\u001b[0m                         \u001b[0mself\u001b[0m\u001b[0;34m.\u001b[0m\u001b[0mgate\u001b[0m\u001b[0;34m(\u001b[0m\u001b[0mop\u001b[0m\u001b[0;34m,\u001b[0m \u001b[0mparams\u001b[0m\u001b[0;34m,\u001b[0m \u001b[0mrest\u001b[0m\u001b[0;34m)\u001b[0m\u001b[0;34m\u001b[0m\u001b[0;34m\u001b[0m\u001b[0m\n\u001b[1;32m    167\u001b[0m             \u001b[0;32melif\u001b[0m \u001b[0misinstance\u001b[0m\u001b[0;34m(\u001b[0m\u001b[0minstruction\u001b[0m\u001b[0;34m,\u001b[0m \u001b[0mstring_types\u001b[0m\u001b[0;34m)\u001b[0m\u001b[0;34m:\u001b[0m\u001b[0;34m\u001b[0m\u001b[0;34m\u001b[0m\u001b[0m\n\u001b[0;32m--> 168\u001b[0;31m                 \u001b[0mself\u001b[0m\u001b[0;34m.\u001b[0m\u001b[0minst\u001b[0m\u001b[0;34m(\u001b[0m\u001b[0mrun_parser\u001b[0m\u001b[0;34m(\u001b[0m\u001b[0minstruction\u001b[0m\u001b[0;34m.\u001b[0m\u001b[0mstrip\u001b[0m\u001b[0;34m(\u001b[0m\u001b[0;34m)\u001b[0m\u001b[0;34m)\u001b[0m\u001b[0;34m)\u001b[0m\u001b[0;34m\u001b[0m\u001b[0;34m\u001b[0m\u001b[0m\n\u001b[0m\u001b[1;32m    169\u001b[0m             \u001b[0;32melif\u001b[0m \u001b[0misinstance\u001b[0m\u001b[0;34m(\u001b[0m\u001b[0minstruction\u001b[0m\u001b[0;34m,\u001b[0m \u001b[0mProgram\u001b[0m\u001b[0;34m)\u001b[0m\u001b[0;34m:\u001b[0m\u001b[0;34m\u001b[0m\u001b[0;34m\u001b[0m\u001b[0m\n\u001b[1;32m    170\u001b[0m                 \u001b[0;32mif\u001b[0m \u001b[0mid\u001b[0m\u001b[0;34m(\u001b[0m\u001b[0mself\u001b[0m\u001b[0;34m)\u001b[0m \u001b[0;34m==\u001b[0m \u001b[0mid\u001b[0m\u001b[0;34m(\u001b[0m\u001b[0minstruction\u001b[0m\u001b[0;34m)\u001b[0m\u001b[0;34m:\u001b[0m\u001b[0;34m\u001b[0m\u001b[0;34m\u001b[0m\u001b[0m\n",
      "\u001b[0;32m~/.virtualenvs/venv/lib/python3.6/site-packages/pyquil/_parser/PyQuilListener.py\u001b[0m in \u001b[0;36mrun_parser\u001b[0;34m(quil)\u001b[0m\n\u001b[1;32m     65\u001b[0m     \u001b[0mparser\u001b[0m\u001b[0;34m.\u001b[0m\u001b[0mremoveErrorListeners\u001b[0m\u001b[0;34m(\u001b[0m\u001b[0;34m)\u001b[0m\u001b[0;34m\u001b[0m\u001b[0;34m\u001b[0m\u001b[0m\n\u001b[1;32m     66\u001b[0m     \u001b[0mparser\u001b[0m\u001b[0;34m.\u001b[0m\u001b[0maddErrorListener\u001b[0m\u001b[0;34m(\u001b[0m\u001b[0mCustomErrorListener\u001b[0m\u001b[0;34m(\u001b[0m\u001b[0;34m)\u001b[0m\u001b[0;34m)\u001b[0m\u001b[0;34m\u001b[0m\u001b[0;34m\u001b[0m\u001b[0m\n\u001b[0;32m---> 67\u001b[0;31m     \u001b[0mtree\u001b[0m \u001b[0;34m=\u001b[0m \u001b[0mparser\u001b[0m\u001b[0;34m.\u001b[0m\u001b[0mquil\u001b[0m\u001b[0;34m(\u001b[0m\u001b[0;34m)\u001b[0m\u001b[0;34m\u001b[0m\u001b[0;34m\u001b[0m\u001b[0m\n\u001b[0m\u001b[1;32m     68\u001b[0m \u001b[0;34m\u001b[0m\u001b[0m\n\u001b[1;32m     69\u001b[0m     \u001b[0;31m# Step 3: Run the Listener\u001b[0m\u001b[0;34m\u001b[0m\u001b[0;34m\u001b[0m\u001b[0;34m\u001b[0m\u001b[0m\n",
      "\u001b[0;32m~/.virtualenvs/venv/lib/python3.6/site-packages/pyquil/_parser/gen3/QuilParser.py\u001b[0m in \u001b[0;36mquil\u001b[0;34m(self)\u001b[0m\n\u001b[1;32m    478\u001b[0m             \u001b[0;32mif\u001b[0m \u001b[0;34m(\u001b[0m\u001b[0;34m(\u001b[0m\u001b[0;34m(\u001b[0m\u001b[0m_la\u001b[0m\u001b[0;34m)\u001b[0m \u001b[0;34m&\u001b[0m \u001b[0;34m~\u001b[0m\u001b[0;36m0x3f\u001b[0m\u001b[0;34m)\u001b[0m \u001b[0;34m==\u001b[0m \u001b[0;36m0\u001b[0m \u001b[0;32mand\u001b[0m \u001b[0;34m(\u001b[0m\u001b[0;34m(\u001b[0m\u001b[0;36m1\u001b[0m \u001b[0;34m<<\u001b[0m \u001b[0m_la\u001b[0m\u001b[0;34m)\u001b[0m \u001b[0;34m&\u001b[0m \u001b[0;34m(\u001b[0m\u001b[0;34m(\u001b[0m\u001b[0;36m1\u001b[0m \u001b[0;34m<<\u001b[0m \u001b[0mQuilParser\u001b[0m\u001b[0;34m.\u001b[0m\u001b[0mDEFGATE\u001b[0m\u001b[0;34m)\u001b[0m \u001b[0;34m|\u001b[0m \u001b[0;34m(\u001b[0m\u001b[0;36m1\u001b[0m \u001b[0;34m<<\u001b[0m \u001b[0mQuilParser\u001b[0m\u001b[0;34m.\u001b[0m\u001b[0mDEFCIRCUIT\u001b[0m\u001b[0;34m)\u001b[0m \u001b[0;34m|\u001b[0m \u001b[0;34m(\u001b[0m\u001b[0;36m1\u001b[0m \u001b[0;34m<<\u001b[0m \u001b[0mQuilParser\u001b[0m\u001b[0;34m.\u001b[0m\u001b[0mMEASURE\u001b[0m\u001b[0;34m)\u001b[0m \u001b[0;34m|\u001b[0m \u001b[0;34m(\u001b[0m\u001b[0;36m1\u001b[0m \u001b[0;34m<<\u001b[0m \u001b[0mQuilParser\u001b[0m\u001b[0;34m.\u001b[0m\u001b[0mLABEL\u001b[0m\u001b[0;34m)\u001b[0m \u001b[0;34m|\u001b[0m \u001b[0;34m(\u001b[0m\u001b[0;36m1\u001b[0m \u001b[0;34m<<\u001b[0m \u001b[0mQuilParser\u001b[0m\u001b[0;34m.\u001b[0m\u001b[0mHALT\u001b[0m\u001b[0;34m)\u001b[0m \u001b[0;34m|\u001b[0m \u001b[0;34m(\u001b[0m\u001b[0;36m1\u001b[0m \u001b[0;34m<<\u001b[0m \u001b[0mQuilParser\u001b[0m\u001b[0;34m.\u001b[0m\u001b[0mJUMP\u001b[0m\u001b[0;34m)\u001b[0m \u001b[0;34m|\u001b[0m \u001b[0;34m(\u001b[0m\u001b[0;36m1\u001b[0m \u001b[0;34m<<\u001b[0m \u001b[0mQuilParser\u001b[0m\u001b[0;34m.\u001b[0m\u001b[0mJUMPWHEN\u001b[0m\u001b[0;34m)\u001b[0m \u001b[0;34m|\u001b[0m \u001b[0;34m(\u001b[0m\u001b[0;36m1\u001b[0m \u001b[0;34m<<\u001b[0m \u001b[0mQuilParser\u001b[0m\u001b[0;34m.\u001b[0m\u001b[0mJUMPUNLESS\u001b[0m\u001b[0;34m)\u001b[0m \u001b[0;34m|\u001b[0m \u001b[0;34m(\u001b[0m\u001b[0;36m1\u001b[0m \u001b[0;34m<<\u001b[0m \u001b[0mQuilParser\u001b[0m\u001b[0;34m.\u001b[0m\u001b[0mRESET\u001b[0m\u001b[0;34m)\u001b[0m \u001b[0;34m|\u001b[0m \u001b[0;34m(\u001b[0m\u001b[0;36m1\u001b[0m \u001b[0;34m<<\u001b[0m \u001b[0mQuilParser\u001b[0m\u001b[0;34m.\u001b[0m\u001b[0mWAIT\u001b[0m\u001b[0;34m)\u001b[0m \u001b[0;34m|\u001b[0m \u001b[0;34m(\u001b[0m\u001b[0;36m1\u001b[0m \u001b[0;34m<<\u001b[0m \u001b[0mQuilParser\u001b[0m\u001b[0;34m.\u001b[0m\u001b[0mNOP\u001b[0m\u001b[0;34m)\u001b[0m \u001b[0;34m|\u001b[0m \u001b[0;34m(\u001b[0m\u001b[0;36m1\u001b[0m \u001b[0;34m<<\u001b[0m \u001b[0mQuilParser\u001b[0m\u001b[0;34m.\u001b[0m\u001b[0mINCLUDE\u001b[0m\u001b[0;34m)\u001b[0m \u001b[0;34m|\u001b[0m \u001b[0;34m(\u001b[0m\u001b[0;36m1\u001b[0m \u001b[0;34m<<\u001b[0m \u001b[0mQuilParser\u001b[0m\u001b[0;34m.\u001b[0m\u001b[0mPRAGMA\u001b[0m\u001b[0;34m)\u001b[0m \u001b[0;34m|\u001b[0m \u001b[0;34m(\u001b[0m\u001b[0;36m1\u001b[0m \u001b[0;34m<<\u001b[0m \u001b[0mQuilParser\u001b[0m\u001b[0;34m.\u001b[0m\u001b[0mDECLARE\u001b[0m\u001b[0;34m)\u001b[0m \u001b[0;34m|\u001b[0m \u001b[0;34m(\u001b[0m\u001b[0;36m1\u001b[0m \u001b[0;34m<<\u001b[0m \u001b[0mQuilParser\u001b[0m\u001b[0;34m.\u001b[0m\u001b[0mNEG\u001b[0m\u001b[0;34m)\u001b[0m \u001b[0;34m|\u001b[0m \u001b[0;34m(\u001b[0m\u001b[0;36m1\u001b[0m \u001b[0;34m<<\u001b[0m \u001b[0mQuilParser\u001b[0m\u001b[0;34m.\u001b[0m\u001b[0mNOT\u001b[0m\u001b[0;34m)\u001b[0m \u001b[0;34m|\u001b[0m \u001b[0;34m(\u001b[0m\u001b[0;36m1\u001b[0m \u001b[0;34m<<\u001b[0m \u001b[0mQuilParser\u001b[0m\u001b[0;34m.\u001b[0m\u001b[0mTRUE\u001b[0m\u001b[0;34m)\u001b[0m \u001b[0;34m|\u001b[0m \u001b[0;34m(\u001b[0m\u001b[0;36m1\u001b[0m \u001b[0;34m<<\u001b[0m \u001b[0mQuilParser\u001b[0m\u001b[0;34m.\u001b[0m\u001b[0mFALSE\u001b[0m\u001b[0;34m)\u001b[0m \u001b[0;34m|\u001b[0m \u001b[0;34m(\u001b[0m\u001b[0;36m1\u001b[0m \u001b[0;34m<<\u001b[0m \u001b[0mQuilParser\u001b[0m\u001b[0;34m.\u001b[0m\u001b[0mAND\u001b[0m\u001b[0;34m)\u001b[0m \u001b[0;34m|\u001b[0m \u001b[0;34m(\u001b[0m\u001b[0;36m1\u001b[0m \u001b[0;34m<<\u001b[0m \u001b[0mQuilParser\u001b[0m\u001b[0;34m.\u001b[0m\u001b[0mIOR\u001b[0m\u001b[0;34m)\u001b[0m \u001b[0;34m|\u001b[0m \u001b[0;34m(\u001b[0m\u001b[0;36m1\u001b[0m \u001b[0;34m<<\u001b[0m \u001b[0mQuilParser\u001b[0m\u001b[0;34m.\u001b[0m\u001b[0mXOR\u001b[0m\u001b[0;34m)\u001b[0m \u001b[0;34m|\u001b[0m \u001b[0;34m(\u001b[0m\u001b[0;36m1\u001b[0m \u001b[0;34m<<\u001b[0m \u001b[0mQuilParser\u001b[0m\u001b[0;34m.\u001b[0m\u001b[0mOR\u001b[0m\u001b[0;34m)\u001b[0m \u001b[0;34m|\u001b[0m \u001b[0;34m(\u001b[0m\u001b[0;36m1\u001b[0m \u001b[0;34m<<\u001b[0m \u001b[0mQuilParser\u001b[0m\u001b[0;34m.\u001b[0m\u001b[0mADD\u001b[0m\u001b[0;34m)\u001b[0m \u001b[0;34m|\u001b[0m \u001b[0;34m(\u001b[0m\u001b[0;36m1\u001b[0m \u001b[0;34m<<\u001b[0m \u001b[0mQuilParser\u001b[0m\u001b[0;34m.\u001b[0m\u001b[0mSUB\u001b[0m\u001b[0;34m)\u001b[0m \u001b[0;34m|\u001b[0m \u001b[0;34m(\u001b[0m\u001b[0;36m1\u001b[0m \u001b[0;34m<<\u001b[0m \u001b[0mQuilParser\u001b[0m\u001b[0;34m.\u001b[0m\u001b[0mMUL\u001b[0m\u001b[0;34m)\u001b[0m \u001b[0;34m|\u001b[0m \u001b[0;34m(\u001b[0m\u001b[0;36m1\u001b[0m \u001b[0;34m<<\u001b[0m \u001b[0mQuilParser\u001b[0m\u001b[0;34m.\u001b[0m\u001b[0mDIV\u001b[0m\u001b[0;34m)\u001b[0m \u001b[0;34m|\u001b[0m \u001b[0;34m(\u001b[0m\u001b[0;36m1\u001b[0m \u001b[0;34m<<\u001b[0m \u001b[0mQuilParser\u001b[0m\u001b[0;34m.\u001b[0m\u001b[0mMOVE\u001b[0m\u001b[0;34m)\u001b[0m \u001b[0;34m|\u001b[0m \u001b[0;34m(\u001b[0m\u001b[0;36m1\u001b[0m \u001b[0;34m<<\u001b[0m \u001b[0mQuilParser\u001b[0m\u001b[0;34m.\u001b[0m\u001b[0mEXCHANGE\u001b[0m\u001b[0;34m)\u001b[0m \u001b[0;34m|\u001b[0m \u001b[0;34m(\u001b[0m\u001b[0;36m1\u001b[0m \u001b[0;34m<<\u001b[0m \u001b[0mQuilParser\u001b[0m\u001b[0;34m.\u001b[0m\u001b[0mCONVERT\u001b[0m\u001b[0;34m)\u001b[0m \u001b[0;34m|\u001b[0m \u001b[0;34m(\u001b[0m\u001b[0;36m1\u001b[0m \u001b[0;34m<<\u001b[0m \u001b[0mQuilParser\u001b[0m\u001b[0;34m.\u001b[0m\u001b[0mEQ\u001b[0m\u001b[0;34m)\u001b[0m \u001b[0;34m|\u001b[0m \u001b[0;34m(\u001b[0m\u001b[0;36m1\u001b[0m \u001b[0;34m<<\u001b[0m \u001b[0mQuilParser\u001b[0m\u001b[0;34m.\u001b[0m\u001b[0mGT\u001b[0m\u001b[0;34m)\u001b[0m \u001b[0;34m|\u001b[0m \u001b[0;34m(\u001b[0m\u001b[0;36m1\u001b[0m \u001b[0;34m<<\u001b[0m \u001b[0mQuilParser\u001b[0m\u001b[0;34m.\u001b[0m\u001b[0mGE\u001b[0m\u001b[0;34m)\u001b[0m \u001b[0;34m|\u001b[0m \u001b[0;34m(\u001b[0m\u001b[0;36m1\u001b[0m \u001b[0;34m<<\u001b[0m \u001b[0mQuilParser\u001b[0m\u001b[0;34m.\u001b[0m\u001b[0mLT\u001b[0m\u001b[0;34m)\u001b[0m \u001b[0;34m|\u001b[0m \u001b[0;34m(\u001b[0m\u001b[0;36m1\u001b[0m \u001b[0;34m<<\u001b[0m \u001b[0mQuilParser\u001b[0m\u001b[0;34m.\u001b[0m\u001b[0mLE\u001b[0m\u001b[0;34m)\u001b[0m \u001b[0;34m|\u001b[0m \u001b[0;34m(\u001b[0m\u001b[0;36m1\u001b[0m \u001b[0;34m<<\u001b[0m \u001b[0mQuilParser\u001b[0m\u001b[0;34m.\u001b[0m\u001b[0mLOAD\u001b[0m\u001b[0;34m)\u001b[0m \u001b[0;34m|\u001b[0m \u001b[0;34m(\u001b[0m\u001b[0;36m1\u001b[0m \u001b[0;34m<<\u001b[0m \u001b[0mQuilParser\u001b[0m\u001b[0;34m.\u001b[0m\u001b[0mSTORE\u001b[0m\u001b[0;34m)\u001b[0m \u001b[0;34m|\u001b[0m \u001b[0;34m(\u001b[0m\u001b[0;36m1\u001b[0m \u001b[0;34m<<\u001b[0m \u001b[0mQuilParser\u001b[0m\u001b[0;34m.\u001b[0m\u001b[0mCONTROLLED\u001b[0m\u001b[0;34m)\u001b[0m \u001b[0;34m|\u001b[0m \u001b[0;34m(\u001b[0m\u001b[0;36m1\u001b[0m \u001b[0;34m<<\u001b[0m \u001b[0mQuilParser\u001b[0m\u001b[0;34m.\u001b[0m\u001b[0mDAGGER\u001b[0m\u001b[0;34m)\u001b[0m \u001b[0;34m|\u001b[0m \u001b[0;34m(\u001b[0m\u001b[0;36m1\u001b[0m \u001b[0;34m<<\u001b[0m \u001b[0mQuilParser\u001b[0m\u001b[0;34m.\u001b[0m\u001b[0mIDENTIFIER\u001b[0m\u001b[0;34m)\u001b[0m\u001b[0;34m)\u001b[0m\u001b[0;34m)\u001b[0m \u001b[0;34m!=\u001b[0m \u001b[0;36m0\u001b[0m\u001b[0;34m)\u001b[0m\u001b[0;34m:\u001b[0m\u001b[0;34m\u001b[0m\u001b[0;34m\u001b[0m\u001b[0m\n\u001b[1;32m    479\u001b[0m                 \u001b[0mself\u001b[0m\u001b[0;34m.\u001b[0m\u001b[0mstate\u001b[0m \u001b[0;34m=\u001b[0m \u001b[0;36m106\u001b[0m\u001b[0;34m\u001b[0m\u001b[0;34m\u001b[0m\u001b[0m\n\u001b[0;32m--> 480\u001b[0;31m                 \u001b[0mself\u001b[0m\u001b[0;34m.\u001b[0m\u001b[0mallInstr\u001b[0m\u001b[0;34m(\u001b[0m\u001b[0;34m)\u001b[0m\u001b[0;34m\u001b[0m\u001b[0;34m\u001b[0m\u001b[0m\n\u001b[0m\u001b[1;32m    481\u001b[0m \u001b[0;34m\u001b[0m\u001b[0m\n\u001b[1;32m    482\u001b[0m \u001b[0;34m\u001b[0m\u001b[0m\n",
      "\u001b[0;32m~/.virtualenvs/venv/lib/python3.6/site-packages/pyquil/_parser/gen3/QuilParser.py\u001b[0m in \u001b[0;36mallInstr\u001b[0;34m(self)\u001b[0m\n\u001b[1;32m    577\u001b[0m                 \u001b[0mself\u001b[0m\u001b[0;34m.\u001b[0m\u001b[0menterOuterAlt\u001b[0m\u001b[0;34m(\u001b[0m\u001b[0mlocalctx\u001b[0m\u001b[0;34m,\u001b[0m \u001b[0;36m3\u001b[0m\u001b[0;34m)\u001b[0m\u001b[0;34m\u001b[0m\u001b[0;34m\u001b[0m\u001b[0m\n\u001b[1;32m    578\u001b[0m                 \u001b[0mself\u001b[0m\u001b[0;34m.\u001b[0m\u001b[0mstate\u001b[0m \u001b[0;34m=\u001b[0m \u001b[0;36m130\u001b[0m\u001b[0;34m\u001b[0m\u001b[0;34m\u001b[0m\u001b[0m\n\u001b[0;32m--> 579\u001b[0;31m                 \u001b[0mself\u001b[0m\u001b[0;34m.\u001b[0m\u001b[0minstr\u001b[0m\u001b[0;34m(\u001b[0m\u001b[0;34m)\u001b[0m\u001b[0;34m\u001b[0m\u001b[0;34m\u001b[0m\u001b[0m\n\u001b[0m\u001b[1;32m    580\u001b[0m                 \u001b[0;32mpass\u001b[0m\u001b[0;34m\u001b[0m\u001b[0;34m\u001b[0m\u001b[0m\n\u001b[1;32m    581\u001b[0m             \u001b[0;32melse\u001b[0m\u001b[0;34m:\u001b[0m\u001b[0;34m\u001b[0m\u001b[0;34m\u001b[0m\u001b[0m\n",
      "\u001b[0;32m~/.virtualenvs/venv/lib/python3.6/site-packages/pyquil/_parser/gen3/QuilParser.py\u001b[0m in \u001b[0;36minstr\u001b[0;34m(self)\u001b[0m\n\u001b[1;32m    693\u001b[0m                 \u001b[0mself\u001b[0m\u001b[0;34m.\u001b[0m\u001b[0menterOuterAlt\u001b[0m\u001b[0;34m(\u001b[0m\u001b[0mlocalctx\u001b[0m\u001b[0;34m,\u001b[0m \u001b[0;36m1\u001b[0m\u001b[0;34m)\u001b[0m\u001b[0;34m\u001b[0m\u001b[0;34m\u001b[0m\u001b[0m\n\u001b[1;32m    694\u001b[0m                 \u001b[0mself\u001b[0m\u001b[0;34m.\u001b[0m\u001b[0mstate\u001b[0m \u001b[0;34m=\u001b[0m \u001b[0;36m133\u001b[0m\u001b[0;34m\u001b[0m\u001b[0;34m\u001b[0m\u001b[0m\n\u001b[0;32m--> 695\u001b[0;31m                 \u001b[0mself\u001b[0m\u001b[0;34m.\u001b[0m\u001b[0mgate\u001b[0m\u001b[0;34m(\u001b[0m\u001b[0;34m)\u001b[0m\u001b[0;34m\u001b[0m\u001b[0;34m\u001b[0m\u001b[0m\n\u001b[0m\u001b[1;32m    696\u001b[0m                 \u001b[0;32mpass\u001b[0m\u001b[0;34m\u001b[0m\u001b[0;34m\u001b[0m\u001b[0m\n\u001b[1;32m    697\u001b[0m             \u001b[0;32melif\u001b[0m \u001b[0mtoken\u001b[0m \u001b[0;32min\u001b[0m \u001b[0;34m[\u001b[0m\u001b[0mQuilParser\u001b[0m\u001b[0;34m.\u001b[0m\u001b[0mMEASURE\u001b[0m\u001b[0;34m]\u001b[0m\u001b[0;34m:\u001b[0m\u001b[0;34m\u001b[0m\u001b[0;34m\u001b[0m\u001b[0m\n",
      "\u001b[0;32m~/.virtualenvs/venv/lib/python3.6/site-packages/pyquil/_parser/gen3/QuilParser.py\u001b[0m in \u001b[0;36mgate\u001b[0;34m(self)\u001b[0m\n\u001b[1;32m    905\u001b[0m         \u001b[0;32mexcept\u001b[0m \u001b[0mRecognitionException\u001b[0m \u001b[0;32mas\u001b[0m \u001b[0mre\u001b[0m\u001b[0;34m:\u001b[0m\u001b[0;34m\u001b[0m\u001b[0;34m\u001b[0m\u001b[0m\n\u001b[1;32m    906\u001b[0m             \u001b[0mlocalctx\u001b[0m\u001b[0;34m.\u001b[0m\u001b[0mexception\u001b[0m \u001b[0;34m=\u001b[0m \u001b[0mre\u001b[0m\u001b[0;34m\u001b[0m\u001b[0;34m\u001b[0m\u001b[0m\n\u001b[0;32m--> 907\u001b[0;31m             \u001b[0mself\u001b[0m\u001b[0;34m.\u001b[0m\u001b[0m_errHandler\u001b[0m\u001b[0;34m.\u001b[0m\u001b[0mreportError\u001b[0m\u001b[0;34m(\u001b[0m\u001b[0mself\u001b[0m\u001b[0;34m,\u001b[0m \u001b[0mre\u001b[0m\u001b[0;34m)\u001b[0m\u001b[0;34m\u001b[0m\u001b[0;34m\u001b[0m\u001b[0m\n\u001b[0m\u001b[1;32m    908\u001b[0m             \u001b[0mself\u001b[0m\u001b[0;34m.\u001b[0m\u001b[0m_errHandler\u001b[0m\u001b[0;34m.\u001b[0m\u001b[0mrecover\u001b[0m\u001b[0;34m(\u001b[0m\u001b[0mself\u001b[0m\u001b[0;34m,\u001b[0m \u001b[0mre\u001b[0m\u001b[0;34m)\u001b[0m\u001b[0;34m\u001b[0m\u001b[0;34m\u001b[0m\u001b[0m\n\u001b[1;32m    909\u001b[0m         \u001b[0;32mfinally\u001b[0m\u001b[0;34m:\u001b[0m\u001b[0;34m\u001b[0m\u001b[0;34m\u001b[0m\u001b[0m\n",
      "\u001b[0;32m~/.virtualenvs/venv/lib/python3.6/site-packages/antlr4/error/ErrorStrategy.py\u001b[0m in \u001b[0;36mreportError\u001b[0;34m(self, recognizer, e)\u001b[0m\n\u001b[1;32m    124\u001b[0m             \u001b[0mself\u001b[0m\u001b[0;34m.\u001b[0m\u001b[0mreportNoViableAlternative\u001b[0m\u001b[0;34m(\u001b[0m\u001b[0mrecognizer\u001b[0m\u001b[0;34m,\u001b[0m \u001b[0me\u001b[0m\u001b[0;34m)\u001b[0m\u001b[0;34m\u001b[0m\u001b[0;34m\u001b[0m\u001b[0m\n\u001b[1;32m    125\u001b[0m         \u001b[0;32melif\u001b[0m \u001b[0misinstance\u001b[0m\u001b[0;34m(\u001b[0m \u001b[0me\u001b[0m\u001b[0;34m,\u001b[0m \u001b[0mInputMismatchException\u001b[0m \u001b[0;34m)\u001b[0m\u001b[0;34m:\u001b[0m\u001b[0;34m\u001b[0m\u001b[0;34m\u001b[0m\u001b[0m\n\u001b[0;32m--> 126\u001b[0;31m             \u001b[0mself\u001b[0m\u001b[0;34m.\u001b[0m\u001b[0mreportInputMismatch\u001b[0m\u001b[0;34m(\u001b[0m\u001b[0mrecognizer\u001b[0m\u001b[0;34m,\u001b[0m \u001b[0me\u001b[0m\u001b[0;34m)\u001b[0m\u001b[0;34m\u001b[0m\u001b[0;34m\u001b[0m\u001b[0m\n\u001b[0m\u001b[1;32m    127\u001b[0m         \u001b[0;32melif\u001b[0m \u001b[0misinstance\u001b[0m\u001b[0;34m(\u001b[0m \u001b[0me\u001b[0m\u001b[0;34m,\u001b[0m \u001b[0mFailedPredicateException\u001b[0m \u001b[0;34m)\u001b[0m\u001b[0;34m:\u001b[0m\u001b[0;34m\u001b[0m\u001b[0;34m\u001b[0m\u001b[0m\n\u001b[1;32m    128\u001b[0m             \u001b[0mself\u001b[0m\u001b[0;34m.\u001b[0m\u001b[0mreportFailedPredicate\u001b[0m\u001b[0;34m(\u001b[0m\u001b[0mrecognizer\u001b[0m\u001b[0;34m,\u001b[0m \u001b[0me\u001b[0m\u001b[0;34m)\u001b[0m\u001b[0;34m\u001b[0m\u001b[0;34m\u001b[0m\u001b[0m\n",
      "\u001b[0;32m~/.virtualenvs/venv/lib/python3.6/site-packages/antlr4/error/ErrorStrategy.py\u001b[0m in \u001b[0;36mreportInputMismatch\u001b[0;34m(self, recognizer, e)\u001b[0m\n\u001b[1;32m    262\u001b[0m         \u001b[0mmsg\u001b[0m \u001b[0;34m=\u001b[0m \u001b[0;34m\"mismatched input \"\u001b[0m \u001b[0;34m+\u001b[0m \u001b[0mself\u001b[0m\u001b[0;34m.\u001b[0m\u001b[0mgetTokenErrorDisplay\u001b[0m\u001b[0;34m(\u001b[0m\u001b[0me\u001b[0m\u001b[0;34m.\u001b[0m\u001b[0moffendingToken\u001b[0m\u001b[0;34m)\u001b[0m\u001b[0;31m \u001b[0m\u001b[0;31m\\\u001b[0m\u001b[0;34m\u001b[0m\u001b[0;34m\u001b[0m\u001b[0m\n\u001b[1;32m    263\u001b[0m               \u001b[0;34m+\u001b[0m \u001b[0;34m\" expecting \"\u001b[0m \u001b[0;34m+\u001b[0m \u001b[0me\u001b[0m\u001b[0;34m.\u001b[0m\u001b[0mgetExpectedTokens\u001b[0m\u001b[0;34m(\u001b[0m\u001b[0;34m)\u001b[0m\u001b[0;34m.\u001b[0m\u001b[0mtoString\u001b[0m\u001b[0;34m(\u001b[0m\u001b[0mrecognizer\u001b[0m\u001b[0;34m.\u001b[0m\u001b[0mliteralNames\u001b[0m\u001b[0;34m,\u001b[0m \u001b[0mrecognizer\u001b[0m\u001b[0;34m.\u001b[0m\u001b[0msymbolicNames\u001b[0m\u001b[0;34m)\u001b[0m\u001b[0;34m\u001b[0m\u001b[0;34m\u001b[0m\u001b[0m\n\u001b[0;32m--> 264\u001b[0;31m         \u001b[0mrecognizer\u001b[0m\u001b[0;34m.\u001b[0m\u001b[0mnotifyErrorListeners\u001b[0m\u001b[0;34m(\u001b[0m\u001b[0mmsg\u001b[0m\u001b[0;34m,\u001b[0m \u001b[0me\u001b[0m\u001b[0;34m.\u001b[0m\u001b[0moffendingToken\u001b[0m\u001b[0;34m,\u001b[0m \u001b[0me\u001b[0m\u001b[0;34m)\u001b[0m\u001b[0;34m\u001b[0m\u001b[0;34m\u001b[0m\u001b[0m\n\u001b[0m\u001b[1;32m    265\u001b[0m \u001b[0;34m\u001b[0m\u001b[0m\n\u001b[1;32m    266\u001b[0m     \u001b[0;31m#\u001b[0m\u001b[0;34m\u001b[0m\u001b[0;34m\u001b[0m\u001b[0;34m\u001b[0m\u001b[0m\n",
      "\u001b[0;32m~/.virtualenvs/venv/lib/python3.6/site-packages/antlr4/Parser.py\u001b[0m in \u001b[0;36mnotifyErrorListeners\u001b[0;34m(self, msg, offendingToken, e)\u001b[0m\n\u001b[1;32m    312\u001b[0m         \u001b[0mcolumn\u001b[0m \u001b[0;34m=\u001b[0m \u001b[0moffendingToken\u001b[0m\u001b[0;34m.\u001b[0m\u001b[0mcolumn\u001b[0m\u001b[0;34m\u001b[0m\u001b[0;34m\u001b[0m\u001b[0m\n\u001b[1;32m    313\u001b[0m         \u001b[0mlistener\u001b[0m \u001b[0;34m=\u001b[0m \u001b[0mself\u001b[0m\u001b[0;34m.\u001b[0m\u001b[0mgetErrorListenerDispatch\u001b[0m\u001b[0;34m(\u001b[0m\u001b[0;34m)\u001b[0m\u001b[0;34m\u001b[0m\u001b[0;34m\u001b[0m\u001b[0m\n\u001b[0;32m--> 314\u001b[0;31m         \u001b[0mlistener\u001b[0m\u001b[0;34m.\u001b[0m\u001b[0msyntaxError\u001b[0m\u001b[0;34m(\u001b[0m\u001b[0mself\u001b[0m\u001b[0;34m,\u001b[0m \u001b[0moffendingToken\u001b[0m\u001b[0;34m,\u001b[0m \u001b[0mline\u001b[0m\u001b[0;34m,\u001b[0m \u001b[0mcolumn\u001b[0m\u001b[0;34m,\u001b[0m \u001b[0mmsg\u001b[0m\u001b[0;34m,\u001b[0m \u001b[0me\u001b[0m\u001b[0;34m)\u001b[0m\u001b[0;34m\u001b[0m\u001b[0;34m\u001b[0m\u001b[0m\n\u001b[0m\u001b[1;32m    315\u001b[0m \u001b[0;34m\u001b[0m\u001b[0m\n\u001b[1;32m    316\u001b[0m     \u001b[0;31m#\u001b[0m\u001b[0;34m\u001b[0m\u001b[0;34m\u001b[0m\u001b[0;34m\u001b[0m\u001b[0m\n",
      "\u001b[0;32m~/.virtualenvs/venv/lib/python3.6/site-packages/antlr4/error/ErrorListener.py\u001b[0m in \u001b[0;36msyntaxError\u001b[0;34m(self, recognizer, offendingSymbol, line, column, msg, e)\u001b[0m\n\u001b[1;32m     58\u001b[0m     \u001b[0;32mdef\u001b[0m \u001b[0msyntaxError\u001b[0m\u001b[0;34m(\u001b[0m\u001b[0mself\u001b[0m\u001b[0;34m,\u001b[0m \u001b[0mrecognizer\u001b[0m\u001b[0;34m,\u001b[0m \u001b[0moffendingSymbol\u001b[0m\u001b[0;34m,\u001b[0m \u001b[0mline\u001b[0m\u001b[0;34m,\u001b[0m \u001b[0mcolumn\u001b[0m\u001b[0;34m,\u001b[0m \u001b[0mmsg\u001b[0m\u001b[0;34m,\u001b[0m \u001b[0me\u001b[0m\u001b[0;34m)\u001b[0m\u001b[0;34m:\u001b[0m\u001b[0;34m\u001b[0m\u001b[0;34m\u001b[0m\u001b[0m\n\u001b[1;32m     59\u001b[0m         \u001b[0;32mfor\u001b[0m \u001b[0mdelegate\u001b[0m \u001b[0;32min\u001b[0m \u001b[0mself\u001b[0m\u001b[0;34m.\u001b[0m\u001b[0mdelegates\u001b[0m\u001b[0;34m:\u001b[0m\u001b[0;34m\u001b[0m\u001b[0;34m\u001b[0m\u001b[0m\n\u001b[0;32m---> 60\u001b[0;31m             \u001b[0mdelegate\u001b[0m\u001b[0;34m.\u001b[0m\u001b[0msyntaxError\u001b[0m\u001b[0;34m(\u001b[0m\u001b[0mrecognizer\u001b[0m\u001b[0;34m,\u001b[0m \u001b[0moffendingSymbol\u001b[0m\u001b[0;34m,\u001b[0m \u001b[0mline\u001b[0m\u001b[0;34m,\u001b[0m \u001b[0mcolumn\u001b[0m\u001b[0;34m,\u001b[0m \u001b[0mmsg\u001b[0m\u001b[0;34m,\u001b[0m \u001b[0me\u001b[0m\u001b[0;34m)\u001b[0m\u001b[0;34m\u001b[0m\u001b[0;34m\u001b[0m\u001b[0m\n\u001b[0m\u001b[1;32m     61\u001b[0m \u001b[0;34m\u001b[0m\u001b[0m\n\u001b[1;32m     62\u001b[0m     \u001b[0;32mdef\u001b[0m \u001b[0mreportAmbiguity\u001b[0m\u001b[0;34m(\u001b[0m\u001b[0mself\u001b[0m\u001b[0;34m,\u001b[0m \u001b[0mrecognizer\u001b[0m\u001b[0;34m,\u001b[0m \u001b[0mdfa\u001b[0m\u001b[0;34m,\u001b[0m \u001b[0mstartIndex\u001b[0m\u001b[0;34m,\u001b[0m \u001b[0mstopIndex\u001b[0m\u001b[0;34m,\u001b[0m \u001b[0mexact\u001b[0m\u001b[0;34m,\u001b[0m \u001b[0mambigAlts\u001b[0m\u001b[0;34m,\u001b[0m \u001b[0mconfigs\u001b[0m\u001b[0;34m)\u001b[0m\u001b[0;34m:\u001b[0m\u001b[0;34m\u001b[0m\u001b[0;34m\u001b[0m\u001b[0m\n",
      "\u001b[0;32m~/.virtualenvs/venv/lib/python3.6/site-packages/pyquil/_parser/PyQuilListener.py\u001b[0m in \u001b[0;36msyntaxError\u001b[0;34m(self, recognizer, offendingSymbol, line, column, msg, e)\u001b[0m\n\u001b[1;32m     82\u001b[0m         raise RuntimeError(\n\u001b[1;32m     83\u001b[0m             \u001b[0;34m\"Error encountered while parsing the quil program at line {} and column {}\\n\"\u001b[0m\u001b[0;34m.\u001b[0m\u001b[0mformat\u001b[0m\u001b[0;34m(\u001b[0m\u001b[0mline\u001b[0m\u001b[0;34m,\u001b[0m \u001b[0mcolumn\u001b[0m \u001b[0;34m+\u001b[0m \u001b[0;36m1\u001b[0m\u001b[0;34m)\u001b[0m\u001b[0;34m\u001b[0m\u001b[0;34m\u001b[0m\u001b[0m\n\u001b[0;32m---> 84\u001b[0;31m             \u001b[0;34m+\u001b[0m \u001b[0;34m\"Received an '{}' but was expecting one of [ {} ]\"\u001b[0m\u001b[0;34m.\u001b[0m\u001b[0mformat\u001b[0m\u001b[0;34m(\u001b[0m\u001b[0moffendingSymbol\u001b[0m\u001b[0;34m.\u001b[0m\u001b[0mtext\u001b[0m\u001b[0;34m,\u001b[0m \u001b[0;34m', '\u001b[0m\u001b[0;34m.\u001b[0m\u001b[0mjoin\u001b[0m\u001b[0;34m(\u001b[0m\u001b[0mexpected_tokens\u001b[0m\u001b[0;34m)\u001b[0m\u001b[0;34m)\u001b[0m\u001b[0;34m\u001b[0m\u001b[0;34m\u001b[0m\u001b[0m\n\u001b[0m\u001b[1;32m     85\u001b[0m         )\n\u001b[1;32m     86\u001b[0m \u001b[0;34m\u001b[0m\u001b[0m\n",
      "\u001b[0;31mRuntimeError\u001b[0m: Error encountered while parsing the quil program at line 1 and column 2\nReceived an '<EOF>' but was expecting one of [ INT, '(' ]"
     ]
    }
   ],
   "source": [
    "%%time\n",
    "\n",
    "# check that we get the expected result\n",
    "# correct = '1011010000'\n",
    "# correct = '10110110'\n",
    "correct = '10100'\n",
    "\n",
    "result, prob_correct = run_qaoa_mis(2, [0.5, 0.5, 0.5, 0.5], correct)\n",
    "print(result)\n",
    "print(prob_correct)"
   ]
  },
  {
   "cell_type": "code",
   "execution_count": null,
   "metadata": {},
   "outputs": [],
   "source": [
    "%%time\n",
    "\n",
    "# SET THIS VALUE\n",
    "p_max = 10\n",
    "\n",
    "p_vals, prob_vals, colors = run_p_range(p_max, correct)"
   ]
  },
  {
   "cell_type": "code",
   "execution_count": null,
   "metadata": {},
   "outputs": [],
   "source": [
    "plt.scatter(p_vals, prob_vals, color = colors) \n",
    "plt.title(\"Dependence on p\")\n",
    "plt.xlabel(\"value of p\")\n",
    "plt.ylabel(\"probability of required state\")\n",
    "# plt.savefig(\"pgraph3.png\")\n",
    "plt.show()"
   ]
  },
  {
   "cell_type": "code",
   "execution_count": null,
   "metadata": {},
   "outputs": [],
   "source": [
    "prob_vals"
   ]
  },
  {
   "cell_type": "markdown",
   "metadata": {},
   "source": [
    "## Section 2: Running on the QPU"
   ]
  },
  {
   "cell_type": "code",
   "execution_count": 2,
   "metadata": {},
   "outputs": [],
   "source": [
    "from pyquil.gates import MEASURE, X"
   ]
  },
  {
   "cell_type": "code",
   "execution_count": 3,
   "metadata": {},
   "outputs": [],
   "source": [
    "from pyquil import get_qc\n",
    "from pyquil.api._devices import list_devices, list_lattices"
   ]
  },
  {
   "cell_type": "code",
   "execution_count": 4,
   "metadata": {},
   "outputs": [],
   "source": [
    "def get_hamil(nodes: List[int], edge_list: List[Tuple[int, int]], delta: float, \n",
    "              U: float, omega: float) -> 'PauliSum, PauliSum':\n",
    "    '''\n",
    "    For a given graph, and values of hyperparameters, returns the cost and driver Hamiltonians.\n",
    "    '''\n",
    "    h_cost = -0.5* delta * sum((sI(i) - sZ(i)) for i in nodes) + 0.25 * U * sum((sI(i) - sZ(i))*(sI(j) - sZ(j)) for i, j in edges)\n",
    "    h_driver = omega*sum(sX(i) for i in nodes) + 0.25*U * sum((sI(i) - sZ(i))*(sI(j) - sZ(j)) for i, j in edges)\n",
    "    return h_cost, h_driver"
   ]
  },
  {
   "cell_type": "code",
   "execution_count": 5,
   "metadata": {},
   "outputs": [],
   "source": [
    "def mis_qpu_ansatz(betas: List[float], gammas: List[float], num_nodes) -> Program:\n",
    "    '''\n",
    "    Returns the program to create the MIS ansatz.\n",
    "    '''    \n",
    "    qubits = list(range(0,num_nodes))\n",
    "    \n",
    "    pq = Program(RESET())\n",
    "    pq += [exponentiate_commuting_pauli_sum(h_cost)(g) + exponentiate_commuting_pauli_sum(h_driver)(b) \n",
    "                for g, b in zip(gammas, betas)]\n",
    "    ro = pq.declare('ro', 'BIT', len(qubits))\n",
    "    pq.inst([MEASURE(qubit, ro[idx]) for idx, qubit in enumerate(qubits)])\n",
    "    pq = make_native(pq)\n",
    "    return pq"
   ]
  },
  {
   "cell_type": "code",
   "execution_count": 6,
   "metadata": {},
   "outputs": [
    {
     "name": "stdout",
     "output_type": "stream",
     "text": [
      "Available devices: ['Aspen-4'].\n",
      "\n",
      "Available lattices: ['Aspen-4-2Q-A', 'Aspen-4-3Q-A', 'Aspen-4-4Q-A', 'Aspen-4-5Q-A', 'Aspen-4-6Q-A', 'Aspen-4-7Q-A', 'Aspen-4-8Q-A', 'Aspen-4-9Q-A', 'Aspen-4-10Q-A', 'Aspen-4-15Q-A', 'Aspen-4-11Q-A', 'Aspen-4-12Q-A', 'Aspen-4-13Q-A', 'Aspen-4-14Q-B', 'Aspen-4-16Q-A'].\n"
     ]
    }
   ],
   "source": [
    "device_names = list_devices()  # Available devices are subject to change.\n",
    "lattice_names = list(list_lattices().keys())  # Available lattices are subject to change.\n",
    "print(f\"Available devices: {device_names}.\\n\")\n",
    "print(f\"Available lattices: {lattice_names}.\")"
   ]
  },
  {
   "cell_type": "code",
   "execution_count": 10,
   "metadata": {},
   "outputs": [
    {
     "ename": "RuntimeError",
     "evalue": "It looks like you've tried to run a program against a QPU but do\n not currently have a reservation on one. To reserve time on Rigetti\n QPUs, use the command line interface, qcs, which comes pre-installed\n in your QMI. From within your QMI, type:\n\n    qcs reserve --lattice <lattice-name>\n\nFor more information, please see the docs at\nhttps://www.rigetti.com/qcs/docs/reservations or reach out to Rigetti\nsupport at support@rigetti.com.",
     "output_type": "error",
     "traceback": [
      "\u001b[0;31m---------------------------------------------------------------------------\u001b[0m",
      "\u001b[0;31mRuntimeError\u001b[0m                              Traceback (most recent call last)",
      "\u001b[0;32m<ipython-input-10-c1b8438382da>\u001b[0m in \u001b[0;36m<module>\u001b[0;34m\u001b[0m\n\u001b[0;32m----> 1\u001b[0;31m \u001b[0mqpu\u001b[0m \u001b[0;34m=\u001b[0m \u001b[0mget_qc\u001b[0m\u001b[0;34m(\u001b[0m\u001b[0;34m'Aspen-4-8Q-A'\u001b[0m\u001b[0;34m)\u001b[0m\u001b[0;34m\u001b[0m\u001b[0;34m\u001b[0m\u001b[0m\n\u001b[0m",
      "\u001b[0;32m~/.virtualenvs/venv/lib/python3.6/site-packages/pyquil/api/_error_reporting.py\u001b[0m in \u001b[0;36mwrapper\u001b[0;34m(*args, **kwargs)\u001b[0m\n\u001b[1;32m    236\u001b[0m             \u001b[0mglobal_error_context\u001b[0m\u001b[0;34m.\u001b[0m\u001b[0mlog\u001b[0m\u001b[0;34m[\u001b[0m\u001b[0mkey\u001b[0m\u001b[0;34m]\u001b[0m \u001b[0;34m=\u001b[0m \u001b[0mpre_entry\u001b[0m\u001b[0;34m\u001b[0m\u001b[0;34m\u001b[0m\u001b[0m\n\u001b[1;32m    237\u001b[0m \u001b[0;34m\u001b[0m\u001b[0m\n\u001b[0;32m--> 238\u001b[0;31m         \u001b[0mval\u001b[0m \u001b[0;34m=\u001b[0m \u001b[0mfunc\u001b[0m\u001b[0;34m(\u001b[0m\u001b[0;34m*\u001b[0m\u001b[0margs\u001b[0m\u001b[0;34m,\u001b[0m \u001b[0;34m**\u001b[0m\u001b[0mkwargs\u001b[0m\u001b[0;34m)\u001b[0m\u001b[0;34m\u001b[0m\u001b[0;34m\u001b[0m\u001b[0m\n\u001b[0m\u001b[1;32m    239\u001b[0m \u001b[0;34m\u001b[0m\u001b[0m\n\u001b[1;32m    240\u001b[0m         \u001b[0;31m# poke the return value of that call in\u001b[0m\u001b[0;34m\u001b[0m\u001b[0;34m\u001b[0m\u001b[0;34m\u001b[0m\u001b[0m\n",
      "\u001b[0;32m~/.virtualenvs/venv/lib/python3.6/site-packages/pyquil/api/_quantum_computer.py\u001b[0m in \u001b[0;36mget_qc\u001b[0;34m(***failed resolving arguments***)\u001b[0m\n\u001b[1;32m    620\u001b[0m                                qam=QPU(\n\u001b[1;32m    621\u001b[0m                                    \u001b[0mendpoint\u001b[0m\u001b[0;34m=\u001b[0m\u001b[0mpyquil_config\u001b[0m\u001b[0;34m.\u001b[0m\u001b[0mqpu_url\u001b[0m\u001b[0;34m,\u001b[0m\u001b[0;34m\u001b[0m\u001b[0;34m\u001b[0m\u001b[0m\n\u001b[0;32m--> 622\u001b[0;31m                                    user=pyquil_config.user_id),\n\u001b[0m\u001b[1;32m    623\u001b[0m                                \u001b[0mdevice\u001b[0m\u001b[0;34m=\u001b[0m\u001b[0mdevice\u001b[0m\u001b[0;34m,\u001b[0m\u001b[0;34m\u001b[0m\u001b[0;34m\u001b[0m\u001b[0m\n\u001b[1;32m    624\u001b[0m                                compiler=QPUCompiler(\n",
      "\u001b[0;32m~/.virtualenvs/venv/lib/python3.6/site-packages/pyquil/api/_error_reporting.py\u001b[0m in \u001b[0;36mwrapper\u001b[0;34m(*args, **kwargs)\u001b[0m\n\u001b[1;32m    236\u001b[0m             \u001b[0mglobal_error_context\u001b[0m\u001b[0;34m.\u001b[0m\u001b[0mlog\u001b[0m\u001b[0;34m[\u001b[0m\u001b[0mkey\u001b[0m\u001b[0;34m]\u001b[0m \u001b[0;34m=\u001b[0m \u001b[0mpre_entry\u001b[0m\u001b[0;34m\u001b[0m\u001b[0;34m\u001b[0m\u001b[0m\n\u001b[1;32m    237\u001b[0m \u001b[0;34m\u001b[0m\u001b[0m\n\u001b[0;32m--> 238\u001b[0;31m         \u001b[0mval\u001b[0m \u001b[0;34m=\u001b[0m \u001b[0mfunc\u001b[0m\u001b[0;34m(\u001b[0m\u001b[0;34m*\u001b[0m\u001b[0margs\u001b[0m\u001b[0;34m,\u001b[0m \u001b[0;34m**\u001b[0m\u001b[0mkwargs\u001b[0m\u001b[0;34m)\u001b[0m\u001b[0;34m\u001b[0m\u001b[0;34m\u001b[0m\u001b[0m\n\u001b[0m\u001b[1;32m    239\u001b[0m \u001b[0;34m\u001b[0m\u001b[0m\n\u001b[1;32m    240\u001b[0m         \u001b[0;31m# poke the return value of that call in\u001b[0m\u001b[0;34m\u001b[0m\u001b[0;34m\u001b[0m\u001b[0;34m\u001b[0m\u001b[0m\n",
      "\u001b[0;32m~/.virtualenvs/venv/lib/python3.6/site-packages/pyquil/api/_qpu.py\u001b[0m in \u001b[0;36m__init__\u001b[0;34m(self, endpoint, user, priority)\u001b[0m\n\u001b[1;32m     91\u001b[0m \u001b[0mFor\u001b[0m \u001b[0mmore\u001b[0m \u001b[0minformation\u001b[0m\u001b[0;34m,\u001b[0m \u001b[0mplease\u001b[0m \u001b[0msee\u001b[0m \u001b[0mthe\u001b[0m \u001b[0mdocs\u001b[0m \u001b[0mat\u001b[0m\u001b[0;34m\u001b[0m\u001b[0;34m\u001b[0m\u001b[0m\n\u001b[1;32m     92\u001b[0m \u001b[0mhttps\u001b[0m\u001b[0;34m:\u001b[0m\u001b[0;34m//\u001b[0m\u001b[0mwww\u001b[0m\u001b[0;34m.\u001b[0m\u001b[0mrigetti\u001b[0m\u001b[0;34m.\u001b[0m\u001b[0mcom\u001b[0m\u001b[0;34m/\u001b[0m\u001b[0mqcs\u001b[0m\u001b[0;34m/\u001b[0m\u001b[0mdocs\u001b[0m\u001b[0;34m/\u001b[0m\u001b[0mreservations\u001b[0m \u001b[0;32mor\u001b[0m \u001b[0mreach\u001b[0m \u001b[0mout\u001b[0m \u001b[0mto\u001b[0m \u001b[0mRigetti\u001b[0m\u001b[0;34m\u001b[0m\u001b[0;34m\u001b[0m\u001b[0m\n\u001b[0;32m---> 93\u001b[0;31m support at support@rigetti.com.\"\"\")\n\u001b[0m\u001b[1;32m     94\u001b[0m \u001b[0;34m\u001b[0m\u001b[0m\n\u001b[1;32m     95\u001b[0m         \u001b[0mself\u001b[0m\u001b[0;34m.\u001b[0m\u001b[0mclient\u001b[0m \u001b[0;34m=\u001b[0m \u001b[0mClient\u001b[0m\u001b[0;34m(\u001b[0m\u001b[0mendpoint\u001b[0m\u001b[0;34m)\u001b[0m\u001b[0;34m\u001b[0m\u001b[0;34m\u001b[0m\u001b[0m\n",
      "\u001b[0;31mRuntimeError\u001b[0m: It looks like you've tried to run a program against a QPU but do\n not currently have a reservation on one. To reserve time on Rigetti\n QPUs, use the command line interface, qcs, which comes pre-installed\n in your QMI. From within your QMI, type:\n\n    qcs reserve --lattice <lattice-name>\n\nFor more information, please see the docs at\nhttps://www.rigetti.com/qcs/docs/reservations or reach out to Rigetti\nsupport at support@rigetti.com."
     ]
    }
   ],
   "source": [
    "qpu = get_qc('Aspen-4-8Q-A')"
   ]
  },
  {
   "cell_type": "code",
   "execution_count": 8,
   "metadata": {},
   "outputs": [],
   "source": [
    "nodes = [0,1,2,7,15]\n",
    "elist = [(0,7),(0,1),(1,2)]\n",
    "\n",
    "# SET THESE PARAMS\n",
    "delta = 1\n",
    "U = 1.5\n",
    "omega = 0.5\n",
    "\n",
    "h_cost, h_driver = get_hamil(nodes, elist, delta, U, omega)"
   ]
  },
  {
   "cell_type": "code",
   "execution_count": 70,
   "metadata": {},
   "outputs": [
    {
     "ename": "NameError",
     "evalue": "name 'qpu' is not defined",
     "output_type": "error",
     "traceback": [
      "\u001b[0;31m---------------------------------------------------------------------------\u001b[0m",
      "\u001b[0;31mNameError\u001b[0m                                 Traceback (most recent call last)",
      "\u001b[0;32m<ipython-input-70-6eff6746af18>\u001b[0m in \u001b[0;36m<module>\u001b[0;34m\u001b[0m\n\u001b[1;32m      6\u001b[0m \u001b[0;34m\u001b[0m\u001b[0m\n\u001b[1;32m      7\u001b[0m \u001b[0mmis_program\u001b[0m\u001b[0;34m.\u001b[0m\u001b[0mwrap_in_numshots_loop\u001b[0m\u001b[0;34m(\u001b[0m\u001b[0;36m10_000\u001b[0m\u001b[0;34m)\u001b[0m\u001b[0;34m\u001b[0m\u001b[0;34m\u001b[0m\u001b[0m\n\u001b[0;32m----> 8\u001b[0;31m \u001b[0mbinary\u001b[0m \u001b[0;34m=\u001b[0m \u001b[0mqpu\u001b[0m\u001b[0;34m.\u001b[0m\u001b[0mcompile\u001b[0m\u001b[0;34m(\u001b[0m\u001b[0mmis_program\u001b[0m\u001b[0;34m)\u001b[0m\u001b[0;34m\u001b[0m\u001b[0;34m\u001b[0m\u001b[0m\n\u001b[0m",
      "\u001b[0;31mNameError\u001b[0m: name 'qpu' is not defined"
     ]
    }
   ],
   "source": [
    "# mis_program = mis_qpu_ansatz([0.5], [0.5])\n",
    "\n",
    "mis_program = Program(RESET(), X(1))\n",
    "ro = mis_program.declare('ro', 'BIT', 1)\n",
    "mis_program.inst(MEASURE(1, 0))\n",
    "\n",
    "mis_program.wrap_in_numshots_loop(10_000)\n",
    "binary = qpu.compile(mis_program)"
   ]
  },
  {
   "cell_type": "code",
   "execution_count": null,
   "metadata": {},
   "outputs": [],
   "source": [
    "results = qpu.run(binary)"
   ]
  },
  {
   "cell_type": "code",
   "execution_count": null,
   "metadata": {},
   "outputs": [],
   "source": [
    "counts = {bit_tuple: 0 for bit_tuple in itertools.product((0, 1), repeat=3)}\n",
    "for shot_result in results:\n",
    "    bit_tuple = tuple(shot_result)\n",
    "    counts[bit_tuple] += 1  \n",
    "print(f'Measurement results:')\n",
    "for bit_tuple, count in counts.items():\n",
    "    print(bit_tuple, count)"
   ]
  },
  {
   "cell_type": "code",
   "execution_count": null,
   "metadata": {},
   "outputs": [],
   "source": []
  },
  {
   "cell_type": "code",
   "execution_count": null,
   "metadata": {},
   "outputs": [],
   "source": []
  },
  {
   "cell_type": "code",
   "execution_count": null,
   "metadata": {},
   "outputs": [],
   "source": []
  }
 ],
 "metadata": {
  "kernelspec": {
   "display_name": "Python 3",
   "language": "python",
   "name": "python3"
  },
  "language_info": {
   "codemirror_mode": {
    "name": "ipython",
    "version": 3
   },
   "file_extension": ".py",
   "mimetype": "text/x-python",
   "name": "python",
   "nbconvert_exporter": "python",
   "pygments_lexer": "ipython3",
   "version": "3.6.8"
  }
 },
 "nbformat": 4,
 "nbformat_minor": 2
}
