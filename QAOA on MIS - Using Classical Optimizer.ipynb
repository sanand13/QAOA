{
 "cells": [
  {
   "cell_type": "markdown",
   "metadata": {},
   "source": [
    "# CS 269Q: Final Project - QAOA on MIS\n",
    "***\n",
    "## Part 1: Using Classical Optimizer"
   ]
  },
  {
   "cell_type": "markdown",
   "metadata": {},
   "source": [
    "__Note:__ Part 2: Using Grid Search is documented on another notebook."
   ]
  },
  {
   "cell_type": "markdown",
   "metadata": {},
   "source": [
    "__GOAL:__ Generate random MIS instances for simulation on the QVM and benchmark against various noise models."
   ]
  },
  {
   "cell_type": "markdown",
   "metadata": {},
   "source": [
    "## Section 1: Running on the QVM"
   ]
  },
  {
   "cell_type": "code",
   "execution_count": 1,
   "metadata": {},
   "outputs": [],
   "source": [
    "from pyquil import Program, noise\n",
    "from pyquil.api import WavefunctionSimulator\n",
    "from pyquil.gates import H, I, RX, CNOT\n",
    "from pyquil.paulis import sZ, sX, sI, exponentiate_commuting_pauli_sum\n",
    "from scipy.optimize import minimize\n",
    "\n",
    "import operator\n",
    "import numpy as np\n",
    "import matplotlib.pyplot as plt"
   ]
  },
  {
   "cell_type": "markdown",
   "metadata": {},
   "source": [
    "### Noisless Implementation"
   ]
  },
  {
   "cell_type": "markdown",
   "metadata": {},
   "source": [
    "From arXiv:1808.10816v1 [quant-ph], the variational wavefunctionn is prepared using the following hamiltonians:\n",
    "\n",
    "$$H_p = \\sum_{v \\in V} -\\Delta n_v + \\sum_{(v,w) \\in E} U n_v n_w$$\n",
    "\n",
    "$$H_Q = \\sum_{v \\in V} \\Omega \\sigma_v^x + \\sum_{(v,w) \\in E} U n_v n_w$$\n",
    "\n",
    "where $n_v = |1>_v<1| = \\frac{I - \\sigma_z}{2}$"
   ]
  },
  {
   "cell_type": "code",
   "execution_count": 2,
   "metadata": {},
   "outputs": [],
   "source": [
    "def elist_from_math(string):\n",
    "    string = string.replace(',','), (')\n",
    "    string = string.replace(' <->',',')\n",
    "    return eval('(' + string + ')')"
   ]
  },
  {
   "cell_type": "code",
   "execution_count": 3,
   "metadata": {},
   "outputs": [],
   "source": [
    "def get_hamil(num_nodes, edge_list, delta, U, omega):\n",
    "    nodes = list(range(0,num_nodes))\n",
    "    edges = [(i-1,j-1) for i,j in edge_list]\n",
    "    h_cost = -0.5* delta * sum((sI(i) - sZ(i)) for i in nodes) + 0.25 * U * sum((sI(i) - sZ(i))*(sI(j) - sZ(j)) for i, j in edges)\n",
    "    h_driver = omega*sum(sX(i) for i in nodes) + 0.25*U * sum((sI(i) - sZ(i))*(sI(j) - sZ(j)) for i, j in edges)\n",
    "    return h_cost, h_driver"
   ]
  },
  {
   "cell_type": "code",
   "execution_count": 4,
   "metadata": {},
   "outputs": [],
   "source": [
    "def mis_ansatz(betas, gammas):\n",
    "    pq = Program()\n",
    "    pq += [exponentiate_commuting_pauli_sum(h_cost)(g) + exponentiate_commuting_pauli_sum(h_driver)(b) \n",
    "                for g, b in zip(gammas, betas)]\n",
    "    return pq"
   ]
  },
  {
   "cell_type": "code",
   "execution_count": 5,
   "metadata": {},
   "outputs": [],
   "source": [
    "def mis_cost(params):\n",
    "    half = int(len(params)/2)\n",
    "    betas, gammas = params[:half], params[half:]\n",
    "    #init_state_prog = Program(RESET())\n",
    "    #pq = init_state_prog + mis_ansatz(betas, gammas, h_cost, h_driver)\n",
    "    pq = mis_ansatz(betas, gammas)\n",
    "    return WavefunctionSimulator().expectation(prep_prog = pq, pauli_terms = h_cost)"
   ]
  },
  {
   "cell_type": "code",
   "execution_count": 11,
   "metadata": {},
   "outputs": [],
   "source": [
    "def run_qaoa_mis(guess):\n",
    "    result = minimize(mis_cost, x0 = guess, method='Nelder-Mead', options={'disp': True, 'maxiter': 100})\n",
    "    wf_sim = WavefunctionSimulator()\n",
    "    half = int(len(result['x'])/2)\n",
    "    pq = mis_ansatz(result['x'][:half],result['x'][half:])\n",
    "    wavefunction = wf_sim.wavefunction(pq)\n",
    "    prob_dict = wavefunction.get_outcome_probs() \n",
    "    sorted_dict = sorted(prob_dict.items(), key = operator.itemgetter(1))\n",
    "    return sorted_dict[len(prob_dict)-1]"
   ]
  },
  {
   "cell_type": "code",
   "execution_count": 6,
   "metadata": {},
   "outputs": [],
   "source": [
    "# elist = [(1, 4), (1, 7), (1, 8), (1, 9), (1, 10), (2, 5), (2, 6), (2, 8), (3, 4), (3, 5),\n",
    "#           (3, 7), (4, 7), (4, 10), (5, 6), (5, 9), (6, 7), (6, 9), (6, 10), (7, 9), (9, 10)]\n",
    "#string = '1 <-> 2, 1 <-> 3, 1 <-> 4, 1 <-> 5, 2 <-> 7, 3 <-> 4, 3 <-> 7, 4 <-> 6, 4 <-> 7, 7 <-> 8'\n",
    "\n",
    "string = '1 <-> 2, 1 <-> 3, 1 <-> 4, 1 <-> 5, 2 <-> 3, 2 <-> 4, 2 <-> 5, 3 <-> 4, 4 <-> 5'\n",
    "elist = elist_from_math(string)\n",
    "\n",
    "num_nodes = 5\n",
    "delta = 1\n",
    "U = 1.5\n",
    "omega = 0.5\n",
    "\n",
    "h_cost, h_driver = get_hamil(num_nodes, elist, delta, U, omega)"
   ]
  },
  {
   "cell_type": "code",
   "execution_count": 19,
   "metadata": {},
   "outputs": [
    {
     "name": "stdout",
     "output_type": "stream",
     "text": [
      "Warning: Maximum number of iterations has been exceeded.\n",
      "('10100', 0.10241357111186623)\n",
      "Wall time: 11.5 s\n"
     ]
    }
   ],
   "source": [
    "%%time\n",
    "result = run_qaoa_mis([0.5, 0.5, 0.5, 0.5])\n",
    "print(result)"
   ]
  },
  {
   "cell_type": "code",
   "execution_count": 16,
   "metadata": {},
   "outputs": [
    {
     "name": "stdout",
     "output_type": "stream",
     "text": [
      "Optimization terminated successfully.\n",
      "         Current function value: -0.907407\n",
      "         Iterations: 51\n",
      "         Function evaluations: 96\n",
      "BAD p value: 1 with State: 00000\n",
      "Optimization terminated successfully.\n",
      "         Current function value: -1.445857\n",
      "         Iterations: 75\n",
      "         Function evaluations: 136\n",
      "Warning: Maximum number of iterations has been exceeded.\n",
      "Warning: Maximum number of iterations has been exceeded.\n",
      "Warning: Maximum number of iterations has been exceeded.\n",
      "BAD p value: 5 with State: 00000\n",
      "Warning: Maximum number of iterations has been exceeded.\n",
      "BAD p value: 6 with State: 01000\n",
      "Warning: Maximum number of iterations has been exceeded.\n",
      "BAD p value: 7 with State: 01001\n",
      "Warning: Maximum number of iterations has been exceeded.\n",
      "Warning: Maximum number of iterations has been exceeded.\n",
      "BAD p value: 9 with State: 01000\n",
      "Warning: Maximum number of iterations has been exceeded.\n",
      "BAD p value: 10 with State: 00000\n"
     ]
    }
   ],
   "source": [
    "# correct = '1011010000'\n",
    "# correct = '10110110'\n",
    "correct = '10100'\n",
    "p_vals = []\n",
    "prob_vals = []\n",
    "for p in range(1,11):\n",
    "    params = [0.5] * 2 * p\n",
    "    result = run_qaoa_mis(params)\n",
    "    if (result[0] == correct):\n",
    "        p_vals.append(p)\n",
    "        prob_vals.append(result[1])\n",
    "    else:\n",
    "        print(\"BAD p value:\", p, \"with State:\", result[0])"
   ]
  },
  {
   "cell_type": "code",
   "execution_count": 17,
   "metadata": {},
   "outputs": [
    {
     "data": {
      "image/png": "[encoded data removed]",
      "text/plain": [
       "<Figure size 432x288 with 1 Axes>"
      ]
     },
     "metadata": {
      "needs_background": "light"
     },
     "output_type": "display_data"
    }
   ],
   "source": [
    "plt.scatter(p_vals, prob_vals) \n",
    "plt.title(\"Dependence on p\")\n",
    "plt.xlabel(\"value of p\")\n",
    "plt.ylabel(\"probability of required state\")\n",
    "#plt.savefig(\"p_graph3.png\")\n",
    "plt.show()"
   ]
  },
  {
   "cell_type": "code",
   "execution_count": 45,
   "metadata": {},
   "outputs": [
    {
     "data": {
      "text/plain": [
       "[0.10241589381176748,\n",
       " 0.1852167182088926,\n",
       " 0.20558281325232938,\n",
       " 0.22121284112690462]"
      ]
     },
     "execution_count": 45,
     "metadata": {},
     "output_type": "execute_result"
    }
   ],
   "source": [
    "prob_vals"
   ]
  },
  {
   "cell_type": "code",
   "execution_count": 9,
   "metadata": {},
   "outputs": [
    {
     "data": {
      "image/png": "[encoded data removed]",
      "text/plain": [
       "<Figure size 432x288 with 1 Axes>"
      ]
     },
     "metadata": {
      "needs_background": "light"
     },
     "output_type": "display_data"
    }
   ],
   "source": [
    "plt.plot([2, 3, 4, 5, 6], [0.016013513616306287, 0.04616845137756441, 0.07077191741821537, 0.07560195740556097,\n",
    " 0.08751310563042292], label = 'graph 1') \n",
    "plt.plot([2, 3, 4, 5], [0.04844621167737641, 0.16448709267207717, 0.24162292345998912, 0.3955198436659367], label = 'graph 2')\n",
    "plt.plot([2, 3, 4, 5], [0.10241589381176748, 0.1852167182088926, 0.20558281325232938, 0.22121284112690462], label = 'graph 3')\n",
    "plt.title(\"Dependence on p\")\n",
    "plt.xlabel(\"value of p\")\n",
    "plt.ylabel(\"probability of required state\")\n",
    "plt.legend()\n",
    "#plt.savefig(\"p_dep.png\")\n",
    "plt.show()"
   ]
  },
  {
   "cell_type": "markdown",
   "metadata": {},
   "source": [
    "__I can do 5 types of analyses:__\n",
    "1. Let Nealder-Mead run forever and forever\n",
    "2. Stop at 100 iters\n",
    "3. Grid search for params\n",
    "4. Grid search with width decreasing\n",
    "5. Adding noise"
   ]
  },
  {
   "cell_type": "markdown",
   "metadata": {},
   "source": [
    "### Implementation with Noise"
   ]
  },
  {
   "cell_type": "code",
   "execution_count": 25,
   "metadata": {},
   "outputs": [
    {
     "data": {
      "text/plain": [
       "[<Qubit 2>]"
      ]
     },
     "execution_count": 25,
     "metadata": {},
     "output_type": "execute_result"
    }
   ],
   "source": [
    "gate = RX(1,2)\n",
    "gate.qubits"
   ]
  },
  {
   "cell_type": "code",
   "execution_count": 14,
   "metadata": {},
   "outputs": [
    {
     "ename": "TypeError",
     "evalue": "RX() missing 2 required positional arguments: 'angle' and 'qubit'",
     "output_type": "error",
     "traceback": [
      "\u001b[1;31m---------------------------------------------------------------------------\u001b[0m",
      "\u001b[1;31mTypeError\u001b[0m                                 Traceback (most recent call last)",
      "\u001b[1;32m<ipython-input-14-2b03b279eb09>\u001b[0m in \u001b[0;36m<module>\u001b[1;34m\u001b[0m\n\u001b[1;32m----> 1\u001b[1;33m \u001b[0mgates\u001b[0m \u001b[1;33m=\u001b[0m \u001b[1;33m[\u001b[0m\u001b[0mI\u001b[0m\u001b[1;33m,\u001b[0m \u001b[0mRX\u001b[0m\u001b[1;33m(\u001b[0m\u001b[1;33m)\u001b[0m\u001b[1;33m,\u001b[0m \u001b[0mRX\u001b[0m\u001b[1;33m(\u001b[0m\u001b[1;33m-\u001b[0m\u001b[0mnp\u001b[0m\u001b[1;33m.\u001b[0m\u001b[0mpi\u001b[0m\u001b[1;33m)\u001b[0m\u001b[1;33m,\u001b[0m \u001b[0mRX\u001b[0m\u001b[1;33m(\u001b[0m\u001b[0mnp\u001b[0m\u001b[1;33m.\u001b[0m\u001b[0mpi\u001b[0m\u001b[1;33m/\u001b[0m\u001b[1;36m2\u001b[0m\u001b[1;33m)\u001b[0m\u001b[1;33m,\u001b[0m \u001b[0mRX\u001b[0m\u001b[1;33m(\u001b[0m\u001b[1;33m-\u001b[0m\u001b[0mnp\u001b[0m\u001b[1;33m.\u001b[0m\u001b[0mpi\u001b[0m\u001b[1;33m/\u001b[0m\u001b[1;36m2\u001b[0m\u001b[1;33m)\u001b[0m\u001b[1;33m,\u001b[0m \u001b[0mCZ\u001b[0m\u001b[1;33m,\u001b[0m \u001b[0mCNOT\u001b[0m\u001b[1;33m]\u001b[0m\u001b[1;33m\u001b[0m\u001b[1;33m\u001b[0m\u001b[0m\n\u001b[0m\u001b[0;32m      2\u001b[0m \u001b[0mnoise_model\u001b[0m \u001b[1;33m=\u001b[0m \u001b[0mnoise\u001b[0m\u001b[1;33m.\u001b[0m\u001b[0m_decoherence_noise_model\u001b[0m\u001b[1;33m(\u001b[0m\u001b[0mgates\u001b[0m\u001b[1;33m,\u001b[0m \u001b[0mT1\u001b[0m\u001b[1;33m=\u001b[0m\u001b[1;36m3e-05\u001b[0m\u001b[1;33m,\u001b[0m \u001b[0mT2\u001b[0m\u001b[1;33m=\u001b[0m\u001b[1;36m3e-05\u001b[0m\u001b[1;33m,\u001b[0m \u001b[0mgate_time_1q\u001b[0m\u001b[1;33m=\u001b[0m\u001b[1;36m5e-08\u001b[0m\u001b[1;33m,\u001b[0m \u001b[0mgate_time_2q\u001b[0m\u001b[1;33m=\u001b[0m\u001b[1;36m1.5e-07\u001b[0m\u001b[1;33m,\u001b[0m \u001b[0mro_fidelity\u001b[0m\u001b[1;33m=\u001b[0m\u001b[1;36m0.95\u001b[0m\u001b[1;33m)\u001b[0m\u001b[1;33m\u001b[0m\u001b[1;33m\u001b[0m\u001b[0m\n",
      "\u001b[1;31mTypeError\u001b[0m: RX() missing 2 required positional arguments: 'angle' and 'qubit'"
     ]
    }
   ],
   "source": [
    "gates = [I, RX(np.pi), RX(-np.pi), RX(np.pi/2), RX(-np.pi/2), CZ, CNOT]\n",
    "noise_model = noise._decoherence_noise_model(gates, T1=3e-05, T2=3e-05, gate_time_1q=5e-08, gate_time_2q=1.5e-07, ro_fidelity=0.95)"
   ]
  },
  {
   "cell_type": "code",
   "execution_count": 22,
   "metadata": {},
   "outputs": [],
   "source": [
    "def mis_ansatz(betas, gammas):\n",
    "    pq = Program()\n",
    "    pq += [exponentiate_commuting_pauli_sum(h_cost)(g) + exponentiate_commuting_pauli_sum(h_driver)(b) \n",
    "                for g, b in zip(gammas, betas)]\n",
    "    noise.apply_noise_model(pq, noise_model)\n",
    "    return pq"
   ]
  },
  {
   "cell_type": "code",
   "execution_count": 22,
   "metadata": {},
   "outputs": [
    {
     "name": "stdout",
     "output_type": "stream",
     "text": [
      "X 0\n",
      "PHASE(-2.625) 0\n",
      "X 0\n",
      "PHASE(-2.625) 0\n",
      "RZ(-6.0) 0\n",
      "RZ(-6.0) 1\n",
      "RZ(-3.75) 2\n",
      "RZ(-6.0) 3\n",
      "RZ(-3.75) 4\n",
      "CNOT 0 1\n",
      "RZ(2.25) 1\n",
      "CNOT 0 1\n",
      "CNOT 0 2\n",
      "RZ(2.25) 2\n",
      "CNOT 0 2\n",
      "CNOT 0 3\n",
      "RZ(2.25) 3\n",
      "CNOT 0 3\n",
      "CNOT 0 4\n",
      "RZ(2.25) 4\n",
      "CNOT 0 4\n",
      "CNOT 1 2\n",
      "RZ(2.25) 2\n",
      "CNOT 1 2\n",
      "CNOT 1 3\n",
      "RZ(2.25) 3\n",
      "CNOT 1 3\n",
      "CNOT 1 4\n",
      "RZ(2.25) 4\n",
      "CNOT 1 4\n",
      "CNOT 2 3\n",
      "RZ(2.25) 3\n",
      "CNOT 2 3\n",
      "CNOT 3 4\n",
      "RZ(2.25) 4\n",
      "CNOT 3 4\n",
      "H 0\n",
      "RZ(1.0) 0\n",
      "H 0\n",
      "H 1\n",
      "RZ(1.0) 1\n",
      "H 1\n",
      "H 2\n",
      "RZ(1.0) 2\n",
      "H 2\n",
      "H 3\n",
      "RZ(1.0) 3\n",
      "H 3\n",
      "H 4\n",
      "RZ(1.0) 4\n",
      "H 4\n",
      "X 0\n",
      "PHASE(-3.375) 0\n",
      "X 0\n",
      "PHASE(-3.375) 0\n",
      "RZ(-3.0) 1\n",
      "RZ(-3.0) 0\n",
      "CNOT 0 1\n",
      "RZ(0.75) 1\n",
      "CNOT 0 1\n",
      "RZ(-2.25) 2\n",
      "CNOT 0 2\n",
      "RZ(0.75) 2\n",
      "CNOT 0 2\n",
      "RZ(-3.0) 3\n",
      "CNOT 0 3\n",
      "RZ(0.75) 3\n",
      "CNOT 0 3\n",
      "RZ(-2.25) 4\n",
      "CNOT 0 4\n",
      "RZ(0.75) 4\n",
      "CNOT 0 4\n",
      "CNOT 1 2\n",
      "RZ(0.75) 2\n",
      "CNOT 1 2\n",
      "CNOT 1 3\n",
      "RZ(0.75) 3\n",
      "CNOT 1 3\n",
      "CNOT 1 4\n",
      "RZ(0.75) 4\n",
      "CNOT 1 4\n",
      "CNOT 2 3\n",
      "RZ(0.75) 3\n",
      "CNOT 2 3\n",
      "CNOT 3 4\n",
      "RZ(0.75) 4\n",
      "CNOT 3 4\n",
      "X 0\n",
      "PHASE(-3.5) 0\n",
      "X 0\n",
      "PHASE(-3.5) 0\n",
      "RZ(-8.0) 0\n",
      "RZ(-8.0) 1\n",
      "RZ(-5.0) 2\n",
      "RZ(-8.0) 3\n",
      "RZ(-5.0) 4\n",
      "CNOT 0 1\n",
      "RZ(3.0) 1\n",
      "CNOT 0 1\n",
      "CNOT 0 2\n",
      "RZ(3.0) 2\n",
      "CNOT 0 2\n",
      "CNOT 0 3\n",
      "RZ(3.0) 3\n",
      "CNOT 0 3\n",
      "CNOT 0 4\n",
      "RZ(3.0) 4\n",
      "CNOT 0 4\n",
      "CNOT 1 2\n",
      "RZ(3.0) 2\n",
      "CNOT 1 2\n",
      "CNOT 1 3\n",
      "RZ(3.0) 3\n",
      "CNOT 1 3\n",
      "CNOT 1 4\n",
      "RZ(3.0) 4\n",
      "CNOT 1 4\n",
      "CNOT 2 3\n",
      "RZ(3.0) 3\n",
      "CNOT 2 3\n",
      "CNOT 3 4\n",
      "RZ(3.0) 4\n",
      "CNOT 3 4\n",
      "H 0\n",
      "RZ(2.0) 0\n",
      "H 0\n",
      "H 1\n",
      "RZ(2.0) 1\n",
      "H 1\n",
      "H 2\n",
      "RZ(2.0) 2\n",
      "H 2\n",
      "H 3\n",
      "RZ(2.0) 3\n",
      "H 3\n",
      "H 4\n",
      "RZ(2.0) 4\n",
      "H 4\n",
      "X 0\n",
      "PHASE(-6.75) 0\n",
      "X 0\n",
      "PHASE(-6.75) 0\n",
      "RZ(-6.0) 1\n",
      "RZ(-6.0) 0\n",
      "CNOT 0 1\n",
      "RZ(1.5) 1\n",
      "CNOT 0 1\n",
      "RZ(-4.5) 2\n",
      "CNOT 0 2\n",
      "RZ(1.5) 2\n",
      "CNOT 0 2\n",
      "RZ(-6.0) 3\n",
      "CNOT 0 3\n",
      "RZ(1.5) 3\n",
      "CNOT 0 3\n",
      "RZ(-4.5) 4\n",
      "CNOT 0 4\n",
      "RZ(1.5) 4\n",
      "CNOT 0 4\n",
      "CNOT 1 2\n",
      "RZ(1.5) 2\n",
      "CNOT 1 2\n",
      "CNOT 1 3\n",
      "RZ(1.5) 3\n",
      "CNOT 1 3\n",
      "CNOT 1 4\n",
      "RZ(1.5) 4\n",
      "CNOT 1 4\n",
      "CNOT 2 3\n",
      "RZ(1.5) 3\n",
      "CNOT 2 3\n",
      "CNOT 3 4\n",
      "RZ(1.5) 4\n",
      "CNOT 3 4\n",
      "\n"
     ]
    }
   ],
   "source": [
    "prog = mis_ansatz([1,2],[3,4])\n",
    "print(prog)"
   ]
  },
  {
   "cell_type": "code",
   "execution_count": 23,
   "metadata": {},
   "outputs": [
    {
     "ename": "NoisyGateUndefined",
     "evalue": "Undefined gate and params: CNOT()\nPlease restrict yourself to I, RX(+/-pi), RX(+/-pi/2), CZ",
     "output_type": "error",
     "traceback": [
      "\u001b[1;31m---------------------------------------------------------------------------\u001b[0m",
      "\u001b[1;31mNoisyGateUndefined\u001b[0m                        Traceback (most recent call last)",
      "\u001b[1;32m<ipython-input-23-bd90b09da1b3>\u001b[0m in \u001b[0;36m<module>\u001b[1;34m\u001b[0m\n\u001b[0;32m      2\u001b[0m          (3, 7), (4, 7), (4, 10), (5, 6), (5, 9), (6, 7), (6, 9), (6, 10), (7, 9), (9, 10)]\n\u001b[0;32m      3\u001b[0m \u001b[0mh_cost\u001b[0m\u001b[1;33m,\u001b[0m \u001b[0mh_driver\u001b[0m \u001b[1;33m=\u001b[0m \u001b[0mget_hamil\u001b[0m\u001b[1;33m(\u001b[0m\u001b[1;36m10\u001b[0m\u001b[1;33m,\u001b[0m \u001b[0melist\u001b[0m\u001b[1;33m,\u001b[0m \u001b[1;36m1\u001b[0m\u001b[1;33m,\u001b[0m \u001b[1;36m1.5\u001b[0m\u001b[1;33m,\u001b[0m \u001b[1;36m0.5\u001b[0m\u001b[1;33m)\u001b[0m\u001b[1;33m\u001b[0m\u001b[1;33m\u001b[0m\u001b[0m\n\u001b[1;32m----> 4\u001b[1;33m \u001b[0mrun_qaoa_mis\u001b[0m\u001b[1;33m(\u001b[0m\u001b[1;33m[\u001b[0m\u001b[1;36m0.5\u001b[0m\u001b[1;33m,\u001b[0m\u001b[1;36m0.5\u001b[0m\u001b[1;33m,\u001b[0m\u001b[1;36m0.5\u001b[0m\u001b[1;33m,\u001b[0m\u001b[1;36m0.5\u001b[0m\u001b[1;33m]\u001b[0m\u001b[1;33m)\u001b[0m\u001b[1;33m\u001b[0m\u001b[1;33m\u001b[0m\u001b[0m\n\u001b[0m",
      "\u001b[1;32m<ipython-input-11-4ac045328136>\u001b[0m in \u001b[0;36mrun_qaoa_mis\u001b[1;34m(guess)\u001b[0m\n\u001b[0;32m      1\u001b[0m \u001b[1;32mdef\u001b[0m \u001b[0mrun_qaoa_mis\u001b[0m\u001b[1;33m(\u001b[0m\u001b[0mguess\u001b[0m\u001b[1;33m)\u001b[0m\u001b[1;33m:\u001b[0m\u001b[1;33m\u001b[0m\u001b[1;33m\u001b[0m\u001b[0m\n\u001b[1;32m----> 2\u001b[1;33m     \u001b[0mresult\u001b[0m \u001b[1;33m=\u001b[0m \u001b[0mminimize\u001b[0m\u001b[1;33m(\u001b[0m\u001b[0mmis_cost\u001b[0m\u001b[1;33m,\u001b[0m \u001b[0mx0\u001b[0m \u001b[1;33m=\u001b[0m \u001b[0mguess\u001b[0m\u001b[1;33m,\u001b[0m \u001b[0mmethod\u001b[0m\u001b[1;33m=\u001b[0m\u001b[1;34m'Nelder-Mead'\u001b[0m\u001b[1;33m,\u001b[0m \u001b[0moptions\u001b[0m\u001b[1;33m=\u001b[0m\u001b[1;33m{\u001b[0m\u001b[1;34m'disp'\u001b[0m\u001b[1;33m:\u001b[0m \u001b[1;32mTrue\u001b[0m\u001b[1;33m,\u001b[0m \u001b[1;34m'maxiter'\u001b[0m\u001b[1;33m:\u001b[0m \u001b[1;36m100\u001b[0m\u001b[1;33m}\u001b[0m\u001b[1;33m)\u001b[0m\u001b[1;33m\u001b[0m\u001b[1;33m\u001b[0m\u001b[0m\n\u001b[0m\u001b[0;32m      3\u001b[0m     \u001b[0mwf_sim\u001b[0m \u001b[1;33m=\u001b[0m \u001b[0mWavefunctionSimulator\u001b[0m\u001b[1;33m(\u001b[0m\u001b[1;33m)\u001b[0m\u001b[1;33m\u001b[0m\u001b[1;33m\u001b[0m\u001b[0m\n\u001b[0;32m      4\u001b[0m     \u001b[0mhalf\u001b[0m \u001b[1;33m=\u001b[0m \u001b[0mint\u001b[0m\u001b[1;33m(\u001b[0m\u001b[0mlen\u001b[0m\u001b[1;33m(\u001b[0m\u001b[0mresult\u001b[0m\u001b[1;33m[\u001b[0m\u001b[1;34m'x'\u001b[0m\u001b[1;33m]\u001b[0m\u001b[1;33m)\u001b[0m\u001b[1;33m/\u001b[0m\u001b[1;36m2\u001b[0m\u001b[1;33m)\u001b[0m\u001b[1;33m\u001b[0m\u001b[1;33m\u001b[0m\u001b[0m\n\u001b[0;32m      5\u001b[0m     \u001b[0mpq\u001b[0m \u001b[1;33m=\u001b[0m \u001b[0mmis_ansatz\u001b[0m\u001b[1;33m(\u001b[0m\u001b[0mresult\u001b[0m\u001b[1;33m[\u001b[0m\u001b[1;34m'x'\u001b[0m\u001b[1;33m]\u001b[0m\u001b[1;33m[\u001b[0m\u001b[1;33m:\u001b[0m\u001b[0mhalf\u001b[0m\u001b[1;33m]\u001b[0m\u001b[1;33m,\u001b[0m\u001b[0mresult\u001b[0m\u001b[1;33m[\u001b[0m\u001b[1;34m'x'\u001b[0m\u001b[1;33m]\u001b[0m\u001b[1;33m[\u001b[0m\u001b[0mhalf\u001b[0m\u001b[1;33m:\u001b[0m\u001b[1;33m]\u001b[0m\u001b[1;33m)\u001b[0m\u001b[1;33m\u001b[0m\u001b[1;33m\u001b[0m\u001b[0m\n",
      "\u001b[1;32m~\\Anaconda3\\lib\\site-packages\\scipy\\optimize\\_minimize.py\u001b[0m in \u001b[0;36mminimize\u001b[1;34m(fun, x0, args, method, jac, hess, hessp, bounds, constraints, tol, callback, options)\u001b[0m\n\u001b[0;32m    587\u001b[0m                       callback=callback, **options)\n\u001b[0;32m    588\u001b[0m     \u001b[1;32melif\u001b[0m \u001b[0mmeth\u001b[0m \u001b[1;33m==\u001b[0m \u001b[1;34m'nelder-mead'\u001b[0m\u001b[1;33m:\u001b[0m\u001b[1;33m\u001b[0m\u001b[1;33m\u001b[0m\u001b[0m\n\u001b[1;32m--> 589\u001b[1;33m         \u001b[1;32mreturn\u001b[0m \u001b[0m_minimize_neldermead\u001b[0m\u001b[1;33m(\u001b[0m\u001b[0mfun\u001b[0m\u001b[1;33m,\u001b[0m \u001b[0mx0\u001b[0m\u001b[1;33m,\u001b[0m \u001b[0margs\u001b[0m\u001b[1;33m,\u001b[0m \u001b[0mcallback\u001b[0m\u001b[1;33m,\u001b[0m \u001b[1;33m**\u001b[0m\u001b[0moptions\u001b[0m\u001b[1;33m)\u001b[0m\u001b[1;33m\u001b[0m\u001b[1;33m\u001b[0m\u001b[0m\n\u001b[0m\u001b[0;32m    590\u001b[0m     \u001b[1;32melif\u001b[0m \u001b[0mmeth\u001b[0m \u001b[1;33m==\u001b[0m \u001b[1;34m'powell'\u001b[0m\u001b[1;33m:\u001b[0m\u001b[1;33m\u001b[0m\u001b[1;33m\u001b[0m\u001b[0m\n\u001b[0;32m    591\u001b[0m         \u001b[1;32mreturn\u001b[0m \u001b[0m_minimize_powell\u001b[0m\u001b[1;33m(\u001b[0m\u001b[0mfun\u001b[0m\u001b[1;33m,\u001b[0m \u001b[0mx0\u001b[0m\u001b[1;33m,\u001b[0m \u001b[0margs\u001b[0m\u001b[1;33m,\u001b[0m \u001b[0mcallback\u001b[0m\u001b[1;33m,\u001b[0m \u001b[1;33m**\u001b[0m\u001b[0moptions\u001b[0m\u001b[1;33m)\u001b[0m\u001b[1;33m\u001b[0m\u001b[1;33m\u001b[0m\u001b[0m\n",
      "\u001b[1;32m~\\Anaconda3\\lib\\site-packages\\scipy\\optimize\\optimize.py\u001b[0m in \u001b[0;36m_minimize_neldermead\u001b[1;34m(func, x0, args, callback, maxiter, maxfev, disp, return_all, initial_simplex, xatol, fatol, adaptive, **unknown_options)\u001b[0m\n\u001b[0;32m    557\u001b[0m \u001b[1;33m\u001b[0m\u001b[0m\n\u001b[0;32m    558\u001b[0m     \u001b[1;32mfor\u001b[0m \u001b[0mk\u001b[0m \u001b[1;32min\u001b[0m \u001b[0mrange\u001b[0m\u001b[1;33m(\u001b[0m\u001b[0mN\u001b[0m \u001b[1;33m+\u001b[0m \u001b[1;36m1\u001b[0m\u001b[1;33m)\u001b[0m\u001b[1;33m:\u001b[0m\u001b[1;33m\u001b[0m\u001b[1;33m\u001b[0m\u001b[0m\n\u001b[1;32m--> 559\u001b[1;33m         \u001b[0mfsim\u001b[0m\u001b[1;33m[\u001b[0m\u001b[0mk\u001b[0m\u001b[1;33m]\u001b[0m \u001b[1;33m=\u001b[0m \u001b[0mfunc\u001b[0m\u001b[1;33m(\u001b[0m\u001b[0msim\u001b[0m\u001b[1;33m[\u001b[0m\u001b[0mk\u001b[0m\u001b[1;33m]\u001b[0m\u001b[1;33m)\u001b[0m\u001b[1;33m\u001b[0m\u001b[1;33m\u001b[0m\u001b[0m\n\u001b[0m\u001b[0;32m    560\u001b[0m \u001b[1;33m\u001b[0m\u001b[0m\n\u001b[0;32m    561\u001b[0m     \u001b[0mind\u001b[0m \u001b[1;33m=\u001b[0m \u001b[0mnumpy\u001b[0m\u001b[1;33m.\u001b[0m\u001b[0margsort\u001b[0m\u001b[1;33m(\u001b[0m\u001b[0mfsim\u001b[0m\u001b[1;33m)\u001b[0m\u001b[1;33m\u001b[0m\u001b[1;33m\u001b[0m\u001b[0m\n",
      "\u001b[1;32m~\\Anaconda3\\lib\\site-packages\\scipy\\optimize\\optimize.py\u001b[0m in \u001b[0;36mfunction_wrapper\u001b[1;34m(*wrapper_args)\u001b[0m\n\u001b[0;32m    298\u001b[0m     \u001b[1;32mdef\u001b[0m \u001b[0mfunction_wrapper\u001b[0m\u001b[1;33m(\u001b[0m\u001b[1;33m*\u001b[0m\u001b[0mwrapper_args\u001b[0m\u001b[1;33m)\u001b[0m\u001b[1;33m:\u001b[0m\u001b[1;33m\u001b[0m\u001b[1;33m\u001b[0m\u001b[0m\n\u001b[0;32m    299\u001b[0m         \u001b[0mncalls\u001b[0m\u001b[1;33m[\u001b[0m\u001b[1;36m0\u001b[0m\u001b[1;33m]\u001b[0m \u001b[1;33m+=\u001b[0m \u001b[1;36m1\u001b[0m\u001b[1;33m\u001b[0m\u001b[1;33m\u001b[0m\u001b[0m\n\u001b[1;32m--> 300\u001b[1;33m         \u001b[1;32mreturn\u001b[0m \u001b[0mfunction\u001b[0m\u001b[1;33m(\u001b[0m\u001b[1;33m*\u001b[0m\u001b[1;33m(\u001b[0m\u001b[0mwrapper_args\u001b[0m \u001b[1;33m+\u001b[0m \u001b[0margs\u001b[0m\u001b[1;33m)\u001b[0m\u001b[1;33m)\u001b[0m\u001b[1;33m\u001b[0m\u001b[1;33m\u001b[0m\u001b[0m\n\u001b[0m\u001b[0;32m    301\u001b[0m \u001b[1;33m\u001b[0m\u001b[0m\n\u001b[0;32m    302\u001b[0m     \u001b[1;32mreturn\u001b[0m \u001b[0mncalls\u001b[0m\u001b[1;33m,\u001b[0m \u001b[0mfunction_wrapper\u001b[0m\u001b[1;33m\u001b[0m\u001b[1;33m\u001b[0m\u001b[0m\n",
      "\u001b[1;32m<ipython-input-5-ebef567922d4>\u001b[0m in \u001b[0;36mmis_cost\u001b[1;34m(params)\u001b[0m\n\u001b[0;32m      4\u001b[0m     \u001b[1;31m#init_state_prog = Program(RESET())\u001b[0m\u001b[1;33m\u001b[0m\u001b[1;33m\u001b[0m\u001b[1;33m\u001b[0m\u001b[0m\n\u001b[0;32m      5\u001b[0m     \u001b[1;31m#pq = init_state_prog + mis_ansatz(betas, gammas, h_cost, h_driver)\u001b[0m\u001b[1;33m\u001b[0m\u001b[1;33m\u001b[0m\u001b[1;33m\u001b[0m\u001b[0m\n\u001b[1;32m----> 6\u001b[1;33m     \u001b[0mpq\u001b[0m \u001b[1;33m=\u001b[0m \u001b[0mmis_ansatz\u001b[0m\u001b[1;33m(\u001b[0m\u001b[0mbetas\u001b[0m\u001b[1;33m,\u001b[0m \u001b[0mgammas\u001b[0m\u001b[1;33m)\u001b[0m\u001b[1;33m\u001b[0m\u001b[1;33m\u001b[0m\u001b[0m\n\u001b[0m\u001b[0;32m      7\u001b[0m     \u001b[1;32mreturn\u001b[0m \u001b[0mWavefunctionSimulator\u001b[0m\u001b[1;33m(\u001b[0m\u001b[1;33m)\u001b[0m\u001b[1;33m.\u001b[0m\u001b[0mexpectation\u001b[0m\u001b[1;33m(\u001b[0m\u001b[0mprep_prog\u001b[0m \u001b[1;33m=\u001b[0m \u001b[0mpq\u001b[0m\u001b[1;33m,\u001b[0m \u001b[0mpauli_terms\u001b[0m \u001b[1;33m=\u001b[0m \u001b[0mh_cost\u001b[0m\u001b[1;33m)\u001b[0m\u001b[1;33m\u001b[0m\u001b[1;33m\u001b[0m\u001b[0m\n",
      "\u001b[1;32m<ipython-input-22-21b27465709e>\u001b[0m in \u001b[0;36mmis_ansatz\u001b[1;34m(betas, gammas)\u001b[0m\n\u001b[0;32m      3\u001b[0m     pq += [exponentiate_commuting_pauli_sum(h_cost)(g) + exponentiate_commuting_pauli_sum(h_driver)(b) \n\u001b[0;32m      4\u001b[0m                 for g, b in zip(gammas, betas)]\n\u001b[1;32m----> 5\u001b[1;33m     \u001b[0mpq\u001b[0m \u001b[1;33m=\u001b[0m \u001b[0mnoise\u001b[0m\u001b[1;33m.\u001b[0m\u001b[0madd_decoherence_noise\u001b[0m\u001b[1;33m(\u001b[0m\u001b[0mpq\u001b[0m\u001b[1;33m)\u001b[0m\u001b[1;33m\u001b[0m\u001b[1;33m\u001b[0m\u001b[0m\n\u001b[0m\u001b[0;32m      6\u001b[0m     \u001b[1;32mreturn\u001b[0m \u001b[0mpq\u001b[0m\u001b[1;33m\u001b[0m\u001b[1;33m\u001b[0m\u001b[0m\n",
      "\u001b[1;32m~\\Anaconda3\\lib\\site-packages\\pyquil\\noise.py\u001b[0m in \u001b[0;36madd_decoherence_noise\u001b[1;34m(prog, T1, T2, gate_time_1q, gate_time_2q, ro_fidelity)\u001b[0m\n\u001b[0;32m    615\u001b[0m         \u001b[0mgate_time_1q\u001b[0m\u001b[1;33m=\u001b[0m\u001b[0mgate_time_1q\u001b[0m\u001b[1;33m,\u001b[0m\u001b[1;33m\u001b[0m\u001b[1;33m\u001b[0m\u001b[0m\n\u001b[0;32m    616\u001b[0m         \u001b[0mgate_time_2q\u001b[0m\u001b[1;33m=\u001b[0m\u001b[0mgate_time_2q\u001b[0m\u001b[1;33m,\u001b[0m\u001b[1;33m\u001b[0m\u001b[1;33m\u001b[0m\u001b[0m\n\u001b[1;32m--> 617\u001b[1;33m         \u001b[0mro_fidelity\u001b[0m\u001b[1;33m=\u001b[0m\u001b[0mro_fidelity\u001b[0m\u001b[1;33m\u001b[0m\u001b[1;33m\u001b[0m\u001b[0m\n\u001b[0m\u001b[0;32m    618\u001b[0m     )\n\u001b[0;32m    619\u001b[0m     \u001b[1;32mreturn\u001b[0m \u001b[0mapply_noise_model\u001b[0m\u001b[1;33m(\u001b[0m\u001b[0mprog\u001b[0m\u001b[1;33m,\u001b[0m \u001b[0mnoise_model\u001b[0m\u001b[1;33m)\u001b[0m\u001b[1;33m\u001b[0m\u001b[1;33m\u001b[0m\u001b[0m\n",
      "\u001b[1;32m~\\Anaconda3\\lib\\site-packages\\pyquil\\noise.py\u001b[0m in \u001b[0;36m_decoherence_noise_model\u001b[1;34m(gates, T1, T2, gate_time_1q, gate_time_2q, ro_fidelity)\u001b[0m\n\u001b[0;32m    466\u001b[0m         \u001b[1;32mif\u001b[0m \u001b[0mg\u001b[0m\u001b[1;33m.\u001b[0m\u001b[0mname\u001b[0m \u001b[1;32min\u001b[0m \u001b[0mNO_NOISE\u001b[0m\u001b[1;33m:\u001b[0m\u001b[1;33m\u001b[0m\u001b[1;33m\u001b[0m\u001b[0m\n\u001b[0;32m    467\u001b[0m             \u001b[1;32mcontinue\u001b[0m\u001b[1;33m\u001b[0m\u001b[1;33m\u001b[0m\u001b[0m\n\u001b[1;32m--> 468\u001b[1;33m         \u001b[0mmatrix\u001b[0m\u001b[1;33m,\u001b[0m \u001b[0m_\u001b[0m \u001b[1;33m=\u001b[0m \u001b[0mget_noisy_gate\u001b[0m\u001b[1;33m(\u001b[0m\u001b[0mg\u001b[0m\u001b[1;33m.\u001b[0m\u001b[0mname\u001b[0m\u001b[1;33m,\u001b[0m \u001b[0mg\u001b[0m\u001b[1;33m.\u001b[0m\u001b[0mparams\u001b[0m\u001b[1;33m)\u001b[0m\u001b[1;33m\u001b[0m\u001b[1;33m\u001b[0m\u001b[0m\n\u001b[0m\u001b[0;32m    469\u001b[0m \u001b[1;33m\u001b[0m\u001b[0m\n\u001b[0;32m    470\u001b[0m         \u001b[1;32mif\u001b[0m \u001b[0mlen\u001b[0m\u001b[1;33m(\u001b[0m\u001b[0mtargets\u001b[0m\u001b[1;33m)\u001b[0m \u001b[1;33m==\u001b[0m \u001b[1;36m1\u001b[0m\u001b[1;33m:\u001b[0m\u001b[1;33m\u001b[0m\u001b[1;33m\u001b[0m\u001b[0m\n",
      "\u001b[1;32m~\\Anaconda3\\lib\\site-packages\\pyquil\\noise.py\u001b[0m in \u001b[0;36mget_noisy_gate\u001b[1;34m(gate_name, params)\u001b[0m\n\u001b[0;32m    393\u001b[0m     raise NoisyGateUndefined(\"Undefined gate and params: {}{}\\n\"\n\u001b[0;32m    394\u001b[0m                              \u001b[1;34m\"Please restrict yourself to I, RX(+/-pi), RX(+/-pi/2), CZ\"\u001b[0m\u001b[1;33m\u001b[0m\u001b[1;33m\u001b[0m\u001b[0m\n\u001b[1;32m--> 395\u001b[1;33m                              .format(gate_name, params))\n\u001b[0m\u001b[0;32m    396\u001b[0m \u001b[1;33m\u001b[0m\u001b[0m\n\u001b[0;32m    397\u001b[0m \u001b[1;33m\u001b[0m\u001b[0m\n",
      "\u001b[1;31mNoisyGateUndefined\u001b[0m: Undefined gate and params: CNOT()\nPlease restrict yourself to I, RX(+/-pi), RX(+/-pi/2), CZ"
     ]
    }
   ],
   "source": [
    "elist = [(1, 4), (1, 7), (1, 8), (1, 9), (1, 10), (2, 5), (2, 6), (2, 8), (3, 4), (3, 5),\n",
    "         (3, 7), (4, 7), (4, 10), (5, 6), (5, 9), (6, 7), (6, 9), (6, 10), (7, 9), (9, 10)]\n",
    "h_cost, h_driver = get_hamil(10, elist, 1, 1.5, 0.5)\n",
    "run_qaoa_mis([0.5,0.5,0.5,0.5])"
   ]
  },
  {
   "cell_type": "markdown",
   "metadata": {},
   "source": [
    "## Section 2: Running on the QCS"
   ]
  },
  {
   "cell_type": "code",
   "execution_count": null,
   "metadata": {},
   "outputs": [],
   "source": [
    "from pyquil import get_qc"
   ]
  },
  {
   "cell_type": "code",
   "execution_count": null,
   "metadata": {},
   "outputs": [],
   "source": []
  },
  {
   "cell_type": "code",
   "execution_count": null,
   "metadata": {},
   "outputs": [],
   "source": []
  },
  {
   "cell_type": "code",
   "execution_count": null,
   "metadata": {},
   "outputs": [],
   "source": []
  },
  {
   "cell_type": "code",
   "execution_count": null,
   "metadata": {},
   "outputs": [],
   "source": []
  },
  {
   "cell_type": "code",
   "execution_count": null,
   "metadata": {},
   "outputs": [],
   "source": []
  },
  {
   "cell_type": "markdown",
   "metadata": {},
   "source": [
    "### Rough Work"
   ]
  },
  {
   "cell_type": "code",
   "execution_count": 2,
   "metadata": {},
   "outputs": [],
   "source": []
  },
  {
   "cell_type": "code",
   "execution_count": 10,
   "metadata": {},
   "outputs": [
    {
     "data": {
      "text/plain": [
       "'1 , 2),( 1 , 3),( 1 , 4),( 1 , 5),( 2 , 7),( 3 , 4),( 3 , 7),( 4 , 6),( 4 , 7),( 7 , 8'"
      ]
     },
     "execution_count": 10,
     "metadata": {},
     "output_type": "execute_result"
    }
   ],
   "source": [
    "string = \"1 <-> 2, 1 <-> 3, 1 <-> 4, 1 <-> 5, 2 <-> 7, 3 <-> 4, 3 <-> 7, 4 <-> 6, 4 <-> 7, 7 <-> 8\"\n",
    "string = string.replace(',','),(')\n",
    "string.replace('<->',',')"
   ]
  },
  {
   "cell_type": "code",
   "execution_count": 3,
   "metadata": {},
   "outputs": [],
   "source": [
    "#graph = [(0, 1), (0, 2), (0, 3)]\n",
    "graph = [(1 , 4),( 1 , 7),( 1 , 8),( 1 , 9),( 1 , 10),( 2 , 5),( 2 , 6),( 2 , 8),( 3 , 4),( 3 , 5),\n",
    "         ( 3 , 7),( 4 , 7),( 4 , 10),( 5 , 6),( 5 , 9),( 6 , 7),( 6 , 9),( 6 , 10),( 7 , 9),( 9 , 10)]\n",
    "nodes = range(11)\n",
    "\n",
    "#init_state_prog = Program(RESET())\n",
    "delta = 1\n",
    "U = 1.5\n",
    "omega = 0.5\n",
    "h_cost = -0.5* delta * sum((sI(i) - sZ(i)) for i in nodes) + 0.25 * U * sum((sI(i) - sZ(i))*(sI(j) - sZ(j)) for i, j in graph)\n",
    "h_driver = omega*sum(sX(i) for i in nodes) + 0.25*U * sum((sI(i) - sZ(i))*(sI(j) - sZ(j)) for i, j in graph)"
   ]
  },
  {
   "cell_type": "code",
   "execution_count": 4,
   "metadata": {},
   "outputs": [],
   "source": [
    "def mis_ansatz(betas, gammas):\n",
    "    pq = Program()\n",
    "    pq += [exponentiate_commuting_pauli_sum(h_cost)(g) + exponentiate_commuting_pauli_sum(h_driver)(b) \n",
    "                for g, b in zip(gammas, betas)]\n",
    "    return pq\n",
    "\n",
    "def mis_cost(params):\n",
    "    half = int(len(params)/2)\n",
    "    betas, gammas = params[:half], params[half:]\n",
    "    #program = init_state_prog + qaoa_ansatz(betas, gammas)\n",
    "    program = mis_ansatz(betas, gammas)\n",
    "    return WavefunctionSimulator().expectation(prep_prog = program, pauli_terms = h_cost)"
   ]
  },
  {
   "cell_type": "markdown",
   "metadata": {},
   "source": [
    "From arXiv:1808.10816v1 [quant-ph], the variational wavefunctionn is prepared using the following hamiltonians:\n",
    "\n",
    "$$H_p = H_{cost} = \\sum_{v \\in V} -\\Delta n_v + \\sum_{(v,w) \\in E} U n_v n_w$$\n",
    "\n",
    "$$H_Q = H_{driver} = \\sum_{v \\in V} \\Omega \\sigma_v^x + \\sum_{(v,w) \\in E} U n_v n_w$$\n",
    "\n",
    "where $n_v = |1>_v<1| = \\frac{I - \\sigma_z}{2}$"
   ]
  },
  {
   "cell_type": "code",
   "execution_count": 5,
   "metadata": {},
   "outputs": [
    {
     "name": "stdout",
     "output_type": "stream",
     "text": [
      "Optimization terminated successfully.\n",
      "         Current function value: -3.018811\n",
      "         Iterations: 505\n",
      "         Function evaluations: 798\n"
     ]
    }
   ],
   "source": [
    "# %%time\n",
    "result = minimize(mis_cost, x0=[1, 1, 1, 1, 1, 1], method='Nelder-Mead', options={'disp': True})"
   ]
  },
  {
   "cell_type": "code",
   "execution_count": 6,
   "metadata": {},
   "outputs": [
    {
     "data": {
      "text/plain": [
       " final_simplex: (array([[ 1.02244522,  0.67252986,  0.51393121, -0.08425901, -0.3537811 ,\n",
       "         0.01441819],\n",
       "       [ 1.02244652,  0.67253461,  0.51393231, -0.0842919 , -0.35381464,\n",
       "         0.01438602],\n",
       "       [ 1.02244778,  0.67253452,  0.51391269, -0.08419627, -0.35376288,\n",
       "         0.01439416],\n",
       "       [ 1.02244153,  0.67255446,  0.51392772, -0.08420493, -0.35375761,\n",
       "         0.0143849 ],\n",
       "       [ 1.02244771,  0.67255897,  0.51391645, -0.08422519, -0.35377353,\n",
       "         0.01437625],\n",
       "       [ 1.02243362,  0.67255758,  0.51392511, -0.08417244, -0.35376219,\n",
       "         0.01434687],\n",
       "       [ 1.02245729,  0.67253653,  0.51392716, -0.08426053, -0.35379275,\n",
       "         0.0143901 ]]), array([-3.01881051, -3.01881051, -3.01881051, -3.01881051, -3.01881051,\n",
       "       -3.01881051, -3.01881051]))\n",
       "           fun: -3.018810509386274\n",
       "       message: 'Optimization terminated successfully.'\n",
       "          nfev: 798\n",
       "           nit: 505\n",
       "        status: 0\n",
       "       success: True\n",
       "             x: array([ 1.02244522,  0.67252986,  0.51393121, -0.08425901, -0.3537811 ,\n",
       "        0.01441819])"
      ]
     },
     "execution_count": 6,
     "metadata": {},
     "output_type": "execute_result"
    }
   ],
   "source": [
    "result"
   ]
  },
  {
   "cell_type": "code",
   "execution_count": null,
   "metadata": {},
   "outputs": [],
   "source": [
    "print(result)"
   ]
  },
  {
   "cell_type": "code",
   "execution_count": 7,
   "metadata": {},
   "outputs": [],
   "source": [
    "wf_sim = WavefunctionSimulator()\n",
    "pq = mis_ansatz(result['x'][:3],result['x'][3:])\n",
    "wavefunction = wf_sim.wavefunction(pq)\n",
    "prob_dict = wavefunction.get_outcome_probs() "
   ]
  },
  {
   "cell_type": "code",
   "execution_count": 8,
   "metadata": {},
   "outputs": [
    {
     "name": "stdout",
     "output_type": "stream",
     "text": [
      "('10110100001', 0.0388841106282332)\n"
     ]
    }
   ],
   "source": [
    "sorted_dict = sorted(prob_dict.items(), key = operator.itemgetter(1))\n",
    "print(sorted_dict[len(prob_dict)-1])"
   ]
  },
  {
   "cell_type": "code",
   "execution_count": null,
   "metadata": {},
   "outputs": [],
   "source": [
    "# ('10110100001', 0.0388841106282332) p = 3, x0 = 1\n",
    "# ('10110100001', 0.010002220425218854) p = 2, x0 = 0.5"
   ]
  },
  {
   "cell_type": "code",
   "execution_count": null,
   "metadata": {},
   "outputs": [],
   "source": [
    "# The amplitudes are stored as a numpy array on the Wavefunction object\n",
    "print(wavefunction.amplitudes)\n",
    "prob_dict = wavefunction.get_outcome_probs() # extracts the probabilities of outcomes as a dict\n",
    "print(prob_dict)\n",
    "print(max(prob_dict.values()))"
   ]
  },
  {
   "cell_type": "code",
   "execution_count": 20,
   "metadata": {},
   "outputs": [
    {
     "data": {
      "text/plain": [
       "-5.0734525477436065e-06"
      ]
     },
     "execution_count": 20,
     "metadata": {},
     "output_type": "execute_result"
    }
   ],
   "source": [
    "mis_cost([3.14, 3.14, 3.14, 3.14])"
   ]
  },
  {
   "cell_type": "code",
   "execution_count": null,
   "metadata": {},
   "outputs": [],
   "source": []
  }
 ],
 "metadata": {
  "kernelspec": {
   "display_name": "Python 3",
   "language": "python",
   "name": "python3"
  },
  "language_info": {
   "codemirror_mode": {
    "name": "ipython",
    "version": 3
   },
   "file_extension": ".py",
   "mimetype": "text/x-python",
   "name": "python",
   "nbconvert_exporter": "python",
   "pygments_lexer": "ipython3",
   "version": "3.7.3"
  }
 },
 "nbformat": 4,
 "nbformat_minor": 2
}
