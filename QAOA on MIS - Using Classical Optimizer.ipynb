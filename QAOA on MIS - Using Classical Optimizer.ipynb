{
 "cells": [
  {
   "cell_type": "markdown",
   "metadata": {},
   "source": [
    "# CS 269Q: Final Project - QAOA on MIS\n",
    "***\n",
    "## Part 1: Using Classical Optimizer"
   ]
  },
  {
   "cell_type": "markdown",
   "metadata": {},
   "source": [
    "__Note:__ Part 2: Using Grid Search is documented on another notebook."
   ]
  },
  {
   "cell_type": "markdown",
   "metadata": {},
   "source": [
    "__GOAL:__ Generate random MIS instances for simulation on the QVM and benchmark against various noise models."
   ]
  },
  {
   "cell_type": "code",
   "execution_count": 1,
   "metadata": {},
   "outputs": [],
   "source": [
    "from pyquil import Program\n",
    "from pyquil.api import WavefunctionSimulator\n",
    "from pyquil.gates import H, I, RX, CNOT, RESET, MEASURE\n",
    "from pyquil.paulis import sZ, sX, sI, exponentiate_commuting_pauli_sum\n",
    "from scipy.optimize import minimize\n",
    "\n",
    "import operator\n",
    "import numpy as np\n",
    "from typing import List, Tuple\n",
    "import matplotlib.pyplot as plt"
   ]
  },
  {
   "cell_type": "markdown",
   "metadata": {},
   "source": [
    "From arXiv:1808.10816v1 [quant-ph], the variational wavefunctionn is prepared using the following hamiltonians:\n",
    "\n",
    "$$H_c = \\sum_{v \\in V} -\\Delta n_v + \\sum_{(v,w) \\in E} U n_v n_w$$\n",
    "\n",
    "$$H_d = \\sum_{v \\in V} \\Omega \\sigma_v^x + \\sum_{(v,w) \\in E} U n_v n_w$$\n",
    "\n",
    "where $n_v = |1>_v<1| = \\frac{I - \\sigma_z}{2}$"
   ]
  },
  {
   "cell_type": "markdown",
   "metadata": {},
   "source": [
    "__Generating Graphs:__ For the purposes of this project, I will be generating the random graphs in Wolfram Mathematica using the command `g = RandomGraph[{nodes, edges}]` and then retrieving the edge representation using `EdgeList[g]` where g is the graph I generated. I chose Mathematica, as it can be used to calculate the Maximum Independent Set of the graph using the command `Sort[FindIndependentVertexSet[g, Length /@ FindIndependentVertexSet[g], All]]` and thus verify the solution found via QAOA."
   ]
  },
  {
   "cell_type": "markdown",
   "metadata": {},
   "source": [
    "## Section 1: Running on the QVM"
   ]
  },
  {
   "cell_type": "code",
   "execution_count": 2,
   "metadata": {},
   "outputs": [],
   "source": [
    "def elist_from_math(string: str) -> str:\n",
    "    '''\n",
    "    Formats the edge list provided by Mathematica.\n",
    "    '''\n",
    "    string = string.replace(',','), (')\n",
    "    string = string.replace(' <->',',')\n",
    "    return eval('(' + string + ')')"
   ]
  },
  {
   "cell_type": "code",
   "execution_count": 3,
   "metadata": {},
   "outputs": [],
   "source": [
    "def get_hamil(num_nodes: int, edge_list: List[Tuple[int, int]], delta: float, \n",
    "              U: float, omega: float) -> 'PauliSum, PauliSum':\n",
    "    '''\n",
    "    For a given graph, and values of hyperparameters, returns the cost and driver Hamiltonians.\n",
    "    '''\n",
    "    # Mathematica labels nodes starting at 1 but we label qubits starting at 0\n",
    "    nodes = list(range(0,num_nodes))\n",
    "    edges = [(i-1,j-1) for i,j in edge_list]\n",
    "    \n",
    "    h_cost = -0.5* delta * sum((sI(i) - sZ(i)) for i in nodes) + 0.25 * U * sum((sI(i) - sZ(i))*(sI(j) - sZ(j)) for i, j in edges)\n",
    "    h_driver = omega*sum(sX(i) for i in nodes) + 0.25*U * sum((sI(i) - sZ(i))*(sI(j) - sZ(j)) for i, j in edges)\n",
    "    return h_cost, h_driver"
   ]
  },
  {
   "cell_type": "markdown",
   "metadata": {},
   "source": [
    "### Noisless Implementation"
   ]
  },
  {
   "cell_type": "code",
   "execution_count": 4,
   "metadata": {},
   "outputs": [],
   "source": [
    "def mis_ansatz(betas: List[float], gammas: List[float]) -> Program:\n",
    "    '''\n",
    "    Returns the program to create the MIS ansatz.\n",
    "    '''\n",
    "    pq = Program(RESET())\n",
    "    pq += [exponentiate_commuting_pauli_sum(h_cost)(g) + exponentiate_commuting_pauli_sum(h_driver)(b) \n",
    "                for g, b in zip(gammas, betas)]\n",
    "    return pq"
   ]
  },
  {
   "cell_type": "code",
   "execution_count": 5,
   "metadata": {},
   "outputs": [],
   "source": [
    "def mis_cost(params: List[float]) -> float:\n",
    "    '''\n",
    "    Returns the value of the cost function given params.\n",
    "    '''\n",
    "    half = int(len(params)/2)\n",
    "    betas, gammas = params[:half], params[half:]\n",
    "    pq = mis_ansatz(betas, gammas)\n",
    "    return WavefunctionSimulator().expectation(prep_prog = pq, pauli_terms = h_cost)"
   ]
  },
  {
   "cell_type": "markdown",
   "metadata": {},
   "source": [
    "__Before__ defining the next function, decide how much resource you want to allocate to the classical optimizer and edit the function accordingly."
   ]
  },
  {
   "cell_type": "code",
   "execution_count": 6,
   "metadata": {},
   "outputs": [],
   "source": [
    "def run_qaoa_mis(p: int, params: List[float], correct_state: str) -> 'dict key-value pair, float':\n",
    "    '''\n",
    "    Returns the mpost probable state and its probability, and the probability of the correct state.\n",
    "    '''\n",
    "    # Scaling max iteration for a given p to make a the comparison more standard\n",
    "    iters = 50*p\n",
    "    print(\"p value:\", p, \"and number of iters:\", iters)\n",
    "    result = minimize(mis_cost, x0 = params, method='Nelder-Mead', options={'disp': True, 'maxiter': iters})\n",
    "    \n",
    "    # unlimited iterations\n",
    "    # result = minimize(mis_cost, x0 = params, method='Nelder-Mead', options={'disp': True})\n",
    "    \n",
    "    print('The optimal parameters are:', result['x'])\n",
    "    \n",
    "    half = int(len(result['x'])/2)\n",
    "    pq = mis_ansatz(result['x'][:half],result['x'][half:])\n",
    "    \n",
    "    wf_sim = WavefunctionSimulator()\n",
    "    wavefunction = wf_sim.wavefunction(pq)\n",
    "    prob_dict = wavefunction.get_outcome_probs() \n",
    "    sorted_dict = sorted(prob_dict.items(), key = operator.itemgetter(1))\n",
    "    return sorted_dict[len(prob_dict)-1], prob_dict.get(correct_state)"
   ]
  },
  {
   "cell_type": "code",
   "execution_count": 7,
   "metadata": {},
   "outputs": [],
   "source": [
    "def run_p_range(max_p: int, correct_state: str) -> 'List[int], List[float], List[str]':\n",
    "    '''\n",
    "    Runs QAOA on MIS for multiple p values from 1 to max_p.\n",
    "    '''\n",
    "    p_vals = []\n",
    "    prob_vals = []\n",
    "    colors = []\n",
    "    for p in range(1, max_p + 1):\n",
    "        p_vals.append(p)\n",
    "        params = [0.5] * 2 * p\n",
    "        result, prob_correct = run_qaoa_mis(p, params, correct)\n",
    "        if (result[0] == correct):\n",
    "            print(\"GOOD p value:\", p, \"with State:\", result[0])        \n",
    "            prob_vals.append(result[1])\n",
    "            colors.append('g')\n",
    "        else:\n",
    "            print(\"BAD p value:\", p, \"with State:\", result[0])\n",
    "            prob_vals.append(prob_correct)\n",
    "            colors.append('r')\n",
    "    return p_vals, prob_vals, colors"
   ]
  },
  {
   "cell_type": "markdown",
   "metadata": {},
   "source": [
    "#### Running QAOA on MIS without Noise"
   ]
  },
  {
   "cell_type": "markdown",
   "metadata": {},
   "source": [
    "1. First we must get the edge list from Mathematica, and set the hyperparameters $\\Delta, U$ and $\\omega$. Also get the cost and the driver hamiltonians. "
   ]
  },
  {
   "cell_type": "code",
   "execution_count": 8,
   "metadata": {},
   "outputs": [],
   "source": [
    "# elist = [(1, 4), (1, 7), (1, 8), (1, 9), (1, 10), (2, 5), (2, 6), (2, 8), (3, 4), (3, 5),\n",
    "#         (3, 7), (4, 7), (4, 10), (5, 6), (5, 9), (6, 7), (6, 9), (6, 10), (7, 9), (9, 10)]\n",
    "# string = '1 <-> 2, 1 <-> 3, 1 <-> 4, 1 <-> 5, 2 <-> 7, 3 <-> 4, 3 <-> 7, 4 <-> 6, 4 <-> 7, 7 <-> 8' # graph2 \n",
    "string = '1 <-> 2, 1 <-> 3, 1 <-> 4, 1 <-> 5, 2 <-> 3, 2 <-> 4, 2 <-> 5, 3 <-> 4, 4 <-> 5' # graph3\n",
    "\n",
    "elist = elist_from_math(string)\n",
    "\n",
    "# SET THESE PARAMS\n",
    "num_nodes = 5 # update\n",
    "delta = 1\n",
    "U = 1.5\n",
    "omega = 0.5\n",
    "\n",
    "h_cost, h_driver = get_hamil(num_nodes, elist, delta, U, omega)"
   ]
  },
  {
   "cell_type": "markdown",
   "metadata": {},
   "source": [
    "2. Ensure that you set your parameters correctly by running QAOA for p = 2. Currently p = 1 does not result in the correct answer.\n",
    "\n",
    "__Note:__ The qubits are labelled from the right."
   ]
  },
  {
   "cell_type": "code",
   "execution_count": 9,
   "metadata": {},
   "outputs": [
    {
     "name": "stdout",
     "output_type": "stream",
     "text": [
      "p value: 2 and number of iters: 100\n",
      "Warning: Maximum number of iterations has been exceeded.\n",
      "The optimal parameters are: [ 1.07431624  0.43319211  0.820297   -0.26461078]\n",
      "('10100', 0.10241357111186623)\n",
      "0.10241357111186623\n",
      "CPU times: user 2.22 s, sys: 57.2 ms, total: 2.27 s\n",
      "Wall time: 3.66 s\n"
     ]
    }
   ],
   "source": [
    "%%time\n",
    "\n",
    "# check that we get the expected result\n",
    "# correct = '1011010000'\n",
    "# correct = '10110110'\n",
    "correct = '10100'\n",
    "\n",
    "result, prob_correct = run_qaoa_mis(2, [0.5, 0.5, 0.5, 0.5], correct)\n",
    "print(result)\n",
    "print(prob_correct)"
   ]
  },
  {
   "cell_type": "markdown",
   "metadata": {},
   "source": [
    "3. Set the maximum p value you want to run for, and run the algorithm!"
   ]
  },
  {
   "cell_type": "code",
   "execution_count": 10,
   "metadata": {},
   "outputs": [
    {
     "name": "stdout",
     "output_type": "stream",
     "text": [
      "p value: 1 and number of iters: 50\n",
      "Warning: Maximum number of iterations has been exceeded.\n",
      "The optimal parameters are: [0.88971994 0.34889003]\n",
      "BAD p value: 1 with State: 00000\n",
      "p value: 2 and number of iters: 100\n",
      "Warning: Maximum number of iterations has been exceeded.\n",
      "The optimal parameters are: [ 1.07431624  0.43319211  0.820297   -0.26461078]\n",
      "GOOD p value: 2 with State: 10100\n",
      "p value: 3 and number of iters: 150\n",
      "Warning: Maximum number of iterations has been exceeded.\n",
      "The optimal parameters are: [ 1.15876258  0.56519082  0.30656376  0.34147958 -0.25011985  0.89223014]\n",
      "GOOD p value: 3 with State: 10100\n",
      "p value: 4 and number of iters: 200\n",
      "Warning: Maximum number of iterations has been exceeded.\n",
      "The optimal parameters are: [ 1.12986714  0.45820024  0.38385772  0.19780439  0.45239111 -0.6300602\n",
      "  0.35262858  1.09618274]\n",
      "GOOD p value: 4 with State: 10100\n",
      "p value: 5 and number of iters: 250\n",
      "Warning: Maximum number of iterations has been exceeded.\n",
      "The optimal parameters are: [ 1.0219468   0.51459692  0.36585327  0.25401614  0.15629477  2.20410124\n",
      " -0.46540335 -0.01020403  0.59382447  1.77892594]\n",
      "GOOD p value: 5 with State: 10100\n",
      "p value: 6 and number of iters: 300\n",
      "Warning: Maximum number of iterations has been exceeded.\n",
      "The optimal parameters are: [ 1.10821962  0.46740385  0.41068923  0.37442257  0.236326    0.20109152\n",
      "  0.05378484 -0.46094744 -0.07463564  0.54850395  1.63026175  1.19970339]\n",
      "GOOD p value: 6 with State: 10100\n",
      "p value: 7 and number of iters: 350\n",
      "Warning: Maximum number of iterations has been exceeded.\n",
      "The optimal parameters are: [ 1.17898073  0.69353505  0.59287688  0.71985545  0.63707136  0.55636486\n",
      "  0.38097755  0.47368145 -0.11926148  0.39201166  0.62561161  0.37987722\n",
      "  0.48987259  0.394838  ]\n",
      "GOOD p value: 7 with State: 10100\n",
      "p value: 8 and number of iters: 400\n",
      "Warning: Maximum number of iterations has been exceeded.\n",
      "The optimal parameters are: [ 1.20118306  0.39567064  0.56110229  0.55400348  0.77778187  0.73619701\n",
      "  0.5720823   0.17865688  0.47824586 -0.5436051   0.55209793  0.31848342\n",
      "  0.70933795  0.38392568  0.62356733  0.27334848]\n",
      "GOOD p value: 8 with State: 10100\n",
      "p value: 9 and number of iters: 450\n",
      "Warning: Maximum number of iterations has been exceeded.\n",
      "The optimal parameters are: [ 1.16753224  0.32324174  0.41251699  0.39584517  0.41914378  0.61144503\n",
      "  0.7976697   0.56717366  0.28067647  0.90884373 -0.76107328  0.38965001\n",
      "  0.31486329  0.3354372   0.91305712  0.66868651  0.42228912  0.77719213]\n",
      "GOOD p value: 9 with State: 10100\n",
      "p value: 10 and number of iters: 500\n",
      "Warning: Maximum number of iterations has been exceeded.\n",
      "The optimal parameters are: [ 0.9099985   0.32045339  0.50648312  0.59049876  0.97623845  0.537073\n",
      "  0.62127728  0.65937127  0.66510638  0.10245828  0.84071764 -0.28125828\n",
      "  0.24022008  0.31154599  0.44694093  0.25535509  0.22417437  0.32933073\n",
      "  0.78949668  1.01349901]\n",
      "GOOD p value: 10 with State: 10100\n",
      "CPU times: user 2min 10s, sys: 1.48 s, total: 2min 12s\n",
      "Wall time: 3min 29s\n"
     ]
    }
   ],
   "source": [
    "%%time\n",
    "\n",
    "# SET THIS VALUE\n",
    "p_max = 10\n",
    "\n",
    "p_vals, prob_vals, colors = run_p_range(p_max, correct)"
   ]
  },
  {
   "cell_type": "markdown",
   "metadata": {},
   "source": [
    "4. To see how QAOA performed on your graph, plot the results. Red color means that the most probable state was not the correct state, while green means that it was."
   ]
  },
  {
   "cell_type": "code",
   "execution_count": 16,
   "metadata": {},
   "outputs": [
    {
     "data": {
      "image/png": "[encoded data removed]",
      "text/plain": [
       "<Figure size 432x288 with 1 Axes>"
      ]
     },
     "metadata": {
      "needs_background": "light"
     },
     "output_type": "display_data"
    }
   ],
   "source": [
    "plt.scatter(p_vals, prob_vals, color = colors) \n",
    "plt.title(\"Dependence on p\")\n",
    "plt.xlabel(\"value of p\")\n",
    "plt.ylabel(\"probability of required state\")\n",
    "# plt.savefig(\"pgraph3.png\")\n",
    "plt.show()"
   ]
  },
  {
   "cell_type": "code",
   "execution_count": 29,
   "metadata": {},
   "outputs": [
    {
     "data": {
      "text/plain": [
       "[0.018551935726479268,\n",
       " 0.10241357111186623,\n",
       " 0.18766430160452127,\n",
       " 0.20634872203745952,\n",
       " 0.23254463830689542,\n",
       " 0.265105699991763,\n",
       " 0.44133566005393843,\n",
       " 0.4959777926613009,\n",
       " 0.5329919262665037,\n",
       " 0.6631958811106692]"
      ]
     },
     "execution_count": 29,
     "metadata": {},
     "output_type": "execute_result"
    }
   ],
   "source": [
    "prob_vals"
   ]
  },
  {
   "cell_type": "markdown",
   "metadata": {},
   "source": [
    "#### Plotting all values"
   ]
  },
  {
   "cell_type": "code",
   "execution_count": 36,
   "metadata": {},
   "outputs": [
    {
     "data": {
      "image/png": "[encoded data removed]",
      "text/plain": [
       "<Figure size 432x288 with 1 Axes>"
      ]
     },
     "metadata": {
      "needs_background": "light"
     },
     "output_type": "display_data"
    }
   ],
   "source": [
    "paxis = list(range(1,11))\n",
    "plt.plot(paxis, [0.0002584088825309589, 0.016013513616306287, 0.04617072571470806, 0.07077191741821537, 0.07560195740556094,\n",
    " 0.08751310563042256, 0.08883531569983363, 0.06653509811964456, 0.09057367498538071, 0.11702668124351008], label = 'g1') \n",
    "plt.plot(paxis, [0.0005317994423599302, 0.04844621167737637, 0.16448419711373685, 0.24162292345998884, 0.3955198436659364,\n",
    "  0.409267066296394, 0.5279943164193701, 0.6313983067454861, 0.623606445096216, 0.6009971137120277], label = 'g2')\n",
    "plt.plot(paxis, [0.018551935708694726, 0.10241589381176734, 0.1852167182088925, 0.20558281325232938, 0.2212128411269047,\n",
    " 0.4559834830957632, 0.7053359374171075, 0.6933577935722443, 0.7340931703510583, 0.8858375563026535], label = 'g3')\n",
    "plt.plot(paxis, [0.00025840888373638513, 0.016007294155534146, 0.046026503812618504, 0.07110633993353646, 0.08592458108855694,\n",
    " 0.08822873035040116, 0.08756065585648515, 0.019802383927298148, 0.06475600039004104, 0.11134665527605557], '--', label = 'g1 lim')\n",
    "plt.plot(paxis, [0.0005317994423599302, 0.04846068694867068, 0.16833435898860002, 0.22010295717138745, 0.22399681825545284,\n",
    " 0.338817328756781, 0.2601803984751079, 0.39111098722327375, 0.2717148731462373, 0.3596595186476516], '--', label = 'g2 lim')\n",
    "plt.plot(paxis, [0.018551935726479268, 0.10241357111186623, 0.18766430160452127, 0.20634872203745952, 0.23254463830689542,\n",
    " 0.265105699991763, 0.44133566005393843, 0.4959777926613009, 0.5329919262665037, 0.6631958811106692], '--', label = 'g3 lim')\n",
    "plt.title(\"Dependence on p\")\n",
    "plt.xlabel(\"value of p\")\n",
    "plt.ylabel(\"probability of correct state\")\n",
    "plt.legend()\n",
    "# plt.savefig(\"p_depth_lim.png\")\n",
    "plt.show()"
   ]
  },
  {
   "cell_type": "markdown",
   "metadata": {},
   "source": [
    "### Implementation with Noise"
   ]
  },
  {
   "cell_type": "markdown",
   "metadata": {},
   "source": [
    "To add noise to our program using the PyQuil noise module, we first need to convert our program to the form where it uses the module's specific gate set. To do this, we will be using quilc."
   ]
  },
  {
   "cell_type": "code",
   "execution_count": 10,
   "metadata": {},
   "outputs": [],
   "source": [
    "from pyquil.api import get_qc\n",
    "\n",
    "# SET NUMBER OF QUBITS\n",
    "num_nodes = 5\n",
    "\n",
    "qc = get_qc(str(num_nodes)+\"q-qvm\")"
   ]
  },
  {
   "cell_type": "code",
   "execution_count": 11,
   "metadata": {},
   "outputs": [],
   "source": [
    "def make_native(program):\n",
    "    ep = qc.compile(program)\n",
    "    return ep"
   ]
  },
  {
   "cell_type": "markdown",
   "metadata": {},
   "source": [
    "Now, we define a new version of the ansatz that adds noise to the program."
   ]
  },
  {
   "cell_type": "code",
   "execution_count": 12,
   "metadata": {},
   "outputs": [],
   "source": [
    "from pyquil import noise\n",
    "\n",
    "def mis_noisy_ansatz(params: List[float], t1, t2) -> Program:\n",
    "    '''\n",
    "    Returns the program to create the noisy MIS ansatz.\n",
    "    '''\n",
    "    half = int(len(params)/2)\n",
    "    betas, gammas = params[:half], params[half:]\n",
    "    \n",
    "    pq = Program(RESET())\n",
    "    pq += [exponentiate_commuting_pauli_sum(h_cost)(g) + exponentiate_commuting_pauli_sum(h_driver)(b) \n",
    "                for g, b in zip(gammas, betas)]\n",
    "    pq = make_native(pq)\n",
    "    pq = noise.add_decoherence_noise(Program(pq.program), T1 = t1, T2 = t2)\n",
    "    return pq"
   ]
  },
  {
   "cell_type": "markdown",
   "metadata": {},
   "source": [
    "We have the optimized parameters from the noiseless analysis. Let's see how these solutions depend on the values of T1 and T2."
   ]
  },
  {
   "cell_type": "code",
   "execution_count": 43,
   "metadata": {},
   "outputs": [
    {
     "name": "stdout",
     "output_type": "stream",
     "text": [
      "CPU times: user 7.03 s, sys: 9.95 ms, total: 7.04 s\n",
      "Wall time: 18.9 s\n"
     ]
    }
   ],
   "source": [
    "%%time\n",
    "\n",
    "wf_sim = WavefunctionSimulator()\n",
    "\n",
    "# SET PARAMS calculated from noiseless analysis\n",
    "params = [ 1.07431624,  0.43319211,   0.820297,   -0.26461078]\n",
    "# params = [ 1.12986714,  0.45820024,  0.38385772,  0.19780439,  0.45239111, -0.6300602,  0.35262858,  1.09618274]\n",
    "# params = [ 1.17898073,  0.69353505,  0.59287688,  0.71985545,  0.63707136,  0.55636486,  0.38097755,  0.47368145,\n",
    "#          -0.11926148,  0.39201166,  0.62561161,  0.37987722,  0.48987259,  0.394838 ]\n",
    "\n",
    "correct = '10100'\n",
    "\n",
    "times = np.logspace(-7,-3,20)\n",
    "probs = []\n",
    "colors = []\n",
    "\n",
    "for t1 in times:\n",
    "    prog = mis_noisy_ansatz(params, t1, 2*t1)\n",
    "    wavefunction = wf_sim.wavefunction(prog)\n",
    "    prob_dict = wavefunction.get_outcome_probs() \n",
    "    sorted_dict = sorted(prob_dict.items(), key = operator.itemgetter(1))\n",
    "    if sorted_dict[len(prob_dict)-1][0] == correct:\n",
    "        probs.append(sorted_dict[len(prob_dict)-1][1])\n",
    "        colors.append('g')\n",
    "    else:\n",
    "        probs.append(prob_dict.get(correct))\n",
    "        colors.append('r')"
   ]
  },
  {
   "cell_type": "code",
   "execution_count": 44,
   "metadata": {},
   "outputs": [
    {
     "data": {
      "image/png": "[encoded data removed]",
      "text/plain": [
       "<Figure size 432x288 with 1 Axes>"
      ]
     },
     "metadata": {
      "needs_background": "light"
     },
     "output_type": "display_data"
    }
   ],
   "source": [
    "plt.plot(times, probs) \n",
    "plt.title(\"Dependence on T1 - Graph 3, p = 2\")\n",
    "plt.xlabel(\"value of T1\")\n",
    "plt.ylabel(\"probability of required state\")\n",
    "#plt.savefig(\"t1_3_4.png\")\n",
    "plt.xscale('log')\n",
    "plt.show()"
   ]
  },
  {
   "cell_type": "code",
   "execution_count": 45,
   "metadata": {},
   "outputs": [
    {
     "data": {
      "text/plain": [
       "[5.706273277226982e-06,\n",
       " 0.00862779769790872,\n",
       " 0.0,\n",
       " 0.0,\n",
       " 0.041144249933973656,\n",
       " 0.0,\n",
       " 0.04493611436432071,\n",
       " 0.08817833003484794,\n",
       " 0.010500312848269546,\n",
       " 0.1046199098174919,\n",
       " 0.1045028884990306,\n",
       " 0.10399808633186648,\n",
       " 0.05617575287306052,\n",
       " 0.1031322750738719,\n",
       " 0.1028736364523944,\n",
       " 0.10270356756104083,\n",
       " 0.1025947036816087,\n",
       " 0.10252608652974315,\n",
       " 0.10248323011671143,\n",
       " 0.10245660958539544]"
      ]
     },
     "execution_count": 45,
     "metadata": {},
     "output_type": "execute_result"
    }
   ],
   "source": [
    "probs"
   ]
  },
  {
   "cell_type": "markdown",
   "metadata": {},
   "source": [
    "#### Plotting all values"
   ]
  },
  {
   "cell_type": "code",
   "execution_count": 34,
   "metadata": {},
   "outputs": [
    {
     "data": {
      "image/png": "[encoded data removed]",
      "text/plain": [
       "<Figure size 432x288 with 1 Axes>"
      ]
     },
     "metadata": {
      "needs_background": "light"
     },
     "output_type": "display_data"
    }
   ],
   "source": [
    "plt.plot(times, [0.0, 0.0, 0.0, 0.0, 7.29172007716542e-23, 0.0, 2.392043967743857e-07, 0.0, 0.0, 0.0, 0.0, 0.007961072635407013,\n",
    " 0.10321420660767898, 0.10270356756104083, 0.10251340140137408, 0.1024473836374872, 0.10242496201401485, 0.10241740153257967,\n",
    " 0.1024148582738098, 0.1024140034379788], label = 'p = 2') \n",
    "plt.plot(times, [0.0, 0.0, 0.0, 0.0, 0.0, 0.0, 1.9225408540239596e-07, 0.00022999052048774992, 0.049184568944435604, 0.0,\n",
    " 0.045728583953194187, 0.11968922423249545, 0.2082610976773786, 0.20719138097810103, 0.20665446426547446, 0.20645399841430911,\n",
    " 0.20638438080516858, 0.2063607349715337, 0.20635276155303414, 0.2063500793729442], label = 'p = 4')\n",
    "plt.plot(times, [0.0, 0.0, 0.0, 0.0, 0.0, 0.0, 0.0, 9.321981744538661e-05, 3.9047760675492715e-05, 0.0015686204503593832, 0.00019135951718935766,\n",
    " 0.0026936116210448326, 0.025506543648392953, 8.340309106853962e-08, 0.4441653621778469, 0.4422912982138006, 0.4416572922163946,\n",
    " 0.44144378670945944, 0.4413719973329165, 0.44134787115330254], label = 'p = 7')\n",
    "plt.title(\"Dependence on T1, T2 - Graph 3\")\n",
    "plt.xlabel(\"value of T1 [s]\")\n",
    "plt.ylabel(\"probability of required state\")\n",
    "plt.xscale('log')\n",
    "plt.legend()\n",
    "#plt.savefig(\"t1.png\")\n",
    "plt.show()"
   ]
  },
  {
   "cell_type": "code",
   "execution_count": 47,
   "metadata": {},
   "outputs": [
    {
     "data": {
      "image/png": "[encoded data removed]",
      "text/plain": [
       "<Figure size 432x288 with 1 Axes>"
      ]
     },
     "metadata": {
      "needs_background": "light"
     },
     "output_type": "display_data"
    }
   ],
   "source": [
    "plt.plot(times, [5.706273277226982e-06, 0.00862779769790872, 0.0, 0.0, 0.041144249933973656, 0.0, 0.04493611436432071,\n",
    "                 0.08817833003484794, 0.010500312848269546, 0.1046199098174919, 0.1045028884990306, 0.10399808633186648,\n",
    "                 0.05617575287306052, 0.1031322750738719, 0.1028736364523944, 0.10270356756104083, 0.1025947036816087,\n",
    "                 0.10252608652974315, 0.10248323011671143, 0.10245660958539544] , label = 'p = 2') \n",
    "plt.plot(times, [0.0, 0.11114316828751238, 0.0, 0.0, 0.06403845463992265, 6.424012944220585e-05, 0.13327034851442127,\n",
    "                 0.0017216771373550065, 0.00018241299609454857, 0.004135473684677462, 0.0016547071868690793,\n",
    "                 0.08478059398935327, 0.02684420569092727, 0.20813333086619476, 0.007569149679292924, 0.20719138097810103,\n",
    "                  0.20689166546411025, 0.20669219100650507, 0.20656369661543866, 0.20648242183039622], label = 'p = 4')\n",
    "plt.plot(times, [0.0, 7.331712366297175e-05, 0.004871714734507481, 0.0, 0.0, 0.36764439640682844, 0.0029539439074752977,\n",
    "                 0.18912509625555585, 0.0, 0.09187034676437467, 0.01592443537139975, 0.07467016094881482, 0.0,\n",
    "                 0.4623521516237755, 0.45460209641845595, 0.44962807897624435, 0.4464888031343465, 0.44452673235159906,\n",
    "                 0.4433075129088483, 0.44255253780302745], label = 'p = 7')\n",
    "plt.title(\"Dependence on T1, T2 - Graph 3\")\n",
    "plt.xlabel(\"value of T1 [s]\")\n",
    "plt.ylabel(\"probability of required state\")\n",
    "plt.xscale('log')\n",
    "plt.legend()\n",
    "#plt.savefig(\"t1_zoom.png\")\n",
    "plt.show()"
   ]
  },
  {
   "cell_type": "markdown",
   "metadata": {},
   "source": [
    "_______________\n",
    "\n",
    "# Future Work"
   ]
  },
  {
   "cell_type": "markdown",
   "metadata": {},
   "source": [
    "__I can do 5 types of analyses:__\n",
    "1. Let Nealder-Mead run forever - tried\n",
    "2. Stop at 100 or certain number of iters that scales with p - tried p*50\n",
    "3. Grid search for params - need to implement properly\n",
    "4. Grid search with width decreasing - takes too long - how to improve?\n",
    "5. Adding noise - takes long - how to improve?"
   ]
  },
  {
   "cell_type": "markdown",
   "metadata": {},
   "source": [
    "## Section 2: Running on the QPU"
   ]
  },
  {
   "cell_type": "code",
   "execution_count": 2,
   "metadata": {},
   "outputs": [],
   "source": [
    "from pyquil.gates import MEASURE, X\n",
    "import itertools"
   ]
  },
  {
   "cell_type": "code",
   "execution_count": 3,
   "metadata": {},
   "outputs": [],
   "source": [
    "from pyquil import get_qc\n",
    "from pyquil.api._devices import list_devices, list_lattices"
   ]
  },
  {
   "cell_type": "code",
   "execution_count": 4,
   "metadata": {},
   "outputs": [],
   "source": [
    "def get_hamil(nodes: List[int], edges: List[Tuple[int, int]], delta: float, \n",
    "              U: float, omega: float) -> 'PauliSum, PauliSum':\n",
    "    '''\n",
    "    For a given graph, and values of hyperparameters, returns the cost and driver Hamiltonians.\n",
    "    '''\n",
    "    h_cost = -0.5* delta * sum((sI(i) - sZ(i)) for i in nodes) + 0.25 * U * sum((sI(i) - sZ(i))*(sI(j) - sZ(j)) for i, j in edges)\n",
    "    h_driver = omega*sum(sX(i) for i in nodes) + 0.25*U * sum((sI(i) - sZ(i))*(sI(j) - sZ(j)) for i, j in edges)\n",
    "    return h_cost, h_driver"
   ]
  },
  {
   "cell_type": "code",
   "execution_count": 5,
   "metadata": {},
   "outputs": [],
   "source": [
    "def mis_qpu_ansatz(betas: List[float], gammas: List[float], qubits) -> Program:\n",
    "    '''\n",
    "    Returns the program to create the MIS ansatz.\n",
    "    '''    \n",
    "    pq = Program(RESET())\n",
    "    pq += [exponentiate_commuting_pauli_sum(h_cost)(g) + exponentiate_commuting_pauli_sum(h_driver)(b) \n",
    "                for g, b in zip(gammas, betas)]\n",
    "    ro = pq.declare('ro', 'BIT', len(qubits))\n",
    "    pq.inst([MEASURE(qubit, ro[idx]) for idx, qubit in enumerate(qubits)])\n",
    "    return pq"
   ]
  },
  {
   "cell_type": "code",
   "execution_count": 6,
   "metadata": {},
   "outputs": [],
   "source": [
    "from pyquil.gates import I, X\n",
    "from pyquil.api import WavefunctionSimulator\n",
    "\n",
    "def bit_energy(bitstring, h_cost):\n",
    "    size = len(bitstring)\n",
    "    pq = Program()\n",
    "    for i in range(size):\n",
    "        if bitstring[i] == 0:\n",
    "            pq += Program(I(i))\n",
    "        elif bitstring[i] == 1:\n",
    "            pq += Program(X(i))\n",
    "    return np.real(WavefunctionSimulator().expectation(prep_prog = pq, pauli_terms = h_cost))"
   ]
  },
  {
   "cell_type": "code",
   "execution_count": 8,
   "metadata": {},
   "outputs": [
    {
     "name": "stdout",
     "output_type": "stream",
     "text": [
      "Available devices: ['Aspen-4'].\n",
      "\n",
      "Available lattices: ['Aspen-4-2Q-A', 'Aspen-4-3Q-A', 'Aspen-4-4Q-A', 'Aspen-4-5Q-A', 'Aspen-4-6Q-A', 'Aspen-4-7Q-A', 'Aspen-4-8Q-A', 'Aspen-4-9Q-A', 'Aspen-4-10Q-A', 'Aspen-4-15Q-A', 'Aspen-4-11Q-A', 'Aspen-4-12Q-A', 'Aspen-4-13Q-A', 'Aspen-4-14Q-B', 'Aspen-4-16Q-A'].\n"
     ]
    }
   ],
   "source": [
    "device_names = list_devices()  # Available devices are subject to change.\n",
    "lattice_names = list(list_lattices().keys())  # Available lattices are subject to change.\n",
    "print(f\"Available devices: {device_names}.\\n\")\n",
    "print(f\"Available lattices: {lattice_names}.\")"
   ]
  },
  {
   "cell_type": "code",
   "execution_count": 9,
   "metadata": {},
   "outputs": [],
   "source": [
    "qpu = get_qc('Aspen-4-5Q-A')"
   ]
  },
  {
   "cell_type": "code",
   "execution_count": 10,
   "metadata": {},
   "outputs": [],
   "source": [
    "nodes = [0,1,2,7,15]\n",
    "elist = [(0,7),(0,1)]\n",
    "\n",
    "# SET THESE PARAMS\n",
    "delta = 1\n",
    "U = 1.5\n",
    "omega = 0.5\n",
    "\n",
    "h_cost, h_driver = get_hamil(nodes, elist, delta, U, omega)"
   ]
  },
  {
   "cell_type": "code",
   "execution_count": 11,
   "metadata": {},
   "outputs": [],
   "source": [
    "mis_program = mis_qpu_ansatz([0.5], [0.5], nodes)\n",
    "\n",
    "# mis_program = Program(RESET(), X(1))\n",
    "# ro = mis_program.declare('ro', 'BIT', 1)\n",
    "# mis_program.inst(MEASURE(1, 0))\n",
    "\n",
    "mis_program.wrap_in_numshots_loop(10_000)\n",
    "binary = qpu.compile(mis_program)"
   ]
  },
  {
   "cell_type": "code",
   "execution_count": 13,
   "metadata": {},
   "outputs": [],
   "source": [
    "big_results_array = qpu.run(binary)"
   ]
  },
  {
   "cell_type": "code",
   "execution_count": 20,
   "metadata": {},
   "outputs": [
    {
     "data": {
      "text/plain": [
       "array([1])"
      ]
     },
     "execution_count": 20,
     "metadata": {},
     "output_type": "execute_result"
    }
   ],
   "source": [
    "np.array(results)[0]"
   ]
  },
  {
   "cell_type": "code",
   "execution_count": 41,
   "metadata": {},
   "outputs": [
    {
     "name": "stdout",
     "output_type": "stream",
     "text": [
      "9751\n"
     ]
    }
   ],
   "source": [
    "result = np.array(results)\n",
    "score = 0\n",
    "for x in result:\n",
    "    if (np.count_nonzero(x) > 0):\n",
    "            score += 1 \n",
    "print(score)   "
   ]
  },
  {
   "cell_type": "code",
   "execution_count": 42,
   "metadata": {},
   "outputs": [
    {
     "data": {
      "text/plain": [
       "array([[1, 1, 1, 0, 1],\n",
       "       [1, 0, 1, 0, 0],\n",
       "       [1, 0, 0, 0, 0],\n",
       "       ...,\n",
       "       [0, 0, 0, 1, 0],\n",
       "       [0, 1, 0, 0, 0],\n",
       "       [1, 1, 0, 0, 0]])"
      ]
     },
     "execution_count": 42,
     "metadata": {},
     "output_type": "execute_result"
    }
   ],
   "source": [
    "results"
   ]
  },
  {
   "cell_type": "code",
   "execution_count": 34,
   "metadata": {},
   "outputs": [],
   "source": [
    "def mis_cost(params: List[float]) -> float:\n",
    "    '''\n",
    "    Returns the value of the cost function given params.\n",
    "    '''\n",
    "    half = int(len(params)/2)\n",
    "    betas, gammas = params[:half], params[half:]\n",
    "    pq = mis_qpu_ansatz(betas, gammas, [0,1,2,7,15])\n",
    "    pq.wrap_in_numshots_loop(1)\n",
    "    binary = qpu.compile(pq)\n",
    "    output = qpu.run(binary)\n",
    "    return sum(bit_energy_prime(x) for x in output)"
   ]
  },
  {
   "cell_type": "code",
   "execution_count": 31,
   "metadata": {},
   "outputs": [],
   "source": [
    "def bit_energy_prime(x):\n",
    "    bitstring = ''.join(str(e) for e in x)\n",
    "    if bitstring == '01111':\n",
    "        return -1\n",
    "    else:\n",
    "        return 1"
   ]
  },
  {
   "cell_type": "code",
   "execution_count": 21,
   "metadata": {},
   "outputs": [],
   "source": [
    "def run_p_range_qpu(max_p: int, correct_state: str) -> 'List[int], List[float], List[str]':\n",
    "    '''\n",
    "    Runs QAOA on MIS for multiple p values from 1 to max_p.\n",
    "    '''\n",
    "    p_vals = []\n",
    "    prob_vals = []\n",
    "    colors = []\n",
    "    for p in range(1, max_p + 1):\n",
    "        p_vals.append(p)\n",
    "        params = [0.5] * 2 * p\n",
    "        half = int(len(params)/2)\n",
    "        betas, gammas = params[:half], params[half:]\n",
    "        mis_program = mis_qpu_ansatz(betas, gammas, nodes)\n",
    "        mis_program.wrap_in_numshots_loop(10_000)\n",
    "        binary = qpu.compile(mis_program)\n",
    "        results = qpu.run(binary)\n",
    "        if (result[0] == correct):\n",
    "            print(\"GOOD p value:\", p, \"with State:\", result[0])        \n",
    "            prob_vals.append(result[1])\n",
    "            colors.append('g')\n",
    "        else:\n",
    "            print(\"BAD p value:\", p, \"with State:\", result[0])\n",
    "            prob_vals.append(prob_correct)\n",
    "            colors.append('r')\n",
    "    return p_vals, prob_vals, colors"
   ]
  },
  {
   "cell_type": "code",
   "execution_count": 37,
   "metadata": {},
   "outputs": [
    {
     "name": "stdout",
     "output_type": "stream",
     "text": [
      "1\n",
      "Optimization terminated successfully.\n",
      "         Current function value: 1.000000\n",
      "         Iterations: 9\n",
      "         Function evaluations: 35\n",
      "2\n",
      "Optimization terminated successfully.\n",
      "         Current function value: 1.000000\n",
      "         Iterations: 9\n",
      "         Function evaluations: 53\n",
      "3\n",
      "Warning: Maximum number of iterations has been exceeded.\n",
      "4\n",
      "Warning: Maximum number of iterations has been exceeded.\n"
     ]
    }
   ],
   "source": [
    "p_range = []\n",
    "big_results_array = []\n",
    "for p in range(1, 5):\n",
    "    print(p)\n",
    "    p_range.append(p)\n",
    "    params = [0.5] * 2 * p\n",
    "    params = (minimize(mis_cost, x0 = params, method='Nelder-Mead', options={'disp': True, 'maxiter': 10}))['x']\n",
    "    half = int(len(params)/2)\n",
    "    betas, gammas = params[:half], params[half:]\n",
    "    mis_program = mis_qpu_ansatz(betas, gammas, nodes)\n",
    "    mis_program.wrap_in_numshots_loop(10_000)\n",
    "    binary = qpu.compile(mis_program)\n",
    "    results = qpu.run(binary)\n",
    "    big_results_array.append(results)    "
   ]
  },
  {
   "cell_type": "code",
   "execution_count": 127,
   "metadata": {},
   "outputs": [
    {
     "data": {
      "text/plain": [
       "[0.5, 0.5, 0.5, 0.5, 0.5, 0.5, 0.5, 0.5, 0.5, 0.5]"
      ]
     },
     "execution_count": 127,
     "metadata": {},
     "output_type": "execute_result"
    }
   ],
   "source": [
    "[0.5] * 2 * 5"
   ]
  },
  {
   "cell_type": "code",
   "execution_count": 111,
   "metadata": {},
   "outputs": [
    {
     "data": {
      "text/plain": [
       "array([[0, 0, 1, 0, 0],\n",
       "       [1, 1, 0, 1, 0],\n",
       "       [1, 0, 1, 1, 1],\n",
       "       ...,\n",
       "       [1, 1, 0, 0, 0],\n",
       "       [0, 1, 0, 0, 0],\n",
       "       [1, 0, 1, 1, 0]])"
      ]
     },
     "execution_count": 111,
     "metadata": {},
     "output_type": "execute_result"
    }
   ],
   "source": [
    "big_results_array[0]"
   ]
  },
  {
   "cell_type": "code",
   "execution_count": 46,
   "metadata": {},
   "outputs": [],
   "source": [
    "list1 = [1, 2, 3]\n",
    "str1 = ''.join(str(e) for e in list1)"
   ]
  },
  {
   "cell_type": "code",
   "execution_count": 49,
   "metadata": {},
   "outputs": [
    {
     "data": {
      "text/plain": [
       "dict"
      ]
     },
     "execution_count": 49,
     "metadata": {},
     "output_type": "execute_result"
    }
   ],
   "source": [
    "count = {}\n",
    "type(count)"
   ]
  },
  {
   "cell_type": "code",
   "execution_count": 38,
   "metadata": {},
   "outputs": [
    {
     "name": "stdout",
     "output_type": "stream",
     "text": [
      "0.1121\n",
      "0.0647\n",
      "0.0489\n",
      "0.0457\n"
     ]
    }
   ],
   "source": [
    "for p, p_results in enumerate(big_results_array):\n",
    "    p_results_bit = []\n",
    "    for result in p_results:\n",
    "        p_results_bit.append(''.join(str(e) for e in result))\n",
    "    _, counts = np.unique(p_results_bit, return_counts = True)\n",
    "    print(max(counts)/10000)"
   ]
  },
  {
   "cell_type": "code",
   "execution_count": 82,
   "metadata": {},
   "outputs": [
    {
     "data": {
      "text/plain": [
       "953"
      ]
     },
     "execution_count": 82,
     "metadata": {},
     "output_type": "execute_result"
    }
   ],
   "source": [
    "count = {}\n",
    "\n",
    "for a in big_results_array[9]:\n",
    "    bitstring = ''.join(str(e) for e in a)\n",
    "    if bitstring in count:\n",
    "        count[bitstring] += 1\n",
    "    else:\n",
    "        count[bitstring] = 1\n",
    "    sorted_count = sorted(count.items(), key = operator.itemgetter(1))\n",
    "\n",
    "sorted_count[len(sorted_count)-1][1]"
   ]
  }
 ],
 "metadata": {
  "kernelspec": {
   "display_name": "Python 3",
   "language": "python",
   "name": "python3"
  },
  "language_info": {
   "codemirror_mode": {
    "name": "ipython",
    "version": 3
   },
   "file_extension": ".py",
   "mimetype": "text/x-python",
   "name": "python",
   "nbconvert_exporter": "python",
   "pygments_lexer": "ipython3",
   "version": "3.6.8"
  }
 },
 "nbformat": 4,
 "nbformat_minor": 2
}
