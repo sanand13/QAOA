{
 "cells": [
  {
   "cell_type": "markdown",
   "metadata": {},
   "source": [
    "# CS 269Q: Final Project - QAOA on MIS\n",
    "## Part 2: Using Grid Search "
   ]
  },
  {
   "cell_type": "markdown",
   "metadata": {},
   "source": [
    "__Note:__ Part 1: Using Classical Optimizer is documented on another notebook."
   ]
  },
  {
   "cell_type": "markdown",
   "metadata": {},
   "source": [
    "__GOAL:__ Generate random MIS instances for simulation on the QVM and the QPU. Benchmark against various noise models."
   ]
  },
  {
   "cell_type": "code",
   "execution_count": 1,
   "metadata": {},
   "outputs": [],
   "source": [
    "from pyquil import Program\n",
    "from pyquil.gates import RESET\n",
    "from pyquil.paulis import sZ, sX, sI, exponentiate_commuting_pauli_sum\n",
    "\n",
    "def mis_ansatz(betas, gammas):\n",
    "    pq = Program(RESET())\n",
    "    pq += [exponentiate_commuting_pauli_sum(h_cost)(g) + exponentiate_commuting_pauli_sum(h_driver)(b) \n",
    "                for g, b in zip(gammas, betas)]\n",
    "    pq.measure_all()\n",
    "    return pq"
   ]
  },
  {
   "cell_type": "code",
   "execution_count": 2,
   "metadata": {},
   "outputs": [],
   "source": [
    "from pyquil.gates import I, X\n",
    "from pyquil.api import WavefunctionSimulator\n",
    "\n",
    "def bit_energy(bitstring, h_cost):\n",
    "    size = len(bitstring)\n",
    "    pq = Program()\n",
    "    for i in range(size):\n",
    "        if bitstring[i] == 0:\n",
    "            pq += Program(I(i))\n",
    "        elif bitstring[i] == 1:\n",
    "            pq += Program(X(i))\n",
    "    return np.real(WavefunctionSimulator().expectation(prep_prog = pq, pauli_terms = h_cost))"
   ]
  },
  {
   "cell_type": "code",
   "execution_count": 3,
   "metadata": {},
   "outputs": [],
   "source": [
    "import numpy as np\n",
    "import matplotlib.pyplot as plt\n",
    "from typing import List, Tuple\n",
    "\n",
    "def plot_landscape(landscape: np.ndarray, *, device: str, edges: List[Tuple[int, int]],\n",
    "                   width: int, shots: int):\n",
    "    max_x, max_y = (np.argmax(landscape) % width, np.argmax(landscape) // width)\n",
    "    min_x, min_y = (np.argmin(landscape) % width, np.argmin(landscape) // width)\n",
    "    plt.imshow(landscape, extent=[0, np.pi, np.pi, 0])\n",
    "    plt.plot((max_x + 0.5) * np.pi / width, (max_y + 0.5) * np.pi / width, 'ro')\n",
    "    plt.plot((min_x + 0.5) * np.pi / width, (min_y + 0.5) * np.pi / width, 'go')\n",
    "    plt.colorbar()\n",
    "    plt.xlabel('gamma (radians)')\n",
    "    plt.ylabel('beta (radians)')\n",
    "    plt.title(f'Max-Cut QAOA Landscape\\n{device}\\n{edges}\\nwidth = {width} shots = {shots}')\n",
    "    plt.show()"
   ]
  },
  {
   "cell_type": "code",
   "execution_count": 4,
   "metadata": {},
   "outputs": [],
   "source": [
    "import itertools\n",
    "from tqdm import tqdm\n",
    "from pyquil.api import QPU, QuantumComputer\n",
    "\n",
    "def run_mis_qaoa_landscape(qc: QuantumComputer, num_nodes, edge_list, delta, U, omega, width: int,\n",
    "                              shots: int = 1000) -> np.ndarray:\n",
    "   \n",
    "    beta_lst = []\n",
    "    gamma_lst = []\n",
    "    costs = []\n",
    "    angle_range = np.linspace(0, np.pi, width)\n",
    "    landscape = list(itertools.product(angle_range, angle_range))\n",
    "    for lst in tqdm(landscape):\n",
    "        half = int(len(lst)/2)\n",
    "        betas, gammas = lst[:half], lst[half:]\n",
    "        \n",
    "        p = mis_ansatz(betas, gammas)\n",
    "        p.wrap_in_numshots_loop(shots)\n",
    "        \n",
    "        binary = qc.compile(p) if isinstance(qc.qam, QPU) else p\n",
    "        bitstrings = qvm.run(binary)\n",
    "        energy = np.mean([bit_energy(b, h_cost) for b in bitstrings])\n",
    "        costs.append(energy)\n",
    "        beta_lst.append(betas)\n",
    "        gamma_lst.append(gammas)\n",
    "        \n",
    "    return costs, beta_lst, gamma_lst, np.array(costs).reshape(width, width)"
   ]
  },
  {
   "cell_type": "code",
   "execution_count": 5,
   "metadata": {},
   "outputs": [],
   "source": [
    "def elist_from_math(string):\n",
    "    string = string.replace(',','), (')\n",
    "    string = string.replace(' <->',',')\n",
    "    return eval('(' + string + ')')"
   ]
  },
  {
   "cell_type": "code",
   "execution_count": 6,
   "metadata": {},
   "outputs": [],
   "source": [
    "def get_hamil(num_nodes, edge_list, delta, U, omega):\n",
    "    nodes = list(range(0,num_nodes))\n",
    "    edges = [(i-1,j-1) for i,j in edge_list]\n",
    "    h_cost = -0.5* delta * sum((sI(i) - sZ(i)) for i in nodes) + 0.25 * U * sum((sI(i) - sZ(i))*(sI(j) - sZ(j)) for i, j in edges)\n",
    "    h_driver = omega*sum(sX(i) for i in nodes) + 0.25*U * sum((sI(i) - sZ(i))*(sI(j) - sZ(j)) for i, j in edges)\n",
    "    return h_cost, h_driver"
   ]
  },
  {
   "cell_type": "code",
   "execution_count": 7,
   "metadata": {},
   "outputs": [],
   "source": [
    "def optimal_params(costs, beta, gamma):\n",
    "    min_cost = costs[np.argmin(costs)]\n",
    "    beta = beta[np.argmin(costs)]\n",
    "    gamma = gamma[np.argmin(costs)]\n",
    "    print(\"The minimum cost is:\", min_cost)\n",
    "    print(\"The optimal beta value(s):\",beta)\n",
    "    print(\"The optimal gamma value(s):\",gamma)\n",
    "    return beta, gamma"
   ]
  },
  {
   "cell_type": "code",
   "execution_count": 8,
   "metadata": {},
   "outputs": [],
   "source": [
    "from pyquil import get_qc\n",
    "\n",
    "# qpu = get_qc('Aspen-3-3Q-B')  # edit as necessary\n",
    "qvm = get_qc('5q-qvm')  # edit as necessary"
   ]
  },
  {
   "cell_type": "code",
   "execution_count": 9,
   "metadata": {},
   "outputs": [],
   "source": [
    "string = '1 <-> 2, 1 <-> 3, 1 <-> 4, 1 <-> 5, 2 <-> 3, 2 <-> 4, 2 <-> 5, 3 <-> 4, 4 <-> 5'\n",
    "elist = elist_from_math(string)\n",
    "\n",
    "width = 10\n",
    "shots = 100\n",
    "num_nodes = 5  # edit as necessary\n",
    "delta = 1\n",
    "U = 1.5\n",
    "omega = 0.5\n",
    "\n",
    "h_cost, h_driver = get_hamil(num_nodes, elist, delta, U, omega)"
   ]
  },
  {
   "cell_type": "code",
   "execution_count": null,
   "metadata": {},
   "outputs": [
    {
     "name": "stderr",
     "output_type": "stream",
     "text": [
      "100%|████████████████████████████████████████████████████████████████████████████████| 100/100 [02:57<00:00,  1.73s/it]\n"
     ]
    },
    {
     "name": "stdout",
     "output_type": "stream",
     "text": [
      "The minimum cost is: -0.565\n",
      "The optimal beta value(s): (1.0471975511965976,)\n",
      "The optimal gamma value(s): (0.3490658503988659,)\n"
     ]
    }
   ],
   "source": [
    "costs, beta, gamma, plot = run_mis_qaoa_landscape(qvm, num_nodes, elist, delta, U, omega, width, shots)\n",
    "optimal_params(costs, beta, gamma)\n",
    "plot_landscape(plot, device=qvm.name, edges=elist, width=width, shots=shots)"
   ]
  },
  {
   "cell_type": "code",
   "execution_count": null,
   "metadata": {},
   "outputs": [],
   "source": [
    "# costs, beta, gamma, plot = run_mis_qaoa_landscape(qpu, num_nodes, elist, delta, U, omega, width, shots)\n",
    "# optimal_params(costs, beta, gamma)\n",
    "# plot_landscape(plot, device=qvm.name, edges=elist, width=width, shots=shots)"
   ]
  },
  {
   "cell_type": "code",
   "execution_count": null,
   "metadata": {},
   "outputs": [],
   "source": []
  },
  {
   "cell_type": "code",
   "execution_count": null,
   "metadata": {},
   "outputs": [],
   "source": []
  },
  {
   "cell_type": "code",
   "execution_count": 99,
   "metadata": {},
   "outputs": [
    {
     "name": "stdout",
     "output_type": "stream",
     "text": [
      "The minimum cost is: -0.5\n",
      "The optimal beta value(s): (1.0471975511965976,)\n",
      "The optimal gamma value(s): (0.0,)\n"
     ]
    },
    {
     "data": {
      "text/plain": [
       "((1.0471975511965976,), (0.0,))"
      ]
     },
     "execution_count": 99,
     "metadata": {},
     "output_type": "execute_result"
    }
   ],
   "source": [
    "optimal_params(costs, betaa, gamma)"
   ]
  },
  {
   "cell_type": "code",
   "execution_count": 90,
   "metadata": {},
   "outputs": [
    {
     "name": "stdout",
     "output_type": "stream",
     "text": [
      "-0.43\n"
     ]
    }
   ],
   "source": [
    "p = Program(RESET())\n",
    "p += mis_ansatz([1.0471975511965976],[0])\n",
    "p.wrap_in_numshots_loop(100)\n",
    "binary = qvm.compile(p) if isinstance(qvm.qam, QPU) else p\n",
    "bitstrings = qvm.run(binary)\n",
    "energy = np.mean([bit_energy(b, h_cost) for b in bitstrings])\n",
    "print(energy)"
   ]
  },
  {
   "cell_type": "code",
   "execution_count": 33,
   "metadata": {},
   "outputs": [
    {
     "name": "stdout",
     "output_type": "stream",
     "text": [
      "(0.0, 0.0)\n",
      "(0.0, 0.3490658503988659)\n",
      "(0.0, 0.6981317007977318)\n",
      "(0.0, 1.0471975511965976)\n",
      "(0.0, 1.3962634015954636)\n",
      "(0.0, 1.7453292519943295)\n",
      "(0.0, 2.0943951023931953)\n",
      "(0.0, 2.443460952792061)\n",
      "(0.0, 2.792526803190927)\n",
      "(0.0, 3.141592653589793)\n",
      "(0.3490658503988659, 0.0)\n",
      "(0.3490658503988659, 0.3490658503988659)\n",
      "(0.3490658503988659, 0.6981317007977318)\n",
      "(0.3490658503988659, 1.0471975511965976)\n",
      "(0.3490658503988659, 1.3962634015954636)\n",
      "(0.3490658503988659, 1.7453292519943295)\n",
      "(0.3490658503988659, 2.0943951023931953)\n",
      "(0.3490658503988659, 2.443460952792061)\n",
      "(0.3490658503988659, 2.792526803190927)\n",
      "(0.3490658503988659, 3.141592653589793)\n",
      "(0.6981317007977318, 0.0)\n",
      "(0.6981317007977318, 0.3490658503988659)\n",
      "(0.6981317007977318, 0.6981317007977318)\n",
      "(0.6981317007977318, 1.0471975511965976)\n",
      "(0.6981317007977318, 1.3962634015954636)\n",
      "(0.6981317007977318, 1.7453292519943295)\n",
      "(0.6981317007977318, 2.0943951023931953)\n",
      "(0.6981317007977318, 2.443460952792061)\n",
      "(0.6981317007977318, 2.792526803190927)\n",
      "(0.6981317007977318, 3.141592653589793)\n",
      "(1.0471975511965976, 0.0)\n",
      "(1.0471975511965976, 0.3490658503988659)\n",
      "(1.0471975511965976, 0.6981317007977318)\n",
      "(1.0471975511965976, 1.0471975511965976)\n",
      "(1.0471975511965976, 1.3962634015954636)\n",
      "(1.0471975511965976, 1.7453292519943295)\n",
      "(1.0471975511965976, 2.0943951023931953)\n",
      "(1.0471975511965976, 2.443460952792061)\n",
      "(1.0471975511965976, 2.792526803190927)\n",
      "(1.0471975511965976, 3.141592653589793)\n",
      "(1.3962634015954636, 0.0)\n",
      "(1.3962634015954636, 0.3490658503988659)\n",
      "(1.3962634015954636, 0.6981317007977318)\n",
      "(1.3962634015954636, 1.0471975511965976)\n",
      "(1.3962634015954636, 1.3962634015954636)\n",
      "(1.3962634015954636, 1.7453292519943295)\n",
      "(1.3962634015954636, 2.0943951023931953)\n",
      "(1.3962634015954636, 2.443460952792061)\n",
      "(1.3962634015954636, 2.792526803190927)\n",
      "(1.3962634015954636, 3.141592653589793)\n",
      "(1.7453292519943295, 0.0)\n",
      "(1.7453292519943295, 0.3490658503988659)\n",
      "(1.7453292519943295, 0.6981317007977318)\n",
      "(1.7453292519943295, 1.0471975511965976)\n",
      "(1.7453292519943295, 1.3962634015954636)\n",
      "(1.7453292519943295, 1.7453292519943295)\n",
      "(1.7453292519943295, 2.0943951023931953)\n",
      "(1.7453292519943295, 2.443460952792061)\n",
      "(1.7453292519943295, 2.792526803190927)\n",
      "(1.7453292519943295, 3.141592653589793)\n",
      "(2.0943951023931953, 0.0)\n",
      "(2.0943951023931953, 0.3490658503988659)\n",
      "(2.0943951023931953, 0.6981317007977318)\n",
      "(2.0943951023931953, 1.0471975511965976)\n",
      "(2.0943951023931953, 1.3962634015954636)\n",
      "(2.0943951023931953, 1.7453292519943295)\n",
      "(2.0943951023931953, 2.0943951023931953)\n",
      "(2.0943951023931953, 2.443460952792061)\n",
      "(2.0943951023931953, 2.792526803190927)\n",
      "(2.0943951023931953, 3.141592653589793)\n",
      "(2.443460952792061, 0.0)\n",
      "(2.443460952792061, 0.3490658503988659)\n",
      "(2.443460952792061, 0.6981317007977318)\n",
      "(2.443460952792061, 1.0471975511965976)\n",
      "(2.443460952792061, 1.3962634015954636)\n",
      "(2.443460952792061, 1.7453292519943295)\n",
      "(2.443460952792061, 2.0943951023931953)\n",
      "(2.443460952792061, 2.443460952792061)\n",
      "(2.443460952792061, 2.792526803190927)\n",
      "(2.443460952792061, 3.141592653589793)\n",
      "(2.792526803190927, 0.0)\n",
      "(2.792526803190927, 0.3490658503988659)\n",
      "(2.792526803190927, 0.6981317007977318)\n",
      "(2.792526803190927, 1.0471975511965976)\n",
      "(2.792526803190927, 1.3962634015954636)\n",
      "(2.792526803190927, 1.7453292519943295)\n",
      "(2.792526803190927, 2.0943951023931953)\n",
      "(2.792526803190927, 2.443460952792061)\n",
      "(2.792526803190927, 2.792526803190927)\n",
      "(2.792526803190927, 3.141592653589793)\n",
      "(3.141592653589793, 0.0)\n",
      "(3.141592653589793, 0.3490658503988659)\n",
      "(3.141592653589793, 0.6981317007977318)\n",
      "(3.141592653589793, 1.0471975511965976)\n",
      "(3.141592653589793, 1.3962634015954636)\n",
      "(3.141592653589793, 1.7453292519943295)\n",
      "(3.141592653589793, 2.0943951023931953)\n",
      "(3.141592653589793, 2.443460952792061)\n",
      "(3.141592653589793, 2.792526803190927)\n",
      "(3.141592653589793, 3.141592653589793)\n"
     ]
    }
   ],
   "source": [
    "angle_range = np.linspace(0, np.pi, width)\n",
    "landscape = list(itertools.product(angle_range, angle_range))\n",
    "for lst in landscape:\n",
    "    print(lst)"
   ]
  },
  {
   "cell_type": "code",
   "execution_count": null,
   "metadata": {},
   "outputs": [],
   "source": []
  },
  {
   "cell_type": "code",
   "execution_count": null,
   "metadata": {},
   "outputs": [],
   "source": [
    "def mis_qaoa_program(num_nodes, edge_list, delta, U, omega, betas, gammas) -> Program:\n",
    "    nodes = list(range(0,num_nodes))\n",
    "    edges = [(i-1,j-1) for i,j in edge_list]\n",
    "    cost_ham = -0.5* delta * sum((sI(i) - sZ(i)) for i in nodes) + 0.25 * U * sum((sI(i) - sZ(i))*(sI(j) - sZ(j)) for i, j in edges)\n",
    "    driver_ham = omega*sum(sX(i) for i in nodes) + 0.25*U * sum((sI(i) - sZ(i))*(sI(j) - sZ(j)) for i, j in edges)\n",
    "\n",
    "    p = Program(RESET())\n",
    "    ro = p.declare('ro', 'BIT', len(nodes))\n",
    "\n",
    "    # p.inst(H(qubit) for qubit in list(nodes))\n",
    "    # p.inst(exponential_map(term)(gamma) for term in cost_ham)\n",
    "    # p.inst(exponential_map(term)(beta) for term in driver_ham)\n",
    "    \n",
    "    p += [exponentiate_commuting_pauli_sum(cost_ham)(g) + exponentiate_commuting_pauli_sum(driver_ham)(b) \n",
    "                for g, b in zip(gammas, betas)]\n",
    "\n",
    "    #p.inst(MEASURE(qubit, ro[idx]) for idx, qubit in enumerate(list(nodes)))\n",
    "    return p"
   ]
  },
  {
   "cell_type": "code",
   "execution_count": 18,
   "metadata": {},
   "outputs": [],
   "source": [
    "x = np.asarray([2,4,6,2])"
   ]
  },
  {
   "cell_type": "code",
   "execution_count": 19,
   "metadata": {},
   "outputs": [
    {
     "data": {
      "text/plain": [
       "array([[2, 4],\n",
       "       [6, 2]])"
      ]
     },
     "execution_count": 19,
     "metadata": {},
     "output_type": "execute_result"
    }
   ],
   "source": [
    "x.reshape(2,2)"
   ]
  },
  {
   "cell_type": "code",
   "execution_count": 28,
   "metadata": {},
   "outputs": [
    {
     "name": "stderr",
     "output_type": "stream",
     "text": [
      "\r",
      "  0%|                                                                                           | 0/81 [00:00<?, ?it/s]"
     ]
    },
    {
     "name": "stdout",
     "output_type": "stream",
     "text": [
      "(0.0, 0.0, 0.0, 0.0)\n",
      "[[0 0 0 0 0]\n",
      " [0 0 0 0 0]\n",
      " [0 0 0 0 0]\n",
      " [0 0 0 0 0]\n",
      " [0 0 0 0 0]\n",
      " [0 0 0 0 0]\n",
      " [0 0 0 0 0]\n",
      " [0 0 0 0 0]\n",
      " [0 0 0 0 0]\n",
      " [0 0 0 0 0]]\n"
     ]
    },
    {
     "name": "stderr",
     "output_type": "stream",
     "text": [
      "\r",
      "  1%|█                                                                                  | 1/81 [00:00<00:24,  3.29it/s]"
     ]
    },
    {
     "name": "stdout",
     "output_type": "stream",
     "text": [
      "(0.0, 0.0, 0.0, 1.5707963267948966)\n",
      "[[0 0 0 0 0]\n",
      " [0 0 0 0 0]\n",
      " [0 0 0 0 0]\n",
      " [0 0 0 0 0]\n",
      " [0 0 0 0 0]\n",
      " [0 0 0 0 0]\n",
      " [0 0 0 0 0]\n",
      " [0 0 0 0 0]\n",
      " [0 0 0 0 0]\n",
      " [0 0 0 0 0]]\n"
     ]
    },
    {
     "name": "stderr",
     "output_type": "stream",
     "text": [
      "\r",
      "  2%|██                                                                                 | 2/81 [00:00<00:22,  3.45it/s]"
     ]
    },
    {
     "name": "stdout",
     "output_type": "stream",
     "text": [
      "(0.0, 0.0, 0.0, 3.141592653589793)\n",
      "[[0 0 0 0 0]\n",
      " [0 0 0 0 0]\n",
      " [0 0 0 0 0]\n",
      " [0 0 0 0 0]\n",
      " [0 0 0 0 0]\n",
      " [0 0 0 0 0]\n",
      " [0 0 0 0 0]\n",
      " [0 0 0 0 0]\n",
      " [0 0 0 0 0]\n",
      " [0 0 0 0 0]]\n"
     ]
    },
    {
     "name": "stderr",
     "output_type": "stream",
     "text": [
      "\r",
      "  4%|███                                                                                | 3/81 [00:00<00:21,  3.63it/s]"
     ]
    },
    {
     "name": "stdout",
     "output_type": "stream",
     "text": [
      "(0.0, 0.0, 1.5707963267948966, 0.0)\n",
      "[[0 0 0 0 0]\n",
      " [0 0 0 0 0]\n",
      " [0 0 0 0 0]\n",
      " [0 0 0 0 0]\n",
      " [0 0 0 0 0]\n",
      " [0 0 0 0 0]\n",
      " [0 0 0 0 0]\n",
      " [0 0 0 0 0]\n",
      " [0 0 0 0 0]\n",
      " [0 0 0 0 0]]\n"
     ]
    },
    {
     "name": "stderr",
     "output_type": "stream",
     "text": [
      "\r",
      "  5%|████                                                                               | 4/81 [00:01<00:20,  3.69it/s]"
     ]
    },
    {
     "name": "stdout",
     "output_type": "stream",
     "text": [
      "(0.0, 0.0, 1.5707963267948966, 1.5707963267948966)\n",
      "[[0 0 0 0 0]\n",
      " [0 0 0 0 0]\n",
      " [0 0 0 0 0]\n",
      " [0 0 0 0 0]\n",
      " [0 0 0 0 0]\n",
      " [0 0 0 0 0]\n",
      " [0 0 0 0 0]\n",
      " [0 0 0 0 0]\n",
      " [0 0 0 0 0]\n",
      " [0 0 0 0 0]]\n"
     ]
    },
    {
     "name": "stderr",
     "output_type": "stream",
     "text": [
      "\r",
      "  6%|█████                                                                              | 5/81 [00:01<00:19,  3.82it/s]"
     ]
    },
    {
     "name": "stdout",
     "output_type": "stream",
     "text": [
      "(0.0, 0.0, 1.5707963267948966, 3.141592653589793)\n",
      "[[0 0 0 0 0]\n",
      " [0 0 0 0 0]\n",
      " [0 0 0 0 0]\n",
      " [0 0 0 0 0]\n",
      " [0 0 0 0 0]\n",
      " [0 0 0 0 0]\n",
      " [0 0 0 0 0]\n",
      " [0 0 0 0 0]\n",
      " [0 0 0 0 0]\n",
      " [0 0 0 0 0]]\n"
     ]
    },
    {
     "name": "stderr",
     "output_type": "stream",
     "text": [
      "\r",
      "  7%|██████▏                                                                            | 6/81 [00:01<00:19,  3.78it/s]"
     ]
    },
    {
     "name": "stdout",
     "output_type": "stream",
     "text": [
      "(0.0, 0.0, 3.141592653589793, 0.0)\n",
      "[[0 0 0 0 0]\n",
      " [0 0 0 0 0]\n",
      " [0 0 0 0 0]\n",
      " [0 0 0 0 0]\n",
      " [0 0 0 0 0]\n",
      " [0 0 0 0 0]\n",
      " [0 0 0 0 0]\n",
      " [0 0 0 0 0]\n",
      " [0 0 0 0 0]\n",
      " [0 0 0 0 0]]\n"
     ]
    },
    {
     "name": "stderr",
     "output_type": "stream",
     "text": [
      "\r",
      "  9%|███████▏                                                                           | 7/81 [00:01<00:19,  3.85it/s]"
     ]
    },
    {
     "name": "stdout",
     "output_type": "stream",
     "text": [
      "(0.0, 0.0, 3.141592653589793, 1.5707963267948966)\n",
      "[[0 0 0 0 0]\n",
      " [0 0 0 0 0]\n",
      " [0 0 0 0 0]\n",
      " [0 0 0 0 0]\n",
      " [0 0 0 0 0]\n",
      " [0 0 0 0 0]\n",
      " [0 0 0 0 0]\n",
      " [0 0 0 0 0]\n",
      " [0 0 0 0 0]\n",
      " [0 0 0 0 0]]\n"
     ]
    },
    {
     "name": "stderr",
     "output_type": "stream",
     "text": [
      "\r",
      " 10%|████████▏                                                                          | 8/81 [00:02<00:18,  3.94it/s]"
     ]
    },
    {
     "name": "stdout",
     "output_type": "stream",
     "text": [
      "(0.0, 0.0, 3.141592653589793, 3.141592653589793)\n",
      "[[0 0 0 0 0]\n",
      " [0 0 0 0 0]\n",
      " [0 0 0 0 0]\n",
      " [0 0 0 0 0]\n",
      " [0 0 0 0 0]\n",
      " [0 0 0 0 0]\n",
      " [0 0 0 0 0]\n",
      " [0 0 0 0 0]\n",
      " [0 0 0 0 0]\n",
      " [0 0 0 0 0]]\n"
     ]
    },
    {
     "name": "stderr",
     "output_type": "stream",
     "text": [
      "\r",
      " 11%|█████████▏                                                                         | 9/81 [00:02<00:18,  3.99it/s]"
     ]
    },
    {
     "name": "stdout",
     "output_type": "stream",
     "text": [
      "(0.0, 1.5707963267948966, 0.0, 0.0)\n",
      "[[1 1 1 1 0]\n",
      " [0 1 1 1 0]\n",
      " [0 0 1 0 0]\n",
      " [0 0 1 1 0]\n",
      " [1 1 0 1 1]\n",
      " [0 1 1 1 1]\n",
      " [1 0 1 1 1]\n",
      " [0 0 1 1 0]\n",
      " [0 0 1 0 0]\n",
      " [1 1 1 1 1]]\n"
     ]
    },
    {
     "name": "stderr",
     "output_type": "stream",
     "text": [
      "\r",
      " 12%|██████████                                                                        | 10/81 [00:02<00:17,  4.04it/s]"
     ]
    },
    {
     "name": "stdout",
     "output_type": "stream",
     "text": [
      "(0.0, 1.5707963267948966, 0.0, 1.5707963267948966)\n",
      "[[1 0 1 1 0]\n",
      " [0 0 1 0 1]\n",
      " [1 1 1 0 1]\n",
      " [1 0 1 0 1]\n",
      " [1 1 0 0 0]\n",
      " [0 0 1 1 0]\n",
      " [1 1 1 1 0]\n",
      " [0 1 1 1 1]\n",
      " [0 1 1 0 1]\n",
      " [0 0 0 1 0]]\n"
     ]
    },
    {
     "name": "stderr",
     "output_type": "stream",
     "text": [
      "\r",
      " 14%|███████████▏                                                                      | 11/81 [00:02<00:17,  3.92it/s]"
     ]
    },
    {
     "name": "stdout",
     "output_type": "stream",
     "text": [
      "(0.0, 1.5707963267948966, 0.0, 3.141592653589793)\n",
      "[[0 1 0 1 1]\n",
      " [0 0 0 0 0]\n",
      " [1 0 0 0 0]\n",
      " [1 0 0 0 0]\n",
      " [1 1 1 0 0]\n",
      " [0 0 1 0 0]\n",
      " [0 0 0 0 1]\n",
      " [1 1 0 0 1]\n",
      " [1 0 1 0 1]\n",
      " [1 0 0 1 1]]\n"
     ]
    },
    {
     "name": "stderr",
     "output_type": "stream",
     "text": [
      "\r",
      " 15%|████████████▏                                                                     | 12/81 [00:03<00:17,  4.01it/s]"
     ]
    },
    {
     "name": "stdout",
     "output_type": "stream",
     "text": [
      "(0.0, 1.5707963267948966, 1.5707963267948966, 0.0)\n",
      "[[1 1 1 0 1]\n",
      " [1 1 1 1 1]\n",
      " [1 0 0 0 0]\n",
      " [0 1 1 1 1]\n",
      " [1 0 0 1 0]\n",
      " [1 1 0 0 1]\n",
      " [0 0 1 1 0]\n",
      " [1 0 1 0 1]\n",
      " [1 1 1 1 0]\n",
      " [0 1 0 0 0]]\n"
     ]
    },
    {
     "name": "stderr",
     "output_type": "stream",
     "text": [
      "\r",
      " 16%|█████████████▏                                                                    | 13/81 [00:03<00:18,  3.73it/s]"
     ]
    },
    {
     "name": "stdout",
     "output_type": "stream",
     "text": [
      "(0.0, 1.5707963267948966, 1.5707963267948966, 1.5707963267948966)\n",
      "[[1 1 0 1 1]\n",
      " [0 0 1 0 1]\n",
      " [0 0 0 0 1]\n",
      " [0 0 0 1 0]\n",
      " [1 0 0 1 1]\n",
      " [0 0 1 0 0]\n",
      " [1 0 0 0 0]\n",
      " [1 0 1 0 0]\n",
      " [0 0 0 0 1]\n",
      " [0 0 1 0 1]]\n"
     ]
    },
    {
     "name": "stderr",
     "output_type": "stream",
     "text": [
      "\r",
      " 17%|██████████████▏                                                                   | 14/81 [00:03<00:20,  3.32it/s]"
     ]
    },
    {
     "name": "stdout",
     "output_type": "stream",
     "text": [
      "(0.0, 1.5707963267948966, 1.5707963267948966, 3.141592653589793)\n",
      "[[0 1 1 0 0]\n",
      " [1 1 0 1 0]\n",
      " [1 0 1 0 1]\n",
      " [1 0 1 1 0]\n",
      " [0 1 1 1 1]\n",
      " [0 1 1 1 1]\n",
      " [0 1 1 0 0]\n",
      " [1 0 1 0 0]\n",
      " [1 1 0 0 1]\n",
      " [0 1 1 0 0]]\n"
     ]
    },
    {
     "name": "stderr",
     "output_type": "stream",
     "text": [
      "\r",
      " 19%|███████████████▏                                                                  | 15/81 [00:04<00:22,  2.98it/s]"
     ]
    },
    {
     "name": "stdout",
     "output_type": "stream",
     "text": [
      "(0.0, 1.5707963267948966, 3.141592653589793, 0.0)\n",
      "[[1 0 0 0 1]\n",
      " [0 0 1 0 1]\n",
      " [0 0 1 0 0]\n",
      " [1 0 1 1 0]\n",
      " [0 0 0 1 1]\n",
      " [0 1 0 0 0]\n",
      " [1 1 1 1 1]\n",
      " [1 0 1 1 0]\n",
      " [1 1 1 0 0]\n",
      " [0 1 0 1 0]]\n"
     ]
    },
    {
     "name": "stderr",
     "output_type": "stream",
     "text": [
      "\r",
      " 20%|████████████████▏                                                                 | 16/81 [00:04<00:22,  2.85it/s]"
     ]
    },
    {
     "name": "stdout",
     "output_type": "stream",
     "text": [
      "(0.0, 1.5707963267948966, 3.141592653589793, 1.5707963267948966)\n",
      "[[1 0 1 0 1]\n",
      " [1 1 1 1 1]\n",
      " [0 1 0 0 0]\n",
      " [0 0 1 0 0]\n",
      " [0 0 0 0 1]\n",
      " [0 1 1 0 0]\n",
      " [1 1 0 1 0]\n",
      " [0 0 1 0 0]\n",
      " [1 1 1 1 1]\n",
      " [1 0 0 1 0]]\n"
     ]
    },
    {
     "name": "stderr",
     "output_type": "stream",
     "text": [
      "\r",
      " 21%|█████████████████▏                                                                | 17/81 [00:04<00:21,  2.98it/s]"
     ]
    },
    {
     "name": "stdout",
     "output_type": "stream",
     "text": [
      "(0.0, 1.5707963267948966, 3.141592653589793, 3.141592653589793)\n",
      "[[0 0 0 0 0]\n",
      " [0 1 0 0 1]\n",
      " [1 0 0 0 1]\n",
      " [0 1 1 1 1]\n",
      " [1 1 0 1 1]\n",
      " [1 1 1 1 1]\n",
      " [0 0 1 0 0]\n",
      " [1 0 1 1 1]\n",
      " [0 0 0 0 1]\n",
      " [0 0 1 1 0]]\n"
     ]
    },
    {
     "name": "stderr",
     "output_type": "stream",
     "text": [
      "\r",
      " 22%|██████████████████▏                                                               | 18/81 [00:05<00:20,  3.05it/s]"
     ]
    },
    {
     "name": "stdout",
     "output_type": "stream",
     "text": [
      "(0.0, 3.141592653589793, 0.0, 0.0)\n",
      "[[1 1 1 1 1]\n",
      " [1 1 1 1 1]\n",
      " [1 1 1 1 1]\n",
      " [1 1 1 1 1]\n",
      " [1 1 1 1 1]\n",
      " [1 1 1 1 1]\n",
      " [1 1 1 1 1]\n",
      " [1 1 1 1 1]\n",
      " [1 1 1 1 1]\n",
      " [1 1 1 1 1]]\n"
     ]
    },
    {
     "name": "stderr",
     "output_type": "stream",
     "text": [
      "\r",
      " 23%|███████████████████▏                                                              | 19/81 [00:05<00:19,  3.19it/s]"
     ]
    },
    {
     "name": "stdout",
     "output_type": "stream",
     "text": [
      "(0.0, 3.141592653589793, 0.0, 1.5707963267948966)\n",
      "[[1 1 1 1 1]\n",
      " [1 1 1 1 1]\n",
      " [1 1 1 1 1]\n",
      " [1 1 1 1 1]\n",
      " [1 1 1 1 1]\n",
      " [1 1 1 1 1]\n",
      " [1 1 1 1 1]\n",
      " [1 1 1 1 1]\n",
      " [1 1 1 1 1]\n",
      " [1 1 1 1 1]]\n"
     ]
    },
    {
     "name": "stderr",
     "output_type": "stream",
     "text": [
      "\r",
      " 25%|████████████████████▏                                                             | 20/81 [00:05<00:17,  3.43it/s]"
     ]
    },
    {
     "name": "stdout",
     "output_type": "stream",
     "text": [
      "(0.0, 3.141592653589793, 0.0, 3.141592653589793)\n",
      "[[1 1 1 1 1]\n",
      " [1 1 1 1 1]\n",
      " [1 1 1 1 1]\n",
      " [1 1 1 1 1]\n",
      " [1 1 1 1 1]\n",
      " [1 1 1 1 1]\n",
      " [1 1 1 1 1]\n",
      " [1 1 1 1 1]\n",
      " [1 1 1 1 1]\n",
      " [1 1 1 1 1]]\n"
     ]
    },
    {
     "name": "stderr",
     "output_type": "stream",
     "text": [
      "\r",
      " 26%|█████████████████████▎                                                            | 21/81 [00:05<00:16,  3.62it/s]"
     ]
    },
    {
     "name": "stdout",
     "output_type": "stream",
     "text": [
      "(0.0, 3.141592653589793, 1.5707963267948966, 0.0)\n",
      "[[1 1 1 1 1]\n",
      " [1 1 1 1 1]\n",
      " [1 1 1 1 1]\n",
      " [1 1 1 1 1]\n",
      " [1 1 1 1 1]\n",
      " [1 1 1 1 1]\n",
      " [1 1 1 1 1]\n",
      " [1 1 1 1 1]\n",
      " [1 1 1 1 1]\n",
      " [1 1 1 1 1]]\n"
     ]
    },
    {
     "name": "stderr",
     "output_type": "stream",
     "text": [
      "\r",
      " 27%|██████████████████████▎                                                           | 22/81 [00:06<00:15,  3.80it/s]"
     ]
    },
    {
     "name": "stdout",
     "output_type": "stream",
     "text": [
      "(0.0, 3.141592653589793, 1.5707963267948966, 1.5707963267948966)\n",
      "[[1 1 1 1 1]\n",
      " [1 1 1 1 1]\n",
      " [1 1 1 1 1]\n",
      " [1 1 1 1 1]\n",
      " [1 1 1 1 1]\n",
      " [1 1 1 1 1]\n",
      " [1 1 1 1 1]\n",
      " [1 1 1 1 1]\n",
      " [1 1 1 1 1]\n",
      " [1 1 1 1 1]]\n"
     ]
    },
    {
     "name": "stderr",
     "output_type": "stream",
     "text": [
      "\r",
      " 28%|███████████████████████▎                                                          | 23/81 [00:06<00:14,  3.91it/s]"
     ]
    },
    {
     "name": "stdout",
     "output_type": "stream",
     "text": [
      "(0.0, 3.141592653589793, 1.5707963267948966, 3.141592653589793)\n",
      "[[1 1 1 1 1]\n",
      " [1 1 1 1 1]\n",
      " [1 1 1 1 1]\n",
      " [1 1 1 1 1]\n",
      " [1 1 1 1 1]\n",
      " [1 1 1 1 1]\n",
      " [1 1 1 1 1]\n",
      " [1 1 1 1 1]\n",
      " [1 1 1 1 1]\n",
      " [1 1 1 1 1]]\n"
     ]
    },
    {
     "name": "stderr",
     "output_type": "stream",
     "text": [
      "\r",
      " 30%|████████████████████████▎                                                         | 24/81 [00:06<00:14,  4.06it/s]"
     ]
    },
    {
     "name": "stdout",
     "output_type": "stream",
     "text": [
      "(0.0, 3.141592653589793, 3.141592653589793, 0.0)\n",
      "[[1 1 1 1 1]\n",
      " [1 1 1 1 1]\n",
      " [1 1 1 1 1]\n",
      " [1 1 1 1 1]\n",
      " [1 1 1 1 1]\n",
      " [1 1 1 1 1]\n",
      " [1 1 1 1 1]\n",
      " [1 1 1 1 1]\n",
      " [1 1 1 1 1]\n",
      " [1 1 1 1 1]]\n"
     ]
    },
    {
     "name": "stderr",
     "output_type": "stream",
     "text": [
      "\r",
      " 31%|█████████████████████████▎                                                        | 25/81 [00:06<00:13,  4.03it/s]"
     ]
    },
    {
     "name": "stdout",
     "output_type": "stream",
     "text": [
      "(0.0, 3.141592653589793, 3.141592653589793, 1.5707963267948966)\n",
      "[[1 1 1 1 1]\n",
      " [1 1 1 1 1]\n",
      " [1 1 1 1 1]\n",
      " [1 1 1 1 1]\n",
      " [1 1 1 1 1]\n",
      " [1 1 1 1 1]\n",
      " [1 1 1 1 1]\n",
      " [1 1 1 1 1]\n",
      " [1 1 1 1 1]\n",
      " [1 1 1 1 1]]\n"
     ]
    },
    {
     "name": "stderr",
     "output_type": "stream",
     "text": [
      "\r",
      " 32%|██████████████████████████▎                                                       | 26/81 [00:07<00:13,  4.01it/s]"
     ]
    },
    {
     "name": "stdout",
     "output_type": "stream",
     "text": [
      "(0.0, 3.141592653589793, 3.141592653589793, 3.141592653589793)\n",
      "[[1 1 1 1 1]\n",
      " [1 1 1 1 1]\n",
      " [1 1 1 1 1]\n",
      " [1 1 1 1 1]\n",
      " [1 1 1 1 1]\n",
      " [1 1 1 1 1]\n",
      " [1 1 1 1 1]\n",
      " [1 1 1 1 1]\n",
      " [1 1 1 1 1]\n",
      " [1 1 1 1 1]]\n"
     ]
    },
    {
     "name": "stderr",
     "output_type": "stream",
     "text": [
      "\r",
      " 33%|███████████████████████████▎                                                      | 27/81 [00:07<00:13,  4.00it/s]"
     ]
    },
    {
     "name": "stdout",
     "output_type": "stream",
     "text": [
      "(1.5707963267948966, 0.0, 0.0, 0.0)\n",
      "[[0 0 1 0 1]\n",
      " [1 0 0 1 0]\n",
      " [1 1 0 0 0]\n",
      " [0 1 1 0 0]\n",
      " [1 0 0 1 1]\n",
      " [0 1 0 0 0]\n",
      " [1 0 0 0 0]\n",
      " [1 0 0 1 1]\n",
      " [1 1 0 0 0]\n",
      " [0 0 1 1 1]]\n"
     ]
    },
    {
     "name": "stderr",
     "output_type": "stream",
     "text": [
      "\r",
      " 35%|████████████████████████████▎                                                     | 28/81 [00:07<00:14,  3.59it/s]"
     ]
    },
    {
     "name": "stdout",
     "output_type": "stream",
     "text": [
      "(1.5707963267948966, 0.0, 0.0, 1.5707963267948966)\n",
      "[[0 1 1 1 1]\n",
      " [1 0 0 0 1]\n",
      " [1 0 1 1 0]\n",
      " [0 0 0 0 1]\n",
      " [1 0 0 1 0]\n",
      " [1 0 0 1 1]\n",
      " [1 1 0 1 1]\n",
      " [0 1 0 0 1]\n",
      " [0 0 0 0 1]\n",
      " [1 1 1 1 1]]\n"
     ]
    },
    {
     "name": "stderr",
     "output_type": "stream",
     "text": [
      "\r",
      " 36%|█████████████████████████████▎                                                    | 29/81 [00:08<00:15,  3.25it/s]"
     ]
    },
    {
     "name": "stdout",
     "output_type": "stream",
     "text": [
      "(1.5707963267948966, 0.0, 0.0, 3.141592653589793)\n",
      "[[1 0 0 0 0]\n",
      " [1 1 0 1 1]\n",
      " [1 0 0 0 0]\n",
      " [0 1 1 1 0]\n",
      " [0 0 1 0 0]\n",
      " [0 1 1 0 0]\n",
      " [0 1 0 0 1]\n",
      " [1 0 1 1 0]\n",
      " [0 0 0 1 1]\n",
      " [0 1 0 0 0]]\n"
     ]
    },
    {
     "name": "stderr",
     "output_type": "stream",
     "text": [
      "\r",
      " 37%|██████████████████████████████▎                                                   | 30/81 [00:08<00:15,  3.25it/s]"
     ]
    },
    {
     "name": "stdout",
     "output_type": "stream",
     "text": [
      "(1.5707963267948966, 0.0, 1.5707963267948966, 0.0)\n",
      "[[0 1 1 1 1]\n",
      " [1 1 0 1 1]\n",
      " [0 0 0 1 1]\n",
      " [1 0 0 1 1]\n",
      " [0 1 0 1 0]\n",
      " [0 0 0 1 0]\n",
      " [1 0 0 0 1]\n",
      " [0 1 0 0 1]\n",
      " [0 1 1 0 0]\n",
      " [1 1 1 0 1]]\n"
     ]
    },
    {
     "name": "stderr",
     "output_type": "stream",
     "text": [
      "\r",
      " 38%|███████████████████████████████▍                                                  | 31/81 [00:08<00:15,  3.20it/s]"
     ]
    },
    {
     "name": "stdout",
     "output_type": "stream",
     "text": [
      "(1.5707963267948966, 0.0, 1.5707963267948966, 1.5707963267948966)\n",
      "[[1 0 0 0 1]\n",
      " [0 0 1 0 0]\n",
      " [1 1 0 0 1]\n",
      " [1 0 0 0 0]\n",
      " [0 0 1 0 1]\n",
      " [0 1 1 1 1]\n",
      " [1 0 0 1 0]\n",
      " [1 1 0 0 1]\n",
      " [0 0 0 0 1]\n",
      " [0 0 1 0 1]]\n"
     ]
    },
    {
     "name": "stderr",
     "output_type": "stream",
     "text": [
      "\r",
      " 40%|████████████████████████████████▍                                                 | 32/81 [00:09<00:15,  3.25it/s]"
     ]
    },
    {
     "name": "stdout",
     "output_type": "stream",
     "text": [
      "(1.5707963267948966, 0.0, 1.5707963267948966, 3.141592653589793)\n",
      "[[0 1 1 1 1]\n",
      " [0 0 1 0 1]\n",
      " [0 1 0 0 0]\n",
      " [0 1 0 1 0]\n",
      " [1 1 0 0 1]\n",
      " [0 1 1 1 0]\n",
      " [1 0 0 1 1]\n",
      " [1 0 1 0 0]\n",
      " [1 0 1 0 1]\n",
      " [0 0 0 1 1]]\n"
     ]
    },
    {
     "name": "stderr",
     "output_type": "stream",
     "text": [
      "\r",
      " 41%|█████████████████████████████████▍                                                | 33/81 [00:09<00:14,  3.32it/s]"
     ]
    },
    {
     "name": "stdout",
     "output_type": "stream",
     "text": [
      "(1.5707963267948966, 0.0, 3.141592653589793, 0.0)\n",
      "[[1 0 1 0 1]\n",
      " [0 1 1 0 1]\n",
      " [0 1 1 1 0]\n",
      " [0 1 1 1 0]\n",
      " [0 1 1 0 0]\n",
      " [0 0 0 0 0]\n",
      " [0 1 1 0 1]\n",
      " [0 0 0 0 1]\n",
      " [0 1 0 1 0]\n",
      " [0 1 0 1 0]]\n"
     ]
    },
    {
     "name": "stderr",
     "output_type": "stream",
     "text": [
      "\r",
      " 42%|██████████████████████████████████▍                                               | 34/81 [00:09<00:13,  3.44it/s]"
     ]
    },
    {
     "name": "stdout",
     "output_type": "stream",
     "text": [
      "(1.5707963267948966, 0.0, 3.141592653589793, 1.5707963267948966)\n",
      "[[1 0 1 0 1]\n",
      " [0 1 1 0 1]\n",
      " [1 0 0 1 1]\n",
      " [0 0 1 1 1]\n",
      " [1 0 0 1 0]\n",
      " [1 1 0 0 0]\n",
      " [1 1 0 0 0]\n",
      " [1 1 1 0 1]\n",
      " [0 1 0 1 0]\n",
      " [0 1 1 0 1]]\n"
     ]
    },
    {
     "name": "stderr",
     "output_type": "stream",
     "text": [
      "\r",
      " 43%|███████████████████████████████████▍                                              | 35/81 [00:09<00:12,  3.62it/s]"
     ]
    },
    {
     "name": "stdout",
     "output_type": "stream",
     "text": [
      "(1.5707963267948966, 0.0, 3.141592653589793, 3.141592653589793)\n",
      "[[0 1 1 1 1]\n",
      " [0 1 1 1 0]\n",
      " [1 0 0 0 1]\n",
      " [1 1 0 0 0]\n",
      " [1 0 1 0 1]\n",
      " [0 1 0 0 1]\n",
      " [0 1 1 0 0]\n",
      " [0 0 1 0 0]\n",
      " [0 0 1 0 1]\n",
      " [1 1 1 1 1]]\n"
     ]
    },
    {
     "name": "stderr",
     "output_type": "stream",
     "text": [
      "\r",
      " 44%|████████████████████████████████████▍                                             | 36/81 [00:10<00:11,  3.77it/s]"
     ]
    },
    {
     "name": "stdout",
     "output_type": "stream",
     "text": [
      "(1.5707963267948966, 1.5707963267948966, 0.0, 0.0)\n",
      "[[0 0 0 0 0]\n",
      " [1 1 1 1 1]\n",
      " [0 0 0 0 0]\n",
      " [1 1 0 1 0]\n",
      " [0 0 0 0 1]\n",
      " [1 1 1 0 1]\n",
      " [1 1 0 1 0]\n",
      " [0 0 0 0 0]\n",
      " [0 0 1 0 1]\n",
      " [0 1 0 1 1]]\n"
     ]
    },
    {
     "name": "stderr",
     "output_type": "stream",
     "text": [
      "\r",
      " 46%|█████████████████████████████████████▍                                            | 37/81 [00:10<00:11,  3.81it/s]"
     ]
    },
    {
     "name": "stdout",
     "output_type": "stream",
     "text": [
      "(1.5707963267948966, 1.5707963267948966, 0.0, 1.5707963267948966)\n",
      "[[1 1 0 1 0]\n",
      " [1 1 0 1 0]\n",
      " [0 1 1 1 0]\n",
      " [0 0 0 0 0]\n",
      " [1 1 0 1 0]\n",
      " [0 0 0 0 0]\n",
      " [0 0 0 0 0]\n",
      " [0 1 0 0 0]\n",
      " [1 1 1 1 0]\n",
      " [1 1 0 1 0]]\n"
     ]
    },
    {
     "name": "stderr",
     "output_type": "stream",
     "text": [
      "\r",
      " 47%|██████████████████████████████████████▍                                           | 38/81 [00:10<00:11,  3.64it/s]"
     ]
    },
    {
     "name": "stdout",
     "output_type": "stream",
     "text": [
      "(1.5707963267948966, 1.5707963267948966, 0.0, 3.141592653589793)\n",
      "[[1 1 1 1 1]\n",
      " [0 0 0 0 0]\n",
      " [1 0 0 0 0]\n",
      " [0 0 0 0 0]\n",
      " [1 1 1 1 0]\n",
      " [1 0 0 0 0]\n",
      " [1 0 1 0 1]\n",
      " [1 1 0 0 0]\n",
      " [1 1 1 0 0]\n",
      " [0 0 0 0 0]]\n"
     ]
    },
    {
     "name": "stderr",
     "output_type": "stream",
     "text": [
      "\r",
      " 48%|███████████████████████████████████████▍                                          | 39/81 [00:10<00:11,  3.54it/s]"
     ]
    },
    {
     "name": "stdout",
     "output_type": "stream",
     "text": [
      "(1.5707963267948966, 1.5707963267948966, 1.5707963267948966, 0.0)\n",
      "[[1 1 0 1 0]\n",
      " [1 1 0 1 1]\n",
      " [1 1 0 1 0]\n",
      " [1 0 1 0 1]\n",
      " [1 1 1 1 1]\n",
      " [0 0 1 0 0]\n",
      " [0 0 0 0 0]\n",
      " [1 1 0 1 1]\n",
      " [0 0 1 0 1]\n",
      " [0 0 0 0 0]]\n"
     ]
    },
    {
     "name": "stderr",
     "output_type": "stream",
     "text": [
      "\r",
      " 49%|████████████████████████████████████████▍                                         | 40/81 [00:11<00:11,  3.45it/s]"
     ]
    },
    {
     "name": "stdout",
     "output_type": "stream",
     "text": [
      "(1.5707963267948966, 1.5707963267948966, 1.5707963267948966, 1.5707963267948966)\n",
      "[[1 1 1 1 1]\n",
      " [1 1 1 1 0]\n",
      " [0 0 0 0 0]\n",
      " [0 0 1 0 1]\n",
      " [0 1 0 0 0]\n",
      " [0 0 0 0 1]\n",
      " [1 1 1 1 1]\n",
      " [0 0 0 0 0]\n",
      " [0 0 0 0 0]\n",
      " [0 0 0 0 0]]\n"
     ]
    },
    {
     "name": "stderr",
     "output_type": "stream",
     "text": [
      "\r",
      " 51%|█████████████████████████████████████████▌                                        | 41/81 [00:11<00:11,  3.40it/s]"
     ]
    },
    {
     "name": "stdout",
     "output_type": "stream",
     "text": [
      "(1.5707963267948966, 1.5707963267948966, 1.5707963267948966, 3.141592653589793)\n",
      "[[1 1 0 1 1]\n",
      " [1 1 1 1 1]\n",
      " [1 1 0 1 1]\n",
      " [0 0 0 0 0]\n",
      " [1 0 1 1 1]\n",
      " [0 0 1 1 1]\n",
      " [0 1 1 1 1]\n",
      " [1 0 0 1 1]\n",
      " [0 0 0 1 0]\n",
      " [1 1 0 1 1]]\n"
     ]
    },
    {
     "name": "stderr",
     "output_type": "stream",
     "text": [
      "\r",
      " 52%|██████████████████████████████████████████▌                                       | 42/81 [00:11<00:11,  3.37it/s]"
     ]
    },
    {
     "name": "stdout",
     "output_type": "stream",
     "text": [
      "(1.5707963267948966, 1.5707963267948966, 3.141592653589793, 0.0)\n",
      "[[1 1 1 1 1]\n",
      " [0 0 0 0 0]\n",
      " [0 1 1 1 1]\n",
      " [0 1 0 1 0]\n",
      " [1 0 0 1 0]\n",
      " [0 1 1 0 1]\n",
      " [1 1 0 1 0]\n",
      " [0 0 0 0 0]\n",
      " [0 0 0 0 0]\n",
      " [0 0 0 0 0]]\n"
     ]
    },
    {
     "name": "stderr",
     "output_type": "stream",
     "text": [
      "\r",
      " 53%|███████████████████████████████████████████▌                                      | 43/81 [00:12<00:11,  3.34it/s]"
     ]
    },
    {
     "name": "stdout",
     "output_type": "stream",
     "text": [
      "(1.5707963267948966, 1.5707963267948966, 3.141592653589793, 1.5707963267948966)\n",
      "[[1 1 1 1 0]\n",
      " [0 1 0 0 0]\n",
      " [0 0 0 0 1]\n",
      " [1 1 1 1 1]\n",
      " [0 0 0 0 0]\n",
      " [1 0 1 1 1]\n",
      " [0 1 1 1 0]\n",
      " [1 0 0 0 0]\n",
      " [0 0 1 0 0]\n",
      " [1 1 1 0 1]]\n"
     ]
    },
    {
     "name": "stderr",
     "output_type": "stream",
     "text": [
      "\r",
      " 54%|████████████████████████████████████████████▌                                     | 44/81 [00:12<00:11,  3.34it/s]"
     ]
    },
    {
     "name": "stdout",
     "output_type": "stream",
     "text": [
      "(1.5707963267948966, 1.5707963267948966, 3.141592653589793, 3.141592653589793)\n",
      "[[0 1 0 1 0]\n",
      " [0 1 0 1 0]\n",
      " [1 0 0 1 0]\n",
      " [1 1 0 1 1]\n",
      " [1 0 1 1 0]\n",
      " [1 0 0 0 1]\n",
      " [0 0 0 0 0]\n",
      " [0 0 1 0 0]\n",
      " [0 1 1 1 1]\n",
      " [1 1 0 1 0]]\n"
     ]
    },
    {
     "name": "stderr",
     "output_type": "stream",
     "text": [
      "\r",
      " 56%|█████████████████████████████████████████████▌                                    | 45/81 [00:12<00:10,  3.43it/s]"
     ]
    },
    {
     "name": "stdout",
     "output_type": "stream",
     "text": [
      "(1.5707963267948966, 3.141592653589793, 0.0, 0.0)\n",
      "[[0 0 1 1 1]\n",
      " [1 1 0 0 1]\n",
      " [1 1 1 1 0]\n",
      " [1 0 1 0 1]\n",
      " [1 1 1 1 1]\n",
      " [0 0 1 1 1]\n",
      " [1 0 1 1 0]\n",
      " [1 0 0 1 1]\n",
      " [0 0 1 0 0]\n",
      " [0 0 0 0 0]]\n"
     ]
    },
    {
     "name": "stderr",
     "output_type": "stream",
     "text": [
      "\r",
      " 57%|██████████████████████████████████████████████▌                                   | 46/81 [00:12<00:09,  3.56it/s]"
     ]
    },
    {
     "name": "stdout",
     "output_type": "stream",
     "text": [
      "(1.5707963267948966, 3.141592653589793, 0.0, 1.5707963267948966)\n",
      "[[1 1 1 0 0]\n",
      " [0 0 0 0 0]\n",
      " [0 1 0 0 0]\n",
      " [1 0 1 0 0]\n",
      " [0 1 0 1 1]\n",
      " [0 0 0 1 1]\n",
      " [0 0 1 1 0]\n",
      " [0 0 0 0 0]\n",
      " [1 1 0 0 1]\n",
      " [0 0 1 1 0]]\n"
     ]
    },
    {
     "name": "stderr",
     "output_type": "stream",
     "text": [
      "\r",
      " 58%|███████████████████████████████████████████████▌                                  | 47/81 [00:13<00:09,  3.74it/s]"
     ]
    },
    {
     "name": "stdout",
     "output_type": "stream",
     "text": [
      "(1.5707963267948966, 3.141592653589793, 0.0, 3.141592653589793)\n",
      "[[1 0 1 1 1]\n",
      " [1 0 1 1 0]\n",
      " [1 0 0 0 1]\n",
      " [1 0 1 1 0]\n",
      " [0 1 1 0 0]\n",
      " [1 1 0 0 0]\n",
      " [1 0 1 1 0]\n",
      " [1 0 0 1 1]\n",
      " [0 1 0 1 0]\n",
      " [1 0 0 0 0]]\n"
     ]
    },
    {
     "name": "stderr",
     "output_type": "stream",
     "text": [
      "\r",
      " 59%|████████████████████████████████████████████████▌                                 | 48/81 [00:13<00:08,  3.97it/s]"
     ]
    },
    {
     "name": "stdout",
     "output_type": "stream",
     "text": [
      "(1.5707963267948966, 3.141592653589793, 1.5707963267948966, 0.0)\n",
      "[[1 1 0 1 0]\n",
      " [1 0 1 1 0]\n",
      " [1 0 1 1 0]\n",
      " [0 1 1 0 1]\n",
      " [0 0 1 0 0]\n",
      " [0 0 0 1 1]\n",
      " [1 0 0 1 1]\n",
      " [0 1 1 1 1]\n",
      " [1 0 1 0 0]\n",
      " [0 1 0 0 1]]\n"
     ]
    },
    {
     "name": "stderr",
     "output_type": "stream",
     "text": [
      "\r",
      " 60%|█████████████████████████████████████████████████▌                                | 49/81 [00:13<00:07,  4.01it/s]"
     ]
    },
    {
     "name": "stdout",
     "output_type": "stream",
     "text": [
      "(1.5707963267948966, 3.141592653589793, 1.5707963267948966, 1.5707963267948966)\n",
      "[[1 0 1 0 0]\n",
      " [0 0 0 1 1]\n",
      " [0 0 1 0 0]\n",
      " [0 0 1 1 0]\n",
      " [0 0 1 1 1]\n",
      " [1 1 1 0 0]\n",
      " [0 1 1 0 0]\n",
      " [1 1 0 1 1]\n",
      " [1 0 1 0 0]\n",
      " [1 0 1 1 0]]\n"
     ]
    },
    {
     "name": "stderr",
     "output_type": "stream",
     "text": [
      "\r",
      " 62%|██████████████████████████████████████████████████▌                               | 50/81 [00:13<00:07,  4.12it/s]"
     ]
    },
    {
     "name": "stdout",
     "output_type": "stream",
     "text": [
      "(1.5707963267948966, 3.141592653589793, 1.5707963267948966, 3.141592653589793)\n",
      "[[1 1 1 1 1]\n",
      " [1 1 0 1 0]\n",
      " [0 1 1 0 1]\n",
      " [0 0 1 1 0]\n",
      " [0 0 0 0 0]\n",
      " [1 1 0 1 1]\n",
      " [1 0 1 0 1]\n",
      " [1 1 1 1 1]\n",
      " [0 0 1 1 0]\n",
      " [1 1 0 1 1]]\n"
     ]
    },
    {
     "name": "stderr",
     "output_type": "stream",
     "text": [
      "\r",
      " 63%|███████████████████████████████████████████████████▋                              | 51/81 [00:14<00:08,  3.68it/s]"
     ]
    },
    {
     "name": "stdout",
     "output_type": "stream",
     "text": [
      "(1.5707963267948966, 3.141592653589793, 3.141592653589793, 0.0)\n",
      "[[0 1 0 1 1]\n",
      " [1 1 0 0 1]\n",
      " [1 0 0 1 1]\n",
      " [1 0 1 0 1]\n",
      " [1 1 0 0 0]\n",
      " [0 0 0 1 1]\n",
      " [0 1 1 1 1]\n",
      " [0 0 0 1 1]\n",
      " [0 1 0 1 1]\n",
      " [0 1 0 0 0]]\n"
     ]
    },
    {
     "name": "stderr",
     "output_type": "stream",
     "text": [
      "\r",
      " 64%|████████████████████████████████████████████████████▋                             | 52/81 [00:14<00:08,  3.57it/s]"
     ]
    },
    {
     "name": "stdout",
     "output_type": "stream",
     "text": [
      "(1.5707963267948966, 3.141592653589793, 3.141592653589793, 1.5707963267948966)\n",
      "[[0 1 1 1 1]\n",
      " [1 0 1 1 0]\n",
      " [1 0 0 0 1]\n",
      " [1 0 1 0 0]\n",
      " [0 1 0 1 0]\n",
      " [1 1 1 1 0]\n",
      " [1 1 1 0 0]\n",
      " [1 0 1 0 0]\n",
      " [1 0 1 1 1]\n",
      " [1 0 1 1 0]]\n"
     ]
    },
    {
     "name": "stderr",
     "output_type": "stream",
     "text": [
      "\r",
      " 65%|█████████████████████████████████████████████████████▋                            | 53/81 [00:14<00:08,  3.41it/s]"
     ]
    },
    {
     "name": "stdout",
     "output_type": "stream",
     "text": [
      "(1.5707963267948966, 3.141592653589793, 3.141592653589793, 3.141592653589793)\n",
      "[[1 0 0 1 0]\n",
      " [1 1 0 0 0]\n",
      " [1 0 0 1 0]\n",
      " [1 1 0 0 0]\n",
      " [1 0 0 0 0]\n",
      " [1 0 0 0 0]\n",
      " [1 0 0 1 0]\n",
      " [1 0 0 1 0]\n",
      " [1 1 1 1 0]\n",
      " [1 1 0 0 1]]\n"
     ]
    },
    {
     "name": "stderr",
     "output_type": "stream",
     "text": [
      "\r",
      " 67%|██████████████████████████████████████████████████████▋                           | 54/81 [00:15<00:08,  3.36it/s]"
     ]
    },
    {
     "name": "stdout",
     "output_type": "stream",
     "text": [
      "(3.141592653589793, 0.0, 0.0, 0.0)\n",
      "[[1 1 1 1 1]\n",
      " [1 1 1 1 1]\n",
      " [1 1 1 1 1]\n",
      " [1 1 1 1 1]\n",
      " [1 1 1 1 1]\n",
      " [1 1 1 1 1]\n",
      " [1 1 1 1 1]\n",
      " [1 1 1 1 1]\n",
      " [1 1 1 1 1]\n",
      " [1 1 1 1 1]]\n"
     ]
    },
    {
     "name": "stderr",
     "output_type": "stream",
     "text": [
      "\r",
      " 68%|███████████████████████████████████████████████████████▋                          | 55/81 [00:15<00:07,  3.38it/s]"
     ]
    },
    {
     "name": "stdout",
     "output_type": "stream",
     "text": [
      "(3.141592653589793, 0.0, 0.0, 1.5707963267948966)\n",
      "[[1 1 1 1 1]\n",
      " [1 1 1 1 1]\n",
      " [1 1 1 1 1]\n",
      " [1 1 1 1 1]\n",
      " [1 1 1 1 1]\n",
      " [1 1 1 1 1]\n",
      " [1 1 1 1 1]\n",
      " [1 1 1 1 1]\n",
      " [1 1 1 1 1]\n",
      " [1 1 1 1 1]]\n"
     ]
    },
    {
     "name": "stderr",
     "output_type": "stream",
     "text": [
      "\r",
      " 69%|████████████████████████████████████████████████████████▋                         | 56/81 [00:15<00:07,  3.35it/s]"
     ]
    },
    {
     "name": "stdout",
     "output_type": "stream",
     "text": [
      "(3.141592653589793, 0.0, 0.0, 3.141592653589793)\n",
      "[[1 1 1 1 1]\n",
      " [1 1 1 1 1]\n",
      " [1 1 1 1 1]\n",
      " [1 1 1 1 1]\n",
      " [1 1 1 1 1]\n",
      " [1 1 1 1 1]\n",
      " [1 1 1 1 1]\n",
      " [1 1 1 1 1]\n",
      " [1 1 1 1 1]\n",
      " [1 1 1 1 1]]\n"
     ]
    },
    {
     "name": "stderr",
     "output_type": "stream",
     "text": [
      "\r",
      " 70%|█████████████████████████████████████████████████████████▋                        | 57/81 [00:16<00:07,  3.41it/s]"
     ]
    },
    {
     "name": "stdout",
     "output_type": "stream",
     "text": [
      "(3.141592653589793, 0.0, 1.5707963267948966, 0.0)\n",
      "[[1 1 1 1 1]\n",
      " [1 1 1 1 1]\n",
      " [1 1 1 1 1]\n",
      " [1 1 1 1 1]\n",
      " [1 1 1 1 1]\n",
      " [1 1 1 1 1]\n",
      " [1 1 1 1 1]\n",
      " [1 1 1 1 1]\n",
      " [1 1 1 1 1]\n",
      " [1 1 1 1 1]]\n"
     ]
    },
    {
     "name": "stderr",
     "output_type": "stream",
     "text": [
      "\r",
      " 72%|██████████████████████████████████████████████████████████▋                       | 58/81 [00:16<00:06,  3.52it/s]"
     ]
    },
    {
     "name": "stdout",
     "output_type": "stream",
     "text": [
      "(3.141592653589793, 0.0, 1.5707963267948966, 1.5707963267948966)\n",
      "[[1 1 1 1 1]\n",
      " [1 1 1 1 1]\n",
      " [1 1 1 1 1]\n",
      " [1 1 1 1 1]\n",
      " [1 1 1 1 1]\n",
      " [1 1 1 1 1]\n",
      " [1 1 1 1 1]\n",
      " [1 1 1 1 1]\n",
      " [1 1 1 1 1]\n",
      " [1 1 1 1 1]]\n"
     ]
    },
    {
     "name": "stderr",
     "output_type": "stream",
     "text": [
      "\r",
      " 73%|███████████████████████████████████████████████████████████▋                      | 59/81 [00:16<00:06,  3.55it/s]"
     ]
    },
    {
     "name": "stdout",
     "output_type": "stream",
     "text": [
      "(3.141592653589793, 0.0, 1.5707963267948966, 3.141592653589793)\n",
      "[[1 1 1 1 1]\n",
      " [1 1 1 1 1]\n",
      " [1 1 1 1 1]\n",
      " [1 1 1 1 1]\n",
      " [1 1 1 1 1]\n",
      " [1 1 1 1 1]\n",
      " [1 1 1 1 1]\n",
      " [1 1 1 1 1]\n",
      " [1 1 1 1 1]\n",
      " [1 1 1 1 1]]\n"
     ]
    },
    {
     "name": "stderr",
     "output_type": "stream",
     "text": [
      "\r",
      " 74%|████████████████████████████████████████████████████████████▋                     | 60/81 [00:16<00:06,  3.38it/s]"
     ]
    },
    {
     "name": "stdout",
     "output_type": "stream",
     "text": [
      "(3.141592653589793, 0.0, 3.141592653589793, 0.0)\n",
      "[[1 1 1 1 1]\n",
      " [1 1 1 1 1]\n",
      " [1 1 1 1 1]\n",
      " [1 1 1 1 1]\n",
      " [1 1 1 1 1]\n",
      " [1 1 1 1 1]\n",
      " [1 1 1 1 1]\n",
      " [1 1 1 1 1]\n",
      " [1 1 1 1 1]\n",
      " [1 1 1 1 1]]\n"
     ]
    },
    {
     "name": "stderr",
     "output_type": "stream",
     "text": [
      "\r",
      " 75%|█████████████████████████████████████████████████████████████▊                    | 61/81 [00:17<00:06,  3.33it/s]"
     ]
    },
    {
     "name": "stdout",
     "output_type": "stream",
     "text": [
      "(3.141592653589793, 0.0, 3.141592653589793, 1.5707963267948966)\n",
      "[[1 1 1 1 1]\n",
      " [1 1 1 1 1]\n",
      " [1 1 1 1 1]\n",
      " [1 1 1 1 1]\n",
      " [1 1 1 1 1]\n",
      " [1 1 1 1 1]\n",
      " [1 1 1 1 1]\n",
      " [1 1 1 1 1]\n",
      " [1 1 1 1 1]\n",
      " [1 1 1 1 1]]\n"
     ]
    },
    {
     "name": "stderr",
     "output_type": "stream",
     "text": [
      "\r",
      " 77%|██████████████████████████████████████████████████████████████▊                   | 62/81 [00:17<00:05,  3.23it/s]"
     ]
    },
    {
     "name": "stdout",
     "output_type": "stream",
     "text": [
      "(3.141592653589793, 0.0, 3.141592653589793, 3.141592653589793)\n",
      "[[1 1 1 1 1]\n",
      " [1 1 1 1 1]\n",
      " [1 1 1 1 1]\n",
      " [1 1 1 1 1]\n",
      " [1 1 1 1 1]\n",
      " [1 1 1 1 1]\n",
      " [1 1 1 1 1]\n",
      " [1 1 1 1 1]\n",
      " [1 1 1 1 1]\n",
      " [1 1 1 1 1]]\n"
     ]
    },
    {
     "name": "stderr",
     "output_type": "stream",
     "text": [
      "\r",
      " 78%|███████████████████████████████████████████████████████████████▊                  | 63/81 [00:17<00:05,  3.21it/s]"
     ]
    },
    {
     "name": "stdout",
     "output_type": "stream",
     "text": [
      "(3.141592653589793, 1.5707963267948966, 0.0, 0.0)\n",
      "[[1 1 1 0 1]\n",
      " [1 1 0 0 0]\n",
      " [0 1 1 1 0]\n",
      " [0 1 0 1 0]\n",
      " [1 1 0 0 1]\n",
      " [1 0 0 0 0]\n",
      " [0 0 0 1 1]\n",
      " [0 0 1 0 0]\n",
      " [1 0 1 1 0]\n",
      " [0 0 1 0 0]]\n"
     ]
    },
    {
     "name": "stderr",
     "output_type": "stream",
     "text": [
      "\r",
      " 79%|████████████████████████████████████████████████████████████████▊                 | 64/81 [00:18<00:05,  3.24it/s]"
     ]
    },
    {
     "name": "stdout",
     "output_type": "stream",
     "text": [
      "(3.141592653589793, 1.5707963267948966, 0.0, 1.5707963267948966)\n",
      "[[0 1 1 1 0]\n",
      " [1 0 0 1 1]\n",
      " [1 1 1 1 1]\n",
      " [0 1 1 1 0]\n",
      " [1 0 1 1 0]\n",
      " [1 0 1 0 0]\n",
      " [0 1 0 1 0]\n",
      " [0 0 1 0 0]\n",
      " [0 1 1 1 0]\n",
      " [0 1 1 0 0]]\n"
     ]
    },
    {
     "name": "stderr",
     "output_type": "stream",
     "text": [
      "\r",
      " 80%|█████████████████████████████████████████████████████████████████▊                | 65/81 [00:18<00:04,  3.28it/s]"
     ]
    },
    {
     "name": "stdout",
     "output_type": "stream",
     "text": [
      "(3.141592653589793, 1.5707963267948966, 0.0, 3.141592653589793)\n",
      "[[1 0 0 0 1]\n",
      " [1 1 0 0 1]\n",
      " [1 0 1 1 0]\n",
      " [0 1 0 0 1]\n",
      " [1 0 1 1 1]\n",
      " [0 1 1 1 0]\n",
      " [1 0 1 1 0]\n",
      " [1 0 1 0 1]\n",
      " [1 1 0 0 1]\n",
      " [1 0 0 0 0]]\n"
     ]
    },
    {
     "name": "stderr",
     "output_type": "stream",
     "text": [
      "\r",
      " 81%|██████████████████████████████████████████████████████████████████▊               | 66/81 [00:18<00:04,  3.26it/s]"
     ]
    },
    {
     "name": "stdout",
     "output_type": "stream",
     "text": [
      "(3.141592653589793, 1.5707963267948966, 1.5707963267948966, 0.0)\n",
      "[[1 1 1 1 0]\n",
      " [1 0 1 0 1]\n",
      " [0 0 1 0 0]\n",
      " [1 0 1 1 1]\n",
      " [1 0 0 1 1]\n",
      " [1 1 0 0 1]\n",
      " [1 1 1 0 0]\n",
      " [0 1 1 0 1]\n",
      " [0 0 1 0 0]\n",
      " [1 0 1 0 0]]\n"
     ]
    },
    {
     "name": "stderr",
     "output_type": "stream",
     "text": [
      "\r",
      " 83%|███████████████████████████████████████████████████████████████████▊              | 67/81 [00:19<00:04,  3.39it/s]"
     ]
    },
    {
     "name": "stdout",
     "output_type": "stream",
     "text": [
      "(3.141592653589793, 1.5707963267948966, 1.5707963267948966, 1.5707963267948966)\n",
      "[[0 0 1 1 0]\n",
      " [0 1 0 1 0]\n",
      " [1 1 0 1 1]\n",
      " [0 0 0 0 1]\n",
      " [0 0 1 0 0]\n",
      " [1 0 1 1 1]\n",
      " [1 1 1 0 0]\n",
      " [1 1 1 0 1]\n",
      " [1 1 1 1 1]\n",
      " [1 0 0 0 0]]\n"
     ]
    },
    {
     "name": "stderr",
     "output_type": "stream",
     "text": [
      "\r",
      " 84%|████████████████████████████████████████████████████████████████████▊             | 68/81 [00:19<00:03,  3.54it/s]"
     ]
    },
    {
     "name": "stdout",
     "output_type": "stream",
     "text": [
      "(3.141592653589793, 1.5707963267948966, 1.5707963267948966, 3.141592653589793)\n",
      "[[0 1 0 1 0]\n",
      " [1 1 0 0 1]\n",
      " [1 0 1 1 1]\n",
      " [1 1 0 0 0]\n",
      " [0 0 0 1 0]\n",
      " [1 0 1 1 0]\n",
      " [0 1 0 1 1]\n",
      " [1 0 1 1 0]\n",
      " [0 1 1 0 0]\n",
      " [1 0 0 1 0]]\n"
     ]
    },
    {
     "name": "stderr",
     "output_type": "stream",
     "text": [
      "\r",
      " 85%|█████████████████████████████████████████████████████████████████████▊            | 69/81 [00:19<00:03,  3.78it/s]"
     ]
    },
    {
     "name": "stdout",
     "output_type": "stream",
     "text": [
      "(3.141592653589793, 1.5707963267948966, 3.141592653589793, 0.0)\n",
      "[[1 0 0 1 0]\n",
      " [0 1 0 0 0]\n",
      " [0 0 0 1 1]\n",
      " [1 1 0 0 0]\n",
      " [0 1 0 0 1]\n",
      " [1 1 1 1 0]\n",
      " [1 1 1 0 0]\n",
      " [1 1 0 0 0]\n",
      " [0 1 0 0 1]\n",
      " [1 0 1 1 0]]\n"
     ]
    },
    {
     "name": "stderr",
     "output_type": "stream",
     "text": [
      "\r",
      " 86%|██████████████████████████████████████████████████████████████████████▊           | 70/81 [00:19<00:03,  3.47it/s]"
     ]
    },
    {
     "name": "stdout",
     "output_type": "stream",
     "text": [
      "(3.141592653589793, 1.5707963267948966, 3.141592653589793, 1.5707963267948966)\n",
      "[[0 1 0 0 1]\n",
      " [1 0 1 1 1]\n",
      " [0 1 1 1 1]\n",
      " [1 1 0 0 0]\n",
      " [1 1 0 1 0]\n",
      " [0 1 0 1 1]\n",
      " [1 0 0 1 0]\n",
      " [1 1 0 0 1]\n",
      " [0 1 1 0 0]\n",
      " [0 1 1 1 1]]\n"
     ]
    },
    {
     "name": "stderr",
     "output_type": "stream",
     "text": [
      "\r",
      " 88%|███████████████████████████████████████████████████████████████████████▉          | 71/81 [00:20<00:03,  3.32it/s]"
     ]
    },
    {
     "name": "stdout",
     "output_type": "stream",
     "text": [
      "(3.141592653589793, 1.5707963267948966, 3.141592653589793, 3.141592653589793)\n",
      "[[1 0 1 1 1]\n",
      " [0 0 1 0 1]\n",
      " [1 1 0 0 1]\n",
      " [1 0 0 1 1]\n",
      " [0 0 1 1 0]\n",
      " [0 0 1 0 1]\n",
      " [0 1 0 0 1]\n",
      " [1 0 1 0 1]\n",
      " [0 0 1 0 0]\n",
      " [0 0 0 1 1]]\n"
     ]
    },
    {
     "name": "stderr",
     "output_type": "stream",
     "text": [
      "\r",
      " 89%|████████████████████████████████████████████████████████████████████████▉         | 72/81 [00:20<00:02,  3.30it/s]"
     ]
    },
    {
     "name": "stdout",
     "output_type": "stream",
     "text": [
      "(3.141592653589793, 3.141592653589793, 0.0, 0.0)\n",
      "[[0 0 0 0 0]\n",
      " [0 0 0 0 0]\n",
      " [0 0 0 0 0]\n",
      " [0 0 0 0 0]\n",
      " [0 0 0 0 0]\n",
      " [0 0 0 0 0]\n",
      " [0 0 0 0 0]\n",
      " [0 0 0 0 0]\n",
      " [0 0 0 0 0]\n",
      " [0 0 0 0 0]]\n"
     ]
    },
    {
     "name": "stderr",
     "output_type": "stream",
     "text": [
      "\r",
      " 90%|█████████████████████████████████████████████████████████████████████████▉        | 73/81 [00:20<00:02,  3.49it/s]"
     ]
    },
    {
     "name": "stdout",
     "output_type": "stream",
     "text": [
      "(3.141592653589793, 3.141592653589793, 0.0, 1.5707963267948966)\n",
      "[[0 0 0 0 0]\n",
      " [0 0 0 0 0]\n",
      " [0 0 0 0 0]\n",
      " [0 0 0 0 0]\n",
      " [0 0 0 0 0]\n",
      " [0 0 0 0 0]\n",
      " [0 0 0 0 0]\n",
      " [0 0 0 0 0]\n",
      " [0 0 0 0 0]\n",
      " [0 0 0 0 0]]\n"
     ]
    },
    {
     "name": "stderr",
     "output_type": "stream",
     "text": [
      "\r",
      " 91%|██████████████████████████████████████████████████████████████████████████▉       | 74/81 [00:20<00:01,  3.67it/s]"
     ]
    },
    {
     "name": "stdout",
     "output_type": "stream",
     "text": [
      "(3.141592653589793, 3.141592653589793, 0.0, 3.141592653589793)\n",
      "[[0 0 0 0 0]\n",
      " [0 0 0 0 0]\n",
      " [0 0 0 0 0]\n",
      " [0 0 0 0 0]\n",
      " [0 0 0 0 0]\n",
      " [0 0 0 0 0]\n",
      " [0 0 0 0 0]\n",
      " [0 0 0 0 0]\n",
      " [0 0 0 0 0]\n",
      " [0 0 0 0 0]]\n"
     ]
    },
    {
     "name": "stderr",
     "output_type": "stream",
     "text": [
      "\r",
      " 93%|███████████████████████████████████████████████████████████████████████████▉      | 75/81 [00:21<00:01,  3.47it/s]"
     ]
    },
    {
     "name": "stdout",
     "output_type": "stream",
     "text": [
      "(3.141592653589793, 3.141592653589793, 1.5707963267948966, 0.0)\n",
      "[[0 0 0 0 0]\n",
      " [0 0 0 0 0]\n",
      " [0 0 0 0 0]\n",
      " [0 0 0 0 0]\n",
      " [0 0 0 0 0]\n",
      " [0 0 0 0 0]\n",
      " [0 0 0 0 0]\n",
      " [0 0 0 0 0]\n",
      " [0 0 0 0 0]\n",
      " [0 0 0 0 0]]\n"
     ]
    },
    {
     "name": "stderr",
     "output_type": "stream",
     "text": [
      "\r",
      " 94%|████████████████████████████████████████████████████████████████████████████▉     | 76/81 [00:21<00:01,  3.41it/s]"
     ]
    },
    {
     "name": "stdout",
     "output_type": "stream",
     "text": [
      "(3.141592653589793, 3.141592653589793, 1.5707963267948966, 1.5707963267948966)\n",
      "[[0 0 0 0 0]\n",
      " [0 0 0 0 0]\n",
      " [0 0 0 0 0]\n",
      " [0 0 0 0 0]\n",
      " [0 0 0 0 0]\n",
      " [0 0 0 0 0]\n",
      " [0 0 0 0 0]\n",
      " [0 0 0 0 0]\n",
      " [0 0 0 0 0]\n",
      " [0 0 0 0 0]]\n"
     ]
    },
    {
     "name": "stderr",
     "output_type": "stream",
     "text": [
      "\r",
      " 95%|█████████████████████████████████████████████████████████████████████████████▉    | 77/81 [00:21<00:01,  3.32it/s]"
     ]
    },
    {
     "name": "stdout",
     "output_type": "stream",
     "text": [
      "(3.141592653589793, 3.141592653589793, 1.5707963267948966, 3.141592653589793)\n",
      "[[0 0 0 0 0]\n",
      " [0 0 0 0 0]\n",
      " [0 0 0 0 0]\n",
      " [0 0 0 0 0]\n",
      " [0 0 0 0 0]\n",
      " [0 0 0 0 0]\n",
      " [0 0 0 0 0]\n",
      " [0 0 0 0 0]\n",
      " [0 0 0 0 0]\n",
      " [0 0 0 0 0]]\n"
     ]
    },
    {
     "name": "stderr",
     "output_type": "stream",
     "text": [
      "\r",
      " 96%|██████████████████████████████████████████████████████████████████████████████▉   | 78/81 [00:22<00:00,  3.25it/s]"
     ]
    },
    {
     "name": "stdout",
     "output_type": "stream",
     "text": [
      "(3.141592653589793, 3.141592653589793, 3.141592653589793, 0.0)\n",
      "[[0 0 0 0 0]\n",
      " [0 0 0 0 0]\n",
      " [0 0 0 0 0]\n",
      " [0 0 0 0 0]\n",
      " [0 0 0 0 0]\n",
      " [0 0 0 0 0]\n",
      " [0 0 0 0 0]\n",
      " [0 0 0 0 0]\n",
      " [0 0 0 0 0]\n",
      " [0 0 0 0 0]]\n"
     ]
    },
    {
     "name": "stderr",
     "output_type": "stream",
     "text": [
      "\r",
      " 98%|███████████████████████████████████████████████████████████████████████████████▉  | 79/81 [00:22<00:00,  3.25it/s]"
     ]
    },
    {
     "name": "stdout",
     "output_type": "stream",
     "text": [
      "(3.141592653589793, 3.141592653589793, 3.141592653589793, 1.5707963267948966)\n",
      "[[0 0 0 0 0]\n",
      " [0 0 0 0 0]\n",
      " [0 0 0 0 0]\n",
      " [0 0 0 0 0]\n",
      " [0 0 0 0 0]\n",
      " [0 0 0 0 0]\n",
      " [0 0 0 0 0]\n",
      " [0 0 0 0 0]\n",
      " [0 0 0 0 0]\n",
      " [0 0 0 0 0]]\n"
     ]
    },
    {
     "name": "stderr",
     "output_type": "stream",
     "text": [
      "\r",
      " 99%|████████████████████████████████████████████████████████████████████████████████▉ | 80/81 [00:22<00:00,  3.24it/s]"
     ]
    },
    {
     "name": "stdout",
     "output_type": "stream",
     "text": [
      "(3.141592653589793, 3.141592653589793, 3.141592653589793, 3.141592653589793)\n",
      "[[0 0 0 0 0]\n",
      " [0 0 0 0 0]\n",
      " [0 0 0 0 0]\n",
      " [0 0 0 0 0]\n",
      " [0 0 0 0 0]\n",
      " [0 0 0 0 0]\n",
      " [0 0 0 0 0]\n",
      " [0 0 0 0 0]\n",
      " [0 0 0 0 0]\n",
      " [0 0 0 0 0]]\n"
     ]
    },
    {
     "name": "stderr",
     "output_type": "stream",
     "text": [
      "100%|██████████████████████████████████████████████████████████████████████████████████| 81/81 [00:23<00:00,  3.26it/s]\n"
     ]
    },
    {
     "ename": "TypeError",
     "evalue": "Invalid dimensions for image data",
     "output_type": "error",
     "traceback": [
      "\u001b[1;31m---------------------------------------------------------------------------\u001b[0m",
      "\u001b[1;31mTypeError\u001b[0m                                 Traceback (most recent call last)",
      "\u001b[1;32m<ipython-input-28-5b36516b2d2e>\u001b[0m in \u001b[0;36m<module>\u001b[1;34m\u001b[0m\n\u001b[0;32m     21\u001b[0m \u001b[0mlandscape_qvm\u001b[0m \u001b[1;33m=\u001b[0m \u001b[0mrun_mis_qaoa_landscape\u001b[0m\u001b[1;33m(\u001b[0m\u001b[0mqvm\u001b[0m\u001b[1;33m,\u001b[0m \u001b[0mnum_nodes\u001b[0m\u001b[1;33m,\u001b[0m \u001b[0melist\u001b[0m\u001b[1;33m,\u001b[0m \u001b[0mdelta\u001b[0m\u001b[1;33m,\u001b[0m \u001b[0mU\u001b[0m\u001b[1;33m,\u001b[0m \u001b[0momega\u001b[0m\u001b[1;33m,\u001b[0m \u001b[0mwidth\u001b[0m\u001b[1;33m,\u001b[0m \u001b[0mshots\u001b[0m\u001b[1;33m)\u001b[0m\u001b[1;33m\u001b[0m\u001b[1;33m\u001b[0m\u001b[0m\n\u001b[0;32m     22\u001b[0m \u001b[1;31m#plot_landscape(landscape_qpu, device=qpu.name, edges=edges, width=width, shots=shots)\u001b[0m\u001b[1;33m\u001b[0m\u001b[1;33m\u001b[0m\u001b[1;33m\u001b[0m\u001b[0m\n\u001b[1;32m---> 23\u001b[1;33m \u001b[0mplot_landscape\u001b[0m\u001b[1;33m(\u001b[0m\u001b[0mlandscape_qvm\u001b[0m\u001b[1;33m,\u001b[0m \u001b[0mdevice\u001b[0m\u001b[1;33m=\u001b[0m\u001b[0mqvm\u001b[0m\u001b[1;33m.\u001b[0m\u001b[0mname\u001b[0m\u001b[1;33m,\u001b[0m \u001b[0medges\u001b[0m\u001b[1;33m=\u001b[0m\u001b[0melist\u001b[0m\u001b[1;33m,\u001b[0m \u001b[0mwidth\u001b[0m\u001b[1;33m=\u001b[0m\u001b[0mwidth\u001b[0m\u001b[1;33m,\u001b[0m \u001b[0mshots\u001b[0m\u001b[1;33m=\u001b[0m\u001b[0mshots\u001b[0m\u001b[1;33m)\u001b[0m\u001b[1;33m\u001b[0m\u001b[1;33m\u001b[0m\u001b[0m\n\u001b[0m",
      "\u001b[1;32m<ipython-input-6-5ec5cccb4663>\u001b[0m in \u001b[0;36mplot_landscape\u001b[1;34m(landscape, device, edges, width, shots)\u001b[0m\n\u001b[0;32m      5\u001b[0m                    width: int, shots: int):\n\u001b[0;32m      6\u001b[0m     \u001b[0mmax_x\u001b[0m\u001b[1;33m,\u001b[0m \u001b[0mmax_y\u001b[0m \u001b[1;33m=\u001b[0m \u001b[1;33m(\u001b[0m\u001b[0mnp\u001b[0m\u001b[1;33m.\u001b[0m\u001b[0margmax\u001b[0m\u001b[1;33m(\u001b[0m\u001b[0mlandscape\u001b[0m\u001b[1;33m)\u001b[0m \u001b[1;33m%\u001b[0m \u001b[0mwidth\u001b[0m\u001b[1;33m,\u001b[0m \u001b[0mnp\u001b[0m\u001b[1;33m.\u001b[0m\u001b[0margmax\u001b[0m\u001b[1;33m(\u001b[0m\u001b[0mlandscape\u001b[0m\u001b[1;33m)\u001b[0m \u001b[1;33m//\u001b[0m \u001b[0mwidth\u001b[0m\u001b[1;33m)\u001b[0m\u001b[1;33m\u001b[0m\u001b[1;33m\u001b[0m\u001b[0m\n\u001b[1;32m----> 7\u001b[1;33m     \u001b[0mplt\u001b[0m\u001b[1;33m.\u001b[0m\u001b[0mimshow\u001b[0m\u001b[1;33m(\u001b[0m\u001b[0mlandscape\u001b[0m\u001b[1;33m,\u001b[0m \u001b[0mextent\u001b[0m\u001b[1;33m=\u001b[0m\u001b[1;33m[\u001b[0m\u001b[1;36m0\u001b[0m\u001b[1;33m,\u001b[0m \u001b[0mnp\u001b[0m\u001b[1;33m.\u001b[0m\u001b[0mpi\u001b[0m\u001b[1;33m,\u001b[0m \u001b[0mnp\u001b[0m\u001b[1;33m.\u001b[0m\u001b[0mpi\u001b[0m\u001b[1;33m,\u001b[0m \u001b[1;36m0\u001b[0m\u001b[1;33m]\u001b[0m\u001b[1;33m)\u001b[0m\u001b[1;33m\u001b[0m\u001b[1;33m\u001b[0m\u001b[0m\n\u001b[0m\u001b[0;32m      8\u001b[0m     \u001b[0mplt\u001b[0m\u001b[1;33m.\u001b[0m\u001b[0mplot\u001b[0m\u001b[1;33m(\u001b[0m\u001b[1;33m(\u001b[0m\u001b[0mmax_x\u001b[0m \u001b[1;33m+\u001b[0m \u001b[1;36m0.5\u001b[0m\u001b[1;33m)\u001b[0m \u001b[1;33m*\u001b[0m \u001b[0mnp\u001b[0m\u001b[1;33m.\u001b[0m\u001b[0mpi\u001b[0m \u001b[1;33m/\u001b[0m \u001b[0mwidth\u001b[0m\u001b[1;33m,\u001b[0m \u001b[1;33m(\u001b[0m\u001b[0mmax_y\u001b[0m \u001b[1;33m+\u001b[0m \u001b[1;36m0.5\u001b[0m\u001b[1;33m)\u001b[0m \u001b[1;33m*\u001b[0m \u001b[0mnp\u001b[0m\u001b[1;33m.\u001b[0m\u001b[0mpi\u001b[0m \u001b[1;33m/\u001b[0m \u001b[0mwidth\u001b[0m\u001b[1;33m,\u001b[0m \u001b[1;34m'ro'\u001b[0m\u001b[1;33m)\u001b[0m\u001b[1;33m\u001b[0m\u001b[1;33m\u001b[0m\u001b[0m\n\u001b[0;32m      9\u001b[0m     \u001b[0mplt\u001b[0m\u001b[1;33m.\u001b[0m\u001b[0mcolorbar\u001b[0m\u001b[1;33m(\u001b[0m\u001b[1;33m)\u001b[0m\u001b[1;33m\u001b[0m\u001b[1;33m\u001b[0m\u001b[0m\n",
      "\u001b[1;32m~\\Anaconda3\\lib\\site-packages\\matplotlib\\pyplot.py\u001b[0m in \u001b[0;36mimshow\u001b[1;34m(X, cmap, norm, aspect, interpolation, alpha, vmin, vmax, origin, extent, shape, filternorm, filterrad, imlim, resample, url, data, **kwargs)\u001b[0m\n\u001b[0;32m   2697\u001b[0m         \u001b[0mfilternorm\u001b[0m\u001b[1;33m=\u001b[0m\u001b[0mfilternorm\u001b[0m\u001b[1;33m,\u001b[0m \u001b[0mfilterrad\u001b[0m\u001b[1;33m=\u001b[0m\u001b[0mfilterrad\u001b[0m\u001b[1;33m,\u001b[0m \u001b[0mimlim\u001b[0m\u001b[1;33m=\u001b[0m\u001b[0mimlim\u001b[0m\u001b[1;33m,\u001b[0m\u001b[1;33m\u001b[0m\u001b[1;33m\u001b[0m\u001b[0m\n\u001b[0;32m   2698\u001b[0m         resample=resample, url=url, **({\"data\": data} if data is not\n\u001b[1;32m-> 2699\u001b[1;33m         None else {}), **kwargs)\n\u001b[0m\u001b[0;32m   2700\u001b[0m     \u001b[0msci\u001b[0m\u001b[1;33m(\u001b[0m\u001b[0m__ret\u001b[0m\u001b[1;33m)\u001b[0m\u001b[1;33m\u001b[0m\u001b[1;33m\u001b[0m\u001b[0m\n\u001b[0;32m   2701\u001b[0m     \u001b[1;32mreturn\u001b[0m \u001b[0m__ret\u001b[0m\u001b[1;33m\u001b[0m\u001b[1;33m\u001b[0m\u001b[0m\n",
      "\u001b[1;32m~\\Anaconda3\\lib\\site-packages\\matplotlib\\__init__.py\u001b[0m in \u001b[0;36minner\u001b[1;34m(ax, data, *args, **kwargs)\u001b[0m\n\u001b[0;32m   1808\u001b[0m                         \u001b[1;34m\"the Matplotlib list!)\"\u001b[0m \u001b[1;33m%\u001b[0m \u001b[1;33m(\u001b[0m\u001b[0mlabel_namer\u001b[0m\u001b[1;33m,\u001b[0m \u001b[0mfunc\u001b[0m\u001b[1;33m.\u001b[0m\u001b[0m__name__\u001b[0m\u001b[1;33m)\u001b[0m\u001b[1;33m,\u001b[0m\u001b[1;33m\u001b[0m\u001b[1;33m\u001b[0m\u001b[0m\n\u001b[0;32m   1809\u001b[0m                         RuntimeWarning, stacklevel=2)\n\u001b[1;32m-> 1810\u001b[1;33m             \u001b[1;32mreturn\u001b[0m \u001b[0mfunc\u001b[0m\u001b[1;33m(\u001b[0m\u001b[0max\u001b[0m\u001b[1;33m,\u001b[0m \u001b[1;33m*\u001b[0m\u001b[0margs\u001b[0m\u001b[1;33m,\u001b[0m \u001b[1;33m**\u001b[0m\u001b[0mkwargs\u001b[0m\u001b[1;33m)\u001b[0m\u001b[1;33m\u001b[0m\u001b[1;33m\u001b[0m\u001b[0m\n\u001b[0m\u001b[0;32m   1811\u001b[0m \u001b[1;33m\u001b[0m\u001b[0m\n\u001b[0;32m   1812\u001b[0m         inner.__doc__ = _add_data_doc(inner.__doc__,\n",
      "\u001b[1;32m~\\Anaconda3\\lib\\site-packages\\matplotlib\\axes\\_axes.py\u001b[0m in \u001b[0;36mimshow\u001b[1;34m(self, X, cmap, norm, aspect, interpolation, alpha, vmin, vmax, origin, extent, shape, filternorm, filterrad, imlim, resample, url, **kwargs)\u001b[0m\n\u001b[0;32m   5492\u001b[0m                               resample=resample, **kwargs)\n\u001b[0;32m   5493\u001b[0m \u001b[1;33m\u001b[0m\u001b[0m\n\u001b[1;32m-> 5494\u001b[1;33m         \u001b[0mim\u001b[0m\u001b[1;33m.\u001b[0m\u001b[0mset_data\u001b[0m\u001b[1;33m(\u001b[0m\u001b[0mX\u001b[0m\u001b[1;33m)\u001b[0m\u001b[1;33m\u001b[0m\u001b[1;33m\u001b[0m\u001b[0m\n\u001b[0m\u001b[0;32m   5495\u001b[0m         \u001b[0mim\u001b[0m\u001b[1;33m.\u001b[0m\u001b[0mset_alpha\u001b[0m\u001b[1;33m(\u001b[0m\u001b[0malpha\u001b[0m\u001b[1;33m)\u001b[0m\u001b[1;33m\u001b[0m\u001b[1;33m\u001b[0m\u001b[0m\n\u001b[0;32m   5496\u001b[0m         \u001b[1;32mif\u001b[0m \u001b[0mim\u001b[0m\u001b[1;33m.\u001b[0m\u001b[0mget_clip_path\u001b[0m\u001b[1;33m(\u001b[0m\u001b[1;33m)\u001b[0m \u001b[1;32mis\u001b[0m \u001b[1;32mNone\u001b[0m\u001b[1;33m:\u001b[0m\u001b[1;33m\u001b[0m\u001b[1;33m\u001b[0m\u001b[0m\n",
      "\u001b[1;32m~\\Anaconda3\\lib\\site-packages\\matplotlib\\image.py\u001b[0m in \u001b[0;36mset_data\u001b[1;34m(self, A)\u001b[0m\n\u001b[0;32m    636\u001b[0m         if not (self._A.ndim == 2\n\u001b[0;32m    637\u001b[0m                 or self._A.ndim == 3 and self._A.shape[-1] in [3, 4]):\n\u001b[1;32m--> 638\u001b[1;33m             \u001b[1;32mraise\u001b[0m \u001b[0mTypeError\u001b[0m\u001b[1;33m(\u001b[0m\u001b[1;34m\"Invalid dimensions for image data\"\u001b[0m\u001b[1;33m)\u001b[0m\u001b[1;33m\u001b[0m\u001b[1;33m\u001b[0m\u001b[0m\n\u001b[0m\u001b[0;32m    639\u001b[0m \u001b[1;33m\u001b[0m\u001b[0m\n\u001b[0;32m    640\u001b[0m         \u001b[1;32mif\u001b[0m \u001b[0mself\u001b[0m\u001b[1;33m.\u001b[0m\u001b[0m_A\u001b[0m\u001b[1;33m.\u001b[0m\u001b[0mndim\u001b[0m \u001b[1;33m==\u001b[0m \u001b[1;36m3\u001b[0m\u001b[1;33m:\u001b[0m\u001b[1;33m\u001b[0m\u001b[1;33m\u001b[0m\u001b[0m\n",
      "\u001b[1;31mTypeError\u001b[0m: Invalid dimensions for image data"
     ]
    },
    {
     "data": {
      "image/png": "[encoded data removed]",
      "text/plain": [
       "<Figure size 432x288 with 1 Axes>"
      ]
     },
     "metadata": {
      "needs_background": "light"
     },
     "output_type": "display_data"
    }
   ],
   "source": []
  },
  {
   "cell_type": "code",
   "execution_count": 27,
   "metadata": {},
   "outputs": [],
   "source": [
    "# a = np.array(landscape_qvm)\n",
    "a = np.array([0.0, 0.0, 0.0, 0.0, 0.0, 0.0, 0.0, 0.0, 0.0, 0.0, 0.0, -0.15, -0.3, -0.1, -0.1, -0.05, -0.1, -0.2, -0.15, 0.0, -0.4, -0.45, -0.4, -0.3, -0.55, -0.35, -0.45, -0.6, -0.55, -0.5, -0.5, -0.65, -0.85, -0.4, 0.05, -0.35, -0.25, -0.6, -0.05, -0.45, 0.45, -0.35, 0.55, -0.05, 0.9, -0.5, 1.1, -0.1, -0.2, -0.05, 0.5, 2.4, 1.65, 1.45, 2.45, 1.6, 1.45, 0.15, 2.85, 1.2, 4.35, 5.05, 3.7, 2.2, 3.15, 3.15, 4.4, 4.35, 4.55, 3.1, 8.0, 5.75, 4.4, 7.15, 6.75, 5.75, 6.8, 5.55, 6.8, 7.15, 8.0, 7.5, 8.0, 8.5, 8.0, 8.15, 6.95, 8.0, 8.0, 7.15, 8.5, 8.5, 8.5, 8.5, 8.5, 8.5, 8.5, 8.5, 8.5, 8.5])"
   ]
  },
  {
   "cell_type": "code",
   "execution_count": 28,
   "metadata": {},
   "outputs": [
    {
     "data": {
      "text/plain": [
       "array([-0.85, -0.65, -0.6 , -0.6 , -0.55, -0.55, -0.5 , -0.5 , -0.5 ,\n",
       "       -0.45, -0.45, -0.45, -0.4 , -0.4 , -0.4 , -0.35, -0.35, -0.35,\n",
       "       -0.3 , -0.3 , -0.25, -0.2 , -0.2 , -0.15, -0.15, -0.1 , -0.1 ,\n",
       "       -0.1 , -0.1 , -0.05, -0.05, -0.05, -0.05,  0.  ,  0.  ,  0.  ,\n",
       "        0.  ,  0.  ,  0.  ,  0.  ,  0.  ,  0.  ,  0.  ,  0.  ,  0.  ,\n",
       "        0.05,  0.15,  0.45,  0.5 ,  0.55,  0.9 ,  1.1 ,  1.2 ,  1.45,\n",
       "        1.45,  1.6 ,  1.65,  2.2 ,  2.4 ,  2.45,  2.85,  3.1 ,  3.15,\n",
       "        3.15,  3.7 ,  4.35,  4.35,  4.4 ,  4.4 ,  4.55,  5.05,  5.55,\n",
       "        5.75,  5.75,  6.75,  6.8 ,  6.8 ,  6.95,  7.15,  7.15,  7.15,\n",
       "        7.5 ,  8.  ,  8.  ,  8.  ,  8.  ,  8.  ,  8.  ,  8.15,  8.5 ,\n",
       "        8.5 ,  8.5 ,  8.5 ,  8.5 ,  8.5 ,  8.5 ,  8.5 ,  8.5 ,  8.5 ,\n",
       "        8.5 ])"
      ]
     },
     "execution_count": 28,
     "metadata": {},
     "output_type": "execute_result"
    }
   ],
   "source": [
    "np.sort(a)"
   ]
  },
  {
   "cell_type": "code",
   "execution_count": 12,
   "metadata": {},
   "outputs": [],
   "source": [
    "from pyquil import Program, noise\n",
    "from pyquil.api import WavefunctionSimulator\n",
    "from pyquil.gates import H\n",
    "from pyquil.paulis import sZ, sX, sI, exponentiate_commuting_pauli_sum\n",
    "from scipy.optimize import minimize\n",
    "\n",
    "import operator\n",
    "import matplotlib.pyplot as plt"
   ]
  },
  {
   "cell_type": "code",
   "execution_count": 8,
   "metadata": {},
   "outputs": [],
   "source": []
  },
  {
   "cell_type": "code",
   "execution_count": 10,
   "metadata": {},
   "outputs": [],
   "source": []
  },
  {
   "cell_type": "code",
   "execution_count": null,
   "metadata": {},
   "outputs": [],
   "source": [
    "def mis_ansatz(betas, gammas):\n",
    "    pq = Program()\n",
    "    pq += [exponentiate_commuting_pauli_sum(h_cost)(g) + exponentiate_commuting_pauli_sum(h_driver)(b) \n",
    "                for g, b in zip(gammas, betas)]\n",
    "    return pq"
   ]
  },
  {
   "cell_type": "code",
   "execution_count": null,
   "metadata": {},
   "outputs": [],
   "source": [
    "def mis_cost(params):\n",
    "    half = int(len(params)/2)\n",
    "    betas, gammas = params[:half], params[half:]\n",
    "    #init_state_prog = Program(RESET())\n",
    "    #pq = init_state_prog + mis_ansatz(betas, gammas, h_cost, h_driver)\n",
    "    pq = mis_ansatz(betas, gammas)\n",
    "    return WavefunctionSimulator().expectation(prep_prog = pq, pauli_terms = h_cost)"
   ]
  },
  {
   "cell_type": "code",
   "execution_count": null,
   "metadata": {},
   "outputs": [],
   "source": [
    "def run_qaoa_mis(guess):\n",
    "    result = minimize(mis_cost, x0 = guess, method='Nelder-Mead', options={'disp': True})\n",
    "    wf_sim = WavefunctionSimulator()\n",
    "    half = int(len(result['x'])/2)\n",
    "    pq = mis_ansatz(result['x'][:half],result['x'][half:])\n",
    "    wavefunction = wf_sim.wavefunction(pq)\n",
    "    prob_dict = wavefunction.get_outcome_probs() \n",
    "    sorted_dict = sorted(prob_dict.items(), key = operator.itemgetter(1))\n",
    "    return sorted_dict[len(prob_dict)-1]"
   ]
  },
  {
   "cell_type": "code",
   "execution_count": null,
   "metadata": {},
   "outputs": [],
   "source": [
    "# elist = [(1, 4), (1, 7), (1, 8), (1, 9), (1, 10), (2, 5), (2, 6), (2, 8), (3, 4), (3, 5),\n",
    "#           (3, 7), (4, 7), (4, 10), (5, 6), (5, 9), (6, 7), (6, 9), (6, 10), (7, 9), (9, 10)]\n",
    "#string = '1 <-> 2, 1 <-> 3, 1 <-> 4, 1 <-> 5, 2 <-> 7, 3 <-> 4, 3 <-> 7, 4 <-> 6, 4 <-> 7, 7 <-> 8'\n",
    "\n",
    "string = '1 <-> 2, 1 <-> 3, 1 <-> 4, 1 <-> 5, 2 <-> 3, 2 <-> 4, 2 <-> 5, 3 <-> 4, 4 <-> 5'\n",
    "elist = elist_from_math(string)\n",
    "\n",
    "num_nodes = 5\n",
    "delta = 1\n",
    "U = 1.5\n",
    "omega = 0.5\n",
    "\n",
    "h_cost, h_driver = get_hamil(num_nodes, elist, 1, 1.5, 0.5)"
   ]
  },
  {
   "cell_type": "code",
   "execution_count": null,
   "metadata": {},
   "outputs": [],
   "source": [
    "%%time\n",
    "result = run_qaoa_mis([0.5,0.5, 0.5, 0.5])\n",
    "print(result)"
   ]
  },
  {
   "cell_type": "code",
   "execution_count": null,
   "metadata": {},
   "outputs": [],
   "source": [
    "# correct = '1011010000'\n",
    "# correct = '10110110'\n",
    "correct = '10100'\n",
    "p_vals = []\n",
    "prob_vals = []\n",
    "for p in range(1,11):\n",
    "    params = [0.5] * 2 * p\n",
    "    result = run_qaoa_mis(params)\n",
    "    if (result[0] == correct):\n",
    "        p_vals.append(p)\n",
    "        prob_vals.append(result[1])\n",
    "    else:\n",
    "        print(\"BAD p value:\", p, \"with State:\", result[0])"
   ]
  },
  {
   "cell_type": "code",
   "execution_count": 78,
   "metadata": {},
   "outputs": [],
   "source": [
    "p = Program(I(0), I(1))"
   ]
  },
  {
   "cell_type": "code",
   "execution_count": 80,
   "metadata": {},
   "outputs": [
    {
     "name": "stderr",
     "output_type": "stream",
     "text": [
      "/home/forest/.virtualenvs/venv/lib/python3.6/site-packages/pyquil/gates.py:490: UserWarning: Indexing measurement addresses by integers is deprecated. Replacing this with the MemoryReference ro[i] instead.\n",
      "  + \"Replacing this with the MemoryReference ro[i] instead.\")\n"
     ]
    },
    {
     "ename": "AssertionError",
     "evalue": "",
     "output_type": "error",
     "traceback": [
      "\u001b[0;31m---------------------------------------------------------------------------\u001b[0m",
      "\u001b[0;31mAssertionError\u001b[0m                            Traceback (most recent call last)",
      "\u001b[0;32m<ipython-input-80-a6c7fd0ba3ca>\u001b[0m in \u001b[0;36m<module>\u001b[0;34m\u001b[0m\n\u001b[1;32m      1\u001b[0m \u001b[0mprogram\u001b[0m \u001b[0;34m=\u001b[0m \u001b[0mProgram\u001b[0m\u001b[0;34m(\u001b[0m\u001b[0mX\u001b[0m\u001b[0;34m(\u001b[0m\u001b[0;36m0\u001b[0m\u001b[0;34m)\u001b[0m\u001b[0;34m,\u001b[0m \u001b[0mMEASURE\u001b[0m\u001b[0;34m(\u001b[0m\u001b[0;36m0\u001b[0m\u001b[0;34m,\u001b[0m \u001b[0;36m0\u001b[0m\u001b[0;34m)\u001b[0m\u001b[0;34m)\u001b[0m\u001b[0;34m\u001b[0m\u001b[0;34m\u001b[0m\u001b[0m\n\u001b[0;32m----> 2\u001b[0;31m \u001b[0mresults\u001b[0m \u001b[0;34m=\u001b[0m \u001b[0mqvm\u001b[0m\u001b[0;34m.\u001b[0m\u001b[0mrun\u001b[0m\u001b[0;34m(\u001b[0m\u001b[0mprogram\u001b[0m\u001b[0;34m)\u001b[0m\u001b[0;34m\u001b[0m\u001b[0;34m\u001b[0m\u001b[0m\n\u001b[0m",
      "\u001b[0;32m~/.virtualenvs/venv/lib/python3.6/site-packages/pyquil/api/_error_reporting.py\u001b[0m in \u001b[0;36mwrapper\u001b[0;34m(*args, **kwargs)\u001b[0m\n\u001b[1;32m    236\u001b[0m             \u001b[0mglobal_error_context\u001b[0m\u001b[0;34m.\u001b[0m\u001b[0mlog\u001b[0m\u001b[0;34m[\u001b[0m\u001b[0mkey\u001b[0m\u001b[0;34m]\u001b[0m \u001b[0;34m=\u001b[0m \u001b[0mpre_entry\u001b[0m\u001b[0;34m\u001b[0m\u001b[0;34m\u001b[0m\u001b[0m\n\u001b[1;32m    237\u001b[0m \u001b[0;34m\u001b[0m\u001b[0m\n\u001b[0;32m--> 238\u001b[0;31m         \u001b[0mval\u001b[0m \u001b[0;34m=\u001b[0m \u001b[0mfunc\u001b[0m\u001b[0;34m(\u001b[0m\u001b[0;34m*\u001b[0m\u001b[0margs\u001b[0m\u001b[0;34m,\u001b[0m \u001b[0;34m**\u001b[0m\u001b[0mkwargs\u001b[0m\u001b[0;34m)\u001b[0m\u001b[0;34m\u001b[0m\u001b[0;34m\u001b[0m\u001b[0m\n\u001b[0m\u001b[1;32m    239\u001b[0m \u001b[0;34m\u001b[0m\u001b[0m\n\u001b[1;32m    240\u001b[0m         \u001b[0;31m# poke the return value of that call in\u001b[0m\u001b[0;34m\u001b[0m\u001b[0;34m\u001b[0m\u001b[0;34m\u001b[0m\u001b[0m\n",
      "\u001b[0;32m~/.virtualenvs/venv/lib/python3.6/site-packages/pyquil/api/_quantum_computer.py\u001b[0m in \u001b[0;36mrun\u001b[0;34m(self, executable, memory_map)\u001b[0m\n\u001b[1;32m    144\u001b[0m         \u001b[0;34m:\u001b[0m\u001b[0;32mreturn\u001b[0m\u001b[0;34m:\u001b[0m \u001b[0mA\u001b[0m \u001b[0mnumpy\u001b[0m \u001b[0marray\u001b[0m \u001b[0mof\u001b[0m \u001b[0mshape\u001b[0m \u001b[0;34m(\u001b[0m\u001b[0mtrials\u001b[0m\u001b[0;34m,\u001b[0m \u001b[0mlen\u001b[0m\u001b[0;34m(\u001b[0m\u001b[0mro\u001b[0m\u001b[0;34m-\u001b[0m\u001b[0mregister\u001b[0m\u001b[0;34m)\u001b[0m\u001b[0;34m)\u001b[0m \u001b[0mthat\u001b[0m \u001b[0mcontains\u001b[0m \u001b[0;36m0\u001b[0m\u001b[0ms\u001b[0m \u001b[0;32mand\u001b[0m \u001b[0;36m1\u001b[0m\u001b[0ms\u001b[0m\u001b[0;34m.\u001b[0m\u001b[0;34m\u001b[0m\u001b[0;34m\u001b[0m\u001b[0m\n\u001b[1;32m    145\u001b[0m         \"\"\"\n\u001b[0;32m--> 146\u001b[0;31m         \u001b[0mself\u001b[0m\u001b[0;34m.\u001b[0m\u001b[0mqam\u001b[0m\u001b[0;34m.\u001b[0m\u001b[0mload\u001b[0m\u001b[0;34m(\u001b[0m\u001b[0mexecutable\u001b[0m\u001b[0;34m)\u001b[0m\u001b[0;34m\u001b[0m\u001b[0;34m\u001b[0m\u001b[0m\n\u001b[0m\u001b[1;32m    147\u001b[0m         \u001b[0;32mif\u001b[0m \u001b[0mmemory_map\u001b[0m\u001b[0;34m:\u001b[0m\u001b[0;34m\u001b[0m\u001b[0;34m\u001b[0m\u001b[0m\n\u001b[1;32m    148\u001b[0m             \u001b[0;32mfor\u001b[0m \u001b[0mregion_name\u001b[0m\u001b[0;34m,\u001b[0m \u001b[0mvalues_list\u001b[0m \u001b[0;32min\u001b[0m \u001b[0mmemory_map\u001b[0m\u001b[0;34m.\u001b[0m\u001b[0mitems\u001b[0m\u001b[0;34m(\u001b[0m\u001b[0;34m)\u001b[0m\u001b[0;34m:\u001b[0m\u001b[0;34m\u001b[0m\u001b[0;34m\u001b[0m\u001b[0m\n",
      "\u001b[0;32m~/.virtualenvs/venv/lib/python3.6/site-packages/pyquil/api/_error_reporting.py\u001b[0m in \u001b[0;36mwrapper\u001b[0;34m(*args, **kwargs)\u001b[0m\n\u001b[1;32m    236\u001b[0m             \u001b[0mglobal_error_context\u001b[0m\u001b[0;34m.\u001b[0m\u001b[0mlog\u001b[0m\u001b[0;34m[\u001b[0m\u001b[0mkey\u001b[0m\u001b[0;34m]\u001b[0m \u001b[0;34m=\u001b[0m \u001b[0mpre_entry\u001b[0m\u001b[0;34m\u001b[0m\u001b[0;34m\u001b[0m\u001b[0m\n\u001b[1;32m    237\u001b[0m \u001b[0;34m\u001b[0m\u001b[0m\n\u001b[0;32m--> 238\u001b[0;31m         \u001b[0mval\u001b[0m \u001b[0;34m=\u001b[0m \u001b[0mfunc\u001b[0m\u001b[0;34m(\u001b[0m\u001b[0;34m*\u001b[0m\u001b[0margs\u001b[0m\u001b[0;34m,\u001b[0m \u001b[0;34m**\u001b[0m\u001b[0mkwargs\u001b[0m\u001b[0;34m)\u001b[0m\u001b[0;34m\u001b[0m\u001b[0;34m\u001b[0m\u001b[0m\n\u001b[0m\u001b[1;32m    239\u001b[0m \u001b[0;34m\u001b[0m\u001b[0m\n\u001b[1;32m    240\u001b[0m         \u001b[0;31m# poke the return value of that call in\u001b[0m\u001b[0;34m\u001b[0m\u001b[0;34m\u001b[0m\u001b[0;34m\u001b[0m\u001b[0m\n",
      "\u001b[0;32m~/.virtualenvs/venv/lib/python3.6/site-packages/pyquil/api/_qvm.py\u001b[0m in \u001b[0;36mload\u001b[0;34m(self, executable)\u001b[0m\n\u001b[1;32m    485\u001b[0m                                 \"`Program`. You provided {}\".format(type(executable)))\n\u001b[1;32m    486\u001b[0m \u001b[0;34m\u001b[0m\u001b[0m\n\u001b[0;32m--> 487\u001b[0;31m         \u001b[0;32mreturn\u001b[0m \u001b[0msuper\u001b[0m\u001b[0;34m(\u001b[0m\u001b[0;34m)\u001b[0m\u001b[0;34m.\u001b[0m\u001b[0mload\u001b[0m\u001b[0;34m(\u001b[0m\u001b[0mexecutable\u001b[0m\u001b[0;34m)\u001b[0m\u001b[0;34m\u001b[0m\u001b[0;34m\u001b[0m\u001b[0m\n\u001b[0m\u001b[1;32m    488\u001b[0m \u001b[0;34m\u001b[0m\u001b[0m\n\u001b[1;32m    489\u001b[0m     \u001b[0;34m@\u001b[0m\u001b[0m_record_call\u001b[0m\u001b[0;34m\u001b[0m\u001b[0;34m\u001b[0m\u001b[0m\n",
      "\u001b[0;32m~/.virtualenvs/venv/lib/python3.6/site-packages/pyquil/api/_error_reporting.py\u001b[0m in \u001b[0;36mwrapper\u001b[0;34m(*args, **kwargs)\u001b[0m\n\u001b[1;32m    236\u001b[0m             \u001b[0mglobal_error_context\u001b[0m\u001b[0;34m.\u001b[0m\u001b[0mlog\u001b[0m\u001b[0;34m[\u001b[0m\u001b[0mkey\u001b[0m\u001b[0;34m]\u001b[0m \u001b[0;34m=\u001b[0m \u001b[0mpre_entry\u001b[0m\u001b[0;34m\u001b[0m\u001b[0;34m\u001b[0m\u001b[0m\n\u001b[1;32m    237\u001b[0m \u001b[0;34m\u001b[0m\u001b[0m\n\u001b[0;32m--> 238\u001b[0;31m         \u001b[0mval\u001b[0m \u001b[0;34m=\u001b[0m \u001b[0mfunc\u001b[0m\u001b[0;34m(\u001b[0m\u001b[0;34m*\u001b[0m\u001b[0margs\u001b[0m\u001b[0;34m,\u001b[0m \u001b[0;34m**\u001b[0m\u001b[0mkwargs\u001b[0m\u001b[0;34m)\u001b[0m\u001b[0;34m\u001b[0m\u001b[0;34m\u001b[0m\u001b[0m\n\u001b[0m\u001b[1;32m    239\u001b[0m \u001b[0;34m\u001b[0m\u001b[0m\n\u001b[1;32m    240\u001b[0m         \u001b[0;31m# poke the return value of that call in\u001b[0m\u001b[0;34m\u001b[0m\u001b[0;34m\u001b[0m\u001b[0;34m\u001b[0m\u001b[0m\n",
      "\u001b[0;32m~/.virtualenvs/venv/lib/python3.6/site-packages/pyquil/api/_qam.py\u001b[0m in \u001b[0;36mload\u001b[0;34m(self, executable)\u001b[0m\n\u001b[1;32m     51\u001b[0m         \u001b[0;32mif\u001b[0m \u001b[0mself\u001b[0m\u001b[0;34m.\u001b[0m\u001b[0mstatus\u001b[0m \u001b[0;34m==\u001b[0m \u001b[0;34m'loaded'\u001b[0m\u001b[0;34m:\u001b[0m\u001b[0;34m\u001b[0m\u001b[0;34m\u001b[0m\u001b[0m\n\u001b[1;32m     52\u001b[0m             \u001b[0mwarnings\u001b[0m\u001b[0;34m.\u001b[0m\u001b[0mwarn\u001b[0m\u001b[0;34m(\u001b[0m\u001b[0;34m\"Overwriting previously loaded executable.\"\u001b[0m\u001b[0;34m)\u001b[0m\u001b[0;34m\u001b[0m\u001b[0;34m\u001b[0m\u001b[0m\n\u001b[0;32m---> 53\u001b[0;31m         \u001b[0;32massert\u001b[0m \u001b[0mself\u001b[0m\u001b[0;34m.\u001b[0m\u001b[0mstatus\u001b[0m \u001b[0;32min\u001b[0m \u001b[0;34m[\u001b[0m\u001b[0;34m'connected'\u001b[0m\u001b[0;34m,\u001b[0m \u001b[0;34m'done'\u001b[0m\u001b[0;34m,\u001b[0m \u001b[0;34m'loaded'\u001b[0m\u001b[0;34m]\u001b[0m\u001b[0;34m\u001b[0m\u001b[0;34m\u001b[0m\u001b[0m\n\u001b[0m\u001b[1;32m     54\u001b[0m \u001b[0;34m\u001b[0m\u001b[0m\n\u001b[1;32m     55\u001b[0m         \u001b[0mself\u001b[0m\u001b[0;34m.\u001b[0m\u001b[0m_variables_shim\u001b[0m \u001b[0;34m=\u001b[0m \u001b[0;34m{\u001b[0m\u001b[0;34m}\u001b[0m\u001b[0;34m\u001b[0m\u001b[0;34m\u001b[0m\u001b[0m\n",
      "\u001b[0;31mAssertionError\u001b[0m: "
     ]
    }
   ],
   "source": [
    "program = Program(X(0), MEASURE(0, 0))\n",
    "results = qvm.run(program)"
   ]
  },
  {
   "cell_type": "code",
   "execution_count": 90,
   "metadata": {},
   "outputs": [],
   "source": [
    "from pyquil.api import QVMConnection\n",
    "qvm = QVMConnection()\n",
    "program = Program(X(0), I(1))\n",
    "program.measure_all()\n",
    "results = qvm.run(program)"
   ]
  },
  {
   "cell_type": "code",
   "execution_count": 91,
   "metadata": {},
   "outputs": [
    {
     "data": {
      "text/plain": [
       "[[1, 0]]"
      ]
     },
     "execution_count": 91,
     "metadata": {},
     "output_type": "execute_result"
    }
   ],
   "source": [
    "results"
   ]
  },
  {
   "cell_type": "code",
   "execution_count": null,
   "metadata": {},
   "outputs": [],
   "source": []
  }
 ],
 "metadata": {
  "kernelspec": {
   "display_name": "Python 3",
   "language": "python",
   "name": "python3"
  },
  "language_info": {
   "codemirror_mode": {
    "name": "ipython",
    "version": 3
   },
   "file_extension": ".py",
   "mimetype": "text/x-python",
   "name": "python",
   "nbconvert_exporter": "python",
   "pygments_lexer": "ipython3",
   "version": "3.7.3"
  }
 },
 "nbformat": 4,
 "nbformat_minor": 2
}
