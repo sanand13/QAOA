{
 "cells": [
  {
   "cell_type": "markdown",
   "metadata": {},
   "source": [
    "# CS 269Q: Final Project - QAOA on MIS\n",
    "***\n",
    "## Part 2: Using Grid Search \n",
    "Using Peter Karalekas' [notebook](https://gist.github.com/karalekas/c63b0bb24f15109f1921cea5966ca518) as reference."
   ]
  },
  {
   "cell_type": "markdown",
   "metadata": {},
   "source": [
    "__Note:__ Part 1: Using Classical Optimizer is documented on another notebook."
   ]
  },
  {
   "cell_type": "markdown",
   "metadata": {},
   "source": [
    "__GOAL:__ Generate random MIS instances for simulation on the QVM and the QPU. Benchmark against various noise models."
   ]
  },
  {
   "cell_type": "code",
   "execution_count": 1,
   "metadata": {},
   "outputs": [],
   "source": [
    "from pyquil import Program\n",
    "from pyquil.gates import RESET\n",
    "from pyquil.paulis import sZ, sX, sI, exponentiate_commuting_pauli_sum\n",
    "\n",
    "def mis_ansatz(betas, gammas):\n",
    "    pq = Program(RESET())\n",
    "    pq += [exponentiate_commuting_pauli_sum(h_cost)(g) + exponentiate_commuting_pauli_sum(h_driver)(b) \n",
    "                for g, b in zip(gammas, betas)]\n",
    "    pq.measure_all()\n",
    "    return pq"
   ]
  },
  {
   "cell_type": "code",
   "execution_count": 2,
   "metadata": {},
   "outputs": [],
   "source": [
    "from pyquil.gates import I, X\n",
    "from pyquil.api import WavefunctionSimulator\n",
    "\n",
    "def bit_energy(bitstring, h_cost):\n",
    "    size = len(bitstring)\n",
    "    pq = Program()\n",
    "    for i in range(size):\n",
    "        if bitstring[i] == 0:\n",
    "            pq += Program(I(i))\n",
    "        elif bitstring[i] == 1:\n",
    "            pq += Program(X(i))\n",
    "    return np.real(WavefunctionSimulator().expectation(prep_prog = pq, pauli_terms = h_cost))"
   ]
  },
  {
   "cell_type": "code",
   "execution_count": 3,
   "metadata": {},
   "outputs": [],
   "source": [
    "import numpy as np\n",
    "import matplotlib.pyplot as plt\n",
    "from typing import List, Tuple\n",
    "\n",
    "def plot_landscape(landscape: np.ndarray, *, device: str, edges: List[Tuple[int, int]],\n",
    "                   width: int, shots: int):\n",
    "    max_x, max_y = (np.argmax(landscape) % width, np.argmax(landscape) // width)\n",
    "    min_x, min_y = (np.argmin(landscape) % width, np.argmin(landscape) // width)\n",
    "    plt.imshow(landscape, extent=[0, np.pi, np.pi, 0])\n",
    "    plt.plot((max_x + 0.5) * np.pi / width, (max_y + 0.5) * np.pi / width, 'ro')\n",
    "    plt.plot((min_x + 0.5) * np.pi / width, (min_y + 0.5) * np.pi / width, 'go')\n",
    "    plt.colorbar()\n",
    "    plt.xlabel('gamma (radians)')\n",
    "    plt.ylabel('beta (radians)')\n",
    "    plt.title(f'Max-Cut QAOA Landscape\\n{device}\\n{edges}\\nwidth = {width} shots = {shots}')\n",
    "    plt.show()"
   ]
  },
  {
   "cell_type": "code",
   "execution_count": 4,
   "metadata": {},
   "outputs": [],
   "source": [
    "import itertools\n",
    "from tqdm import tqdm\n",
    "from pyquil.api import QPU, QuantumComputer\n",
    "\n",
    "def run_mis_qaoa_landscape(qc: QuantumComputer, num_nodes, edge_list, delta, U, omega, width: int,\n",
    "                              shots: int = 1000) -> np.ndarray:\n",
    "   \n",
    "    beta_lst = []\n",
    "    gamma_lst = []\n",
    "    costs = []\n",
    "    angle_range = np.linspace(0, np.pi, width)\n",
    "    landscape = list(itertools.product(angle_range, angle_range))\n",
    "    for lst in tqdm(landscape):\n",
    "        half = int(len(lst)/2)\n",
    "        betas, gammas = lst[:half], lst[half:]\n",
    "        \n",
    "        p = mis_ansatz(betas, gammas)\n",
    "        p.wrap_in_numshots_loop(shots)\n",
    "        \n",
    "        binary = qc.compile(p) if isinstance(qc.qam, QPU) else p\n",
    "        bitstrings = qvm.run(binary)\n",
    "        energy = np.mean([bit_energy(b, h_cost) for b in bitstrings])\n",
    "        costs.append(energy)\n",
    "        beta_lst.append(betas)\n",
    "        gamma_lst.append(gammas)\n",
    "        \n",
    "    return costs, beta_lst, gamma_lst, np.array(costs).reshape(width, width)"
   ]
  },
  {
   "cell_type": "code",
   "execution_count": 5,
   "metadata": {},
   "outputs": [],
   "source": [
    "def elist_from_math(string):\n",
    "    string = string.replace(',','), (')\n",
    "    string = string.replace(' <->',',')\n",
    "    return eval('(' + string + ')')"
   ]
  },
  {
   "cell_type": "code",
   "execution_count": 6,
   "metadata": {},
   "outputs": [],
   "source": [
    "def get_hamil(num_nodes, edge_list, delta, U, omega):\n",
    "    nodes = list(range(0,num_nodes))\n",
    "    edges = [(i-1,j-1) for i,j in edge_list]\n",
    "    h_cost = -0.5* delta * sum((sI(i) - sZ(i)) for i in nodes) + 0.25 * U * sum((sI(i) - sZ(i))*(sI(j) - sZ(j)) for i, j in edges)\n",
    "    h_driver = omega*sum(sX(i) for i in nodes) + 0.25*U * sum((sI(i) - sZ(i))*(sI(j) - sZ(j)) for i, j in edges)\n",
    "    return h_cost, h_driver"
   ]
  },
  {
   "cell_type": "code",
   "execution_count": 7,
   "metadata": {},
   "outputs": [],
   "source": [
    "def optimal_params(costs, beta, gamma):\n",
    "    min_cost = costs[np.argmin(costs)]\n",
    "    beta = beta[np.argmin(costs)]\n",
    "    gamma = gamma[np.argmin(costs)]\n",
    "    print(\"The minimum cost is:\", min_cost)\n",
    "    print(\"The optimal beta value(s):\",beta)\n",
    "    print(\"The optimal gamma value(s):\",gamma)\n",
    "    return beta, gamma"
   ]
  },
  {
   "cell_type": "code",
   "execution_count": 8,
   "metadata": {},
   "outputs": [],
   "source": [
    "from pyquil import get_qc\n",
    "\n",
    "# qpu = get_qc('Aspen-3-3Q-B')  # edit as necessary\n",
    "qvm = get_qc('5q-qvm')  # edit as necessary"
   ]
  },
  {
   "cell_type": "code",
   "execution_count": 9,
   "metadata": {},
   "outputs": [],
   "source": [
    "string = '1 <-> 2, 1 <-> 3, 1 <-> 4, 1 <-> 5, 2 <-> 3, 2 <-> 4, 2 <-> 5, 3 <-> 4, 4 <-> 5'\n",
    "elist = elist_from_math(string)\n",
    "\n",
    "width = 10\n",
    "shots = 100\n",
    "num_nodes = 5  # edit as necessary\n",
    "delta = 1\n",
    "U = 1.5\n",
    "omega = 0.5\n",
    "\n",
    "h_cost, h_driver = get_hamil(num_nodes, elist, delta, U, omega)"
   ]
  },
  {
   "cell_type": "code",
   "execution_count": 10,
   "metadata": {},
   "outputs": [
    {
     "name": "stderr",
     "output_type": "stream",
     "text": [
      "100%|████████████████████████████████████████████████████████████████████████████████| 100/100 [03:10<00:00,  1.81s/it]\n"
     ]
    },
    {
     "name": "stdout",
     "output_type": "stream",
     "text": [
      "The minimum cost is: -0.525\n",
      "The optimal beta value(s): (1.0471975511965976,)\n",
      "The optimal gamma value(s): (2.443460952792061,)\n"
     ]
    },
    {
     "data": {
      "image/png": "[encoded data removed]",
      "text/plain": [
       "<Figure size 432x288 with 2 Axes>"
      ]
     },
     "metadata": {
      "needs_background": "light"
     },
     "output_type": "display_data"
    }
   ],
   "source": [
    "costs, beta, gamma, plot = run_mis_qaoa_landscape(qvm, num_nodes, elist, delta, U, omega, width, shots)\n",
    "optimal_params(costs, beta, gamma)\n",
    "plot_landscape(plot, device=qvm.name, edges=elist, width=width, shots=shots)"
   ]
  },
  {
   "cell_type": "code",
   "execution_count": 13,
   "metadata": {},
   "outputs": [
    {
     "name": "stdout",
     "output_type": "stream",
     "text": [
      "The minimum cost is: -0.525\n",
      "The optimal beta value(s): (1.0471975511965976,)\n",
      "The optimal gamma value(s): (2.443460952792061,)\n",
      "Calculated Cost: -0.415\n"
     ]
    }
   ],
   "source": [
    "# SANITY CHECK\n",
    "b,g = optimal_params(costs, beta, gamma)\n",
    "\n",
    "p = Program(RESET())\n",
    "p += mis_ansatz(b,g)\n",
    "p.wrap_in_numshots_loop(shots)\n",
    "binary = qvm.compile(p) if isinstance(qvm.qam, QPU) else p\n",
    "bitstrings = qvm.run(binary)\n",
    "energy = np.mean([bit_energy(b, h_cost) for b in bitstrings])\n",
    "print('Calculated Cost:',energy)"
   ]
  },
  {
   "cell_type": "code",
   "execution_count": null,
   "metadata": {},
   "outputs": [],
   "source": [
    "# costs, beta, gamma, plot = run_mis_qaoa_landscape(qpu, num_nodes, elist, delta, U, omega, width, shots)\n",
    "# optimal_params(costs, beta, gamma)\n",
    "# plot_landscape(plot, device=qvm.name, edges=elist, width=width, shots=shots)"
   ]
  },
  {
   "cell_type": "code",
   "execution_count": null,
   "metadata": {},
   "outputs": [],
   "source": []
  },
  {
   "cell_type": "code",
   "execution_count": null,
   "metadata": {},
   "outputs": [],
   "source": []
  },
  {
   "cell_type": "code",
   "execution_count": null,
   "metadata": {},
   "outputs": [],
   "source": []
  },
  {
   "cell_type": "code",
   "execution_count": null,
   "metadata": {},
   "outputs": [],
   "source": []
  }
 ],
 "metadata": {
  "kernelspec": {
   "display_name": "Python 3",
   "language": "python",
   "name": "python3"
  },
  "language_info": {
   "codemirror_mode": {
    "name": "ipython",
    "version": 3
   },
   "file_extension": ".py",
   "mimetype": "text/x-python",
   "name": "python",
   "nbconvert_exporter": "python",
   "pygments_lexer": "ipython3",
   "version": "3.7.3"
  }
 },
 "nbformat": 4,
 "nbformat_minor": 2
}
