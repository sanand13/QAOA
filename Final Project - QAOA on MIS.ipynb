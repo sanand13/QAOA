{
 "cells": [
  {
   "cell_type": "markdown",
   "metadata": {},
   "source": [
    "# CS 269Q: Final Project - QAOA on MIS"
   ]
  },
  {
   "cell_type": "markdown",
   "metadata": {},
   "source": [
    "Goal: Generate random MIS instances for simulation on the QVM and benchmark against various noise models."
   ]
  },
  {
   "cell_type": "markdown",
   "metadata": {},
   "source": [
    "## Trying MAXCUT from documentation"
   ]
  },
  {
   "cell_type": "code",
   "execution_count": 2,
   "metadata": {},
   "outputs": [],
   "source": [
    "import numpy as np\n",
    "from grove.pyqaoa.maxcut_qaoa import maxcut_qaoa\n",
    "import pyquil.api as api\n",
    "qvm_connection = api.QVMConnection()"
   ]
  },
  {
   "cell_type": "code",
   "execution_count": 3,
   "metadata": {},
   "outputs": [],
   "source": [
    "square_ring = [(0,1),(1,2),(2,3),(3,0)]"
   ]
  },
  {
   "cell_type": "code",
   "execution_count": 4,
   "metadata": {},
   "outputs": [
    {
     "name": "stdout",
     "output_type": "stream",
     "text": [
      "WARNING: Fast method for expectation will be used. Noise\n",
      "                     models will be ineffective\n",
      "\tParameters: [3.16061036 1.05160408 4.27064191 3.4758232 ] \n",
      "\tE => -1.8516726825999292\n",
      "\tParameters: [3.24628956 1.08081531 4.38641232 3.57004732] \n",
      "\tE => -2.511464679305617\n",
      "\tParameters: [3.24628956 1.08081531 4.38641232 3.57004732] \n",
      "\tE => -2.0777850192479077\n",
      "\tParameters: [3.24628956 1.08081531 4.38641232 3.57004732] \n",
      "\tE => -2.4986161466972407\n",
      "\tParameters: [3.54795173 0.82339139 4.61393334 3.74475455] \n",
      "\tE => -3.7606117842527405\n",
      "\tParameters: [3.54795173 0.82339139 4.61393334 3.74475455] \n",
      "\tE => -3.5864396842592017\n",
      "\tParameters: [3.43148157 0.86401325 4.73312059 3.87578497] \n",
      "\tE => -3.6197411202515988\n",
      "\tParameters: [3.43148157 0.86401325 4.73312059 3.87578497] \n",
      "\tE => -3.534559373706394\n",
      "\tParameters: [3.43148157 0.86401325 4.73312059 3.87578497] \n",
      "\tE => -3.748052154791108\n",
      "\tParameters: [3.43148157 0.86401325 4.73312059 3.87578497] \n",
      "\tE => -3.6205689309115305\n",
      "\tParameters: [3.55426657 0.71000534 4.75582307 3.97315041] \n",
      "\tE => -3.6043659192707826\n",
      "\tParameters: [3.55426657 0.71000534 4.75582307 3.97315041] \n",
      "\tE => -3.893873764884148\n",
      "\tParameters: [3.58482486 0.78250934 4.77556218 3.86443545] \n",
      "\tE => -3.9539289934749715\n",
      "\tParameters: [3.58482486 0.78250934 4.77556218 3.86443545] \n",
      "\tE => -3.931604431481208\n",
      "\tParameters: [3.53989234 0.76526637 4.7747856  3.98027166] \n",
      "\tE => -3.965873382788688\n",
      "\tParameters: [3.48679522 0.81176421 4.75883619 3.90718008] \n",
      "\tE => -3.9758139789629774\n",
      "\tParameters: [3.48679522 0.81176421 4.75883619 3.90718008] \n",
      "\tE => -3.965550409244742\n",
      "\tParameters: [3.55275206 0.74425678 4.75411793 3.94632055] \n",
      "\tE => -3.9846999504449823\n",
      "\tParameters: [3.5640221  0.77572721 4.76130696 3.9021987 ] \n",
      "\tE => -3.9874064059399594\n",
      "\tParameters: [3.56465161 0.76437332 4.73136444 3.93003415] \n",
      "\tE => -3.9909166935747895\n",
      "\tParameters: [3.56465161 0.76437332 4.73136444 3.93003415] \n",
      "\tE => -3.9857603381972737\n",
      "\tParameters: [3.5216031  0.78927607 4.75127016 3.9087336 ] \n",
      "\tE => -3.9965486204192615\n",
      "\tParameters: [3.5216031  0.78927607 4.75127016 3.9087336 ] \n",
      "\tE => -3.9951471312073883\n",
      "\tParameters: [3.5216031  0.78927607 4.75127016 3.9087336 ] \n",
      "\tE => -3.9953397121953547\n",
      "\tParameters: [3.5216031  0.78927607 4.75127016 3.9087336 ] \n",
      "\tE => -3.995981026335825\n",
      "\tParameters: [3.55077389 0.76952012 4.73583554 3.92068964] \n",
      "\tE => -3.9971469859021704\n",
      "\tParameters: [3.55077389 0.76952012 4.73583554 3.92068964] \n",
      "\tE => -3.996619990351643\n",
      "\tParameters: [3.53906339 0.77906829 4.73605406 3.90102483] \n",
      "\tE => -3.998446987400142\n",
      "\tParameters: [3.53906339 0.77906829 4.73605406 3.90102483] \n",
      "\tE => -3.998348430664281\n",
      "\tParameters: [3.54313854 0.77442496 4.72231175 3.9086408 ] \n",
      "\tE => -3.998517963380063\n",
      "\tParameters: [3.53205264 0.78362926 4.72840817 3.90452605] \n",
      "\tE => -3.998740589130236\n",
      "\tParameters: [3.5435257  0.77396833 4.73254829 3.91403698] \n",
      "\tE => -3.9988385119979695\n",
      "\tParameters: [3.53515028 0.77715818 4.73005035 3.91120137] \n",
      "\tE => -3.999053527209259\n",
      "\tParameters: [3.53787019 0.77552208 4.72060522 3.91817776] \n",
      "\tE => -3.9993271821970966\n",
      "\tParameters: [3.53787019 0.77552208 4.72060522 3.91817776] \n",
      "\tE => -3.9989873460185357\n",
      "\tParameters: [3.53787019 0.77552208 4.72060522 3.91817776] \n",
      "\tE => -3.999198277416044\n",
      "\tParameters: [3.53787019 0.77552208 4.72060522 3.91817776] \n",
      "\tE => -3.999266153246724\n",
      "\tParameters: [3.53787019 0.77552208 4.72060522 3.91817776] \n",
      "\tE => -3.9992512333042867\n"
     ]
    }
   ],
   "source": [
    "steps = 2\n",
    "inst = maxcut_qaoa(graph = square_ring, steps = steps)\n",
    "betas, gammas = inst.get_angles()"
   ]
  },
  {
   "cell_type": "code",
   "execution_count": 5,
   "metadata": {},
   "outputs": [],
   "source": [
    "t = np.hstack((betas, gammas))\n",
    "param_prog = inst.get_parameterized_program()\n",
    "prog = param_prog(t)\n",
    "wf = qvm_connection.wavefunction(prog)\n",
    "wf = wf.amplitudes"
   ]
  },
  {
   "cell_type": "code",
   "execution_count": 6,
   "metadata": {},
   "outputs": [
    {
     "name": "stdout",
     "output_type": "stream",
     "text": [
      "0000 (2.4417958237517666e-09+0j)\n",
      "0001 (2.6239959614563827e-05+0j)\n",
      "0010 (2.623995961456309e-05+0j)\n",
      "0011 (1.9940524981951058e-05+0j)\n",
      "0100 (2.6239959614563973e-05+0j)\n",
      "0101 (0.4998551566697801+0j)\n",
      "0110 (1.9940524981952166e-05+0j)\n",
      "0111 (2.6239959614563715e-05+0j)\n",
      "1000 (2.6239959614563715e-05+0j)\n",
      "1001 (1.9940524981952166e-05+0j)\n",
      "1010 (0.4998551566697801+0j)\n",
      "1011 (2.6239959614563973e-05+0j)\n",
      "1100 (1.9940524981951058e-05+0j)\n",
      "1101 (2.623995961456309e-05+0j)\n",
      "1110 (2.6239959614563827e-05+0j)\n",
      "1111 (2.4417958237517666e-09+0j)\n"
     ]
    }
   ],
   "source": [
    "for state_index in range(inst.nstates):\n",
    "    print(inst.states[state_index], np.conj(wf[state_index])*wf[state_index])"
   ]
  },
  {
   "cell_type": "markdown",
   "metadata": {},
   "source": [
    "## Attempting MIS"
   ]
  },
  {
   "cell_type": "markdown",
   "metadata": {},
   "source": [
    "From the documentation, steps would be:\n",
    "1. encoding the cost function into a set of Pauli operators\n",
    "2. instantiating the problem with pyQAOA and pyQuil\n",
    "3. retrieving ground state solution by sampling.\n",
    "\n"
   ]
  },
  {
   "cell_type": "markdown",
   "metadata": {},
   "source": [
    "### Step 1: Encoding the Cost Function"
   ]
  },
  {
   "cell_type": "markdown",
   "metadata": {},
   "source": [
    "From arXiv:1808.10816v1 [quant-ph], the variational wavefunctionn is prepared using the following hamiltonians:\n",
    "\n",
    "$$H_p = \\sum_{v \\in V} -\\Delta n_v + \\sum_{(v,w) \\in E} U n_v n_w$$\n",
    "\n",
    "$$H_Q = \\sum_{v \\in V} \\Omega \\sigma_v^x + \\sum_{(v,w) \\in E} U n_v n_w$$\n",
    "\n",
    "where $n_v = |1>_v<1| = \\frac{I - \\sigma_z}{2}$"
   ]
  },
  {
   "cell_type": "code",
   "execution_count": null,
   "metadata": {},
   "outputs": [],
   "source": [
    "import networkx as nx"
   ]
  },
  {
   "cell_type": "code",
   "execution_count": null,
   "metadata": {},
   "outputs": [],
   "source": []
  },
  {
   "cell_type": "code",
   "execution_count": null,
   "metadata": {},
   "outputs": [],
   "source": [
    "def hamil_P(graph, delta, unitary):\n",
    "    term1 = -delta*n\n",
    "    term2 = unitary*n*n        "
   ]
  },
  {
   "cell_type": "code",
   "execution_count": 5,
   "metadata": {},
   "outputs": [],
   "source": []
  },
  {
   "cell_type": "code",
   "execution_count": 15,
   "metadata": {},
   "outputs": [],
   "source": [
    "elist = [(1,7),(5,4),(2,1),(5,7)]\n",
    "g = nx.Graph()\n",
    "g.add_edges_from(elist)"
   ]
  },
  {
   "cell_type": "code",
   "execution_count": 16,
   "metadata": {},
   "outputs": [
    {
     "data": {
      "text/plain": [
       "EdgeView([(1, 7), (1, 2), (7, 5), (5, 4)])"
      ]
     },
     "execution_count": 16,
     "metadata": {},
     "output_type": "execute_result"
    }
   ],
   "source": [
    "g.edges()"
   ]
  },
  {
   "cell_type": "code",
   "execution_count": 18,
   "metadata": {},
   "outputs": [
    {
     "name": "stdout",
     "output_type": "stream",
     "text": [
      "1\n",
      "7\n",
      "5\n",
      "4\n",
      "2\n"
     ]
    }
   ],
   "source": [
    "for v in g.nodes:\n",
    "    print(v)"
   ]
  },
  {
   "cell_type": "markdown",
   "metadata": {},
   "source": [
    "### From the QAOA notebook presented in class"
   ]
  },
  {
   "cell_type": "code",
   "execution_count": 37,
   "metadata": {},
   "outputs": [],
   "source": [
    "from pyquil import Program\n",
    "from pyquil.api import WavefunctionSimulator\n",
    "from pyquil.gates import H\n",
    "from pyquil.paulis import sZ, sX, sI, exponentiate_commuting_pauli_sum\n",
    "from scipy.optimize import minimize"
   ]
  },
  {
   "cell_type": "code",
   "execution_count": 53,
   "metadata": {},
   "outputs": [],
   "source": [
    "graph = [(0, 1), (0, 2), (0, 3)]\n",
    "nodes = range(4)"
   ]
  },
  {
   "cell_type": "code",
   "execution_count": 55,
   "metadata": {},
   "outputs": [],
   "source": [
    "# init_state_prog = sum([H(i) for i in nodes], Program())\n",
    "# init_state_prog = sum([Program.reset(i) for i in nodes], Program())\n",
    "h_cost = -0.5 * sum(sI(nodes[0]) - sZ(i) * sZ(j) for i, j in graph)\n",
    "# h_driver = -1. * sum(sX(i) for i in nodes)\n",
    "h_driver = sum((sX(i) - 0.5*(sI(i) - sZ(i))) for i in nodes)"
   ]
  },
  {
   "cell_type": "code",
   "execution_count": 56,
   "metadata": {},
   "outputs": [],
   "source": [
    "def mis_ansatz(betas, gammas):\n",
    "    pq = Program()\n",
    "    pq += [exponentiate_commuting_pauli_sum(h_cost)(g) + exponentiate_commuting_pauli_sum(h_driver)(b) \n",
    "                for g, b in zip(gammas, betas)]\n",
    "    return pq"
   ]
  },
  {
   "cell_type": "code",
   "execution_count": 57,
   "metadata": {},
   "outputs": [],
   "source": [
    "def mis_cost(params):\n",
    "    half = int(len(params)/2)\n",
    "    betas, gammas = params[:half], params[half:]\n",
    "    # program = init_state_prog + qaoa_ansatz(betas, gammas)\n",
    "    program = mis_ansatz(betas, gammas)\n",
    "    return WavefunctionSimulator().expectation(prep_prog = program, pauli_terms = h_cost)"
   ]
  },
  {
   "cell_type": "code",
   "execution_count": 58,
   "metadata": {},
   "outputs": [
    {
     "name": "stdout",
     "output_type": "stream",
     "text": [
      "Optimization terminated successfully.\n",
      "         Current function value: -1.953633\n",
      "         Iterations: 218\n",
      "         Function evaluations: 383\n"
     ]
    }
   ],
   "source": [
    "result = minimize(mis_cost, x0=[0., 0.5, 0.75, 1.], method='Nelder-Mead', options={'disp': True})"
   ]
  },
  {
   "cell_type": "code",
   "execution_count": 59,
   "metadata": {},
   "outputs": [
    {
     "name": "stdout",
     "output_type": "stream",
     "text": [
      " final_simplex: (array([[-0.46749921,  0.61590941, 26.90353163,  1.18313003],\n",
      "       [-0.4674988 ,  0.61591043, 26.90350966,  1.18312996],\n",
      "       [-0.46750088,  0.61590936, 26.90362774,  1.18313082],\n",
      "       [-0.4674998 ,  0.61590933, 26.90356487,  1.18313143],\n",
      "       [-0.46749854,  0.61591034, 26.90349585,  1.18312987]]), array([-1.95363299, -1.95363299, -1.95363299, -1.95363299, -1.95363299]))\n",
      "           fun: -1.9536329949440698\n",
      "       message: 'Optimization terminated successfully.'\n",
      "          nfev: 383\n",
      "           nit: 218\n",
      "        status: 0\n",
      "       success: True\n",
      "             x: array([-0.46749921,  0.61590941, 26.90353163,  1.18313003])\n"
     ]
    }
   ],
   "source": [
    "print(result)"
   ]
  },
  {
   "cell_type": "code",
   "execution_count": 60,
   "metadata": {},
   "outputs": [],
   "source": [
    "pq = mis_ansatz([-0.46749921,  0.61590941], [26.90353163,  1.18313003])"
   ]
  },
  {
   "cell_type": "code",
   "execution_count": 62,
   "metadata": {},
   "outputs": [
    {
     "name": "stdout",
     "output_type": "stream",
     "text": [
      "-1.9536329949441211\n"
     ]
    }
   ],
   "source": [
    "print(mis_cost([-0.46749921,  0.61590941, 26.90353163,  1.18313003]))"
   ]
  },
  {
   "cell_type": "code",
   "execution_count": 63,
   "metadata": {},
   "outputs": [
    {
     "name": "stdout",
     "output_type": "stream",
     "text": [
      "(-0.0664568579+0.1103165612j)|0000> + (0.3462719847-0.3584792718j)|0001> + (-0.0200789509-0.2513479718j)|0010> + (-0.1885884408-0.1300027615j)|0011> + (-0.0200789509-0.2513479718j)|0100> + (-0.1885884408-0.1300027615j)|0101> + (-0.2068097926+0.1804638546j)|0110> + (0.098962751+0.1143867242j)|0111> + (-0.0200789509-0.2513479718j)|1000> + (-0.1885884408-0.1300027615j)|1001> + (-0.2068097926+0.1804638546j)|1010> + (0.098962751+0.1143867242j)|1011> + (-0.2068097926+0.1804638546j)|1100> + (0.098962751+0.1143867242j)|1101> + (0.2463807905-0.005593794j)|1110> + (-0.0165460518-0.1766672838j)|1111>\n"
     ]
    }
   ],
   "source": [
    "wf_sim = WavefunctionSimulator()\n",
    "pq = mis_ansatz([-0.46749921,  0.61590941], [26.90353163,  1.18313003])\n",
    "wavefunction = wf_sim.wavefunction(pq)\n",
    "print(wavefunction)"
   ]
  },
  {
   "cell_type": "code",
   "execution_count": 74,
   "metadata": {},
   "outputs": [
    {
     "name": "stdout",
     "output_type": "stream",
     "text": [
      "[-0.06645686+0.11031656j  0.34627198-0.35847927j -0.02007895-0.25134797j\n",
      " -0.18858844-0.13000276j -0.02007895-0.25134797j -0.18858844-0.13000276j\n",
      " -0.20680979+0.18046385j  0.09896275+0.11438672j -0.02007895-0.25134797j\n",
      " -0.18858844-0.13000276j -0.20680979+0.18046385j  0.09896275+0.11438672j\n",
      " -0.20680979+0.18046385j  0.09896275+0.11438672j  0.24638079-0.00559379j\n",
      " -0.01654605-0.17666728j]\n",
      "{'0000': 0.016586257630930093, '0001': 0.24841167568365083, '0010': 0.0635789672092029, '0011': 0.05246631798643215, '0100': 0.06357896720920288, '0101': 0.05246631798643216, '0110': 0.07533749312130054, '0111': 0.022877948761170133, '1000': 0.06357896720920285, '1001': 0.0524663179864322, '1010': 0.07533749312130059, '1011': 0.02287794876117014, '1100': 0.07533749312130049, '1101': 0.022877948761170133, '1110': 0.06073478444521786, '1111': 0.031485101005881505}\n",
      "0.24841167568365083\n"
     ]
    }
   ],
   "source": [
    "# The amplitudes are stored as a numpy array on the Wavefunction object\n",
    "print(wavefunction.amplitudes)\n",
    "prob_dict = wavefunction.get_outcome_probs() # extracts the probabilities of outcomes as a dict\n",
    "print(prob_dict)\n",
    "print(max(prob_dict.values()))"
   ]
  },
  {
   "cell_type": "code",
   "execution_count": 76,
   "metadata": {},
   "outputs": [
    {
     "name": "stdout",
     "output_type": "stream",
     "text": [
      "('0001', 0.24841167568365083)\n"
     ]
    }
   ],
   "source": [
    "import operator\n",
    "sorted_dict = sorted(prob_dict.items(), key = operator.itemgetter(1))\n",
    "print(sorted_dict[len(prob_dict)-1])"
   ]
  },
  {
   "cell_type": "code",
   "execution_count": null,
   "metadata": {},
   "outputs": [],
   "source": []
  }
 ],
 "metadata": {
  "kernelspec": {
   "display_name": "Python 3",
   "language": "python",
   "name": "python3"
  },
  "language_info": {
   "codemirror_mode": {
    "name": "ipython",
    "version": 3
   },
   "file_extension": ".py",
   "mimetype": "text/x-python",
   "name": "python",
   "nbconvert_exporter": "python",
   "pygments_lexer": "ipython3",
   "version": "3.7.3"
  }
 },
 "nbformat": 4,
 "nbformat_minor": 2
}
